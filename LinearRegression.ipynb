{
 "cells": [
  {
   "cell_type": "markdown",
   "metadata": {},
   "source": [
    "# Read df of correlations (Dep. variable)"
   ]
  },
  {
   "cell_type": "code",
   "execution_count": 1,
   "metadata": {},
   "outputs": [],
   "source": [
    "import pandas as pd\n",
    "import scipy.stats as stats\n",
    "import seaborn as sns\n",
    "import matplotlib.pyplot as plt\n",
    "import numpy as np"
   ]
  },
  {
   "cell_type": "code",
   "execution_count": 2,
   "metadata": {},
   "outputs": [],
   "source": [
    "df_infra_euairlines = pd.read_csv(\"./HeatmapsSaved/Infra-EUAirlines-CorrelationWithMV+Only.csv\", index_col=0)\n",
    "list_infra_euairlines = []\n",
    "for i in df_infra_euairlines.values.tolist(): # It will go row by row\n",
    "    for j in i:\n",
    "        list_infra_euairlines.append(round(j, 3))"
   ]
  },
  {
   "cell_type": "code",
   "execution_count": 3,
   "metadata": {},
   "outputs": [],
   "source": [
    "df_osn_egofacebook = pd.read_csv(\"./HeatmapsSaved/OSN-EgoFacebook-CorrelationWithMV+Only.csv\", index_col=0)\n",
    "list_osn_egofacebook = []\n",
    "for i in df_osn_egofacebook.values.tolist(): # It will go row by row\n",
    "    for j in i:\n",
    "        list_osn_egofacebook.append(round(j, 3))"
   ]
  },
  {
   "cell_type": "code",
   "execution_count": 4,
   "metadata": {},
   "outputs": [],
   "source": [
    "df_infra_usairports = pd.read_csv(\"./HeatmapsSaved/Infra-USAirports-CorrelationWithMV+Only.csv\", index_col=0)\n",
    "list_infra_usairports = []\n",
    "for i in df_infra_usairports.values.tolist(): # It will go row by row\n",
    "    for j in i:\n",
    "        list_infra_usairports.append(round(j, 3))"
   ]
  },
  {
   "cell_type": "code",
   "execution_count": 5,
   "metadata": {},
   "outputs": [],
   "source": [
    "df_osn_facebookpoliticianpages = pd.read_csv(\"./HeatmapsSaved/OSN-FBPoliticianPages-CorrelationWithMV+Only.csv\", index_col=0)\n",
    "list_osn_facebookpoliticianpages = []\n",
    "for i in df_osn_facebookpoliticianpages.values.tolist(): # It will go row by row\n",
    "    for j in i:\n",
    "        list_osn_facebookpoliticianpages.append(round(j, 3))"
   ]
  },
  {
   "cell_type": "code",
   "execution_count": 6,
   "metadata": {},
   "outputs": [],
   "source": [
    "df_osn_facebookfriends = pd.read_csv(\"./HeatmapsSaved/OSN-FacebookFriends-CorrelationWithMV+Only.csv\", index_col=0)\n",
    "list_osn_facebookfriends = []\n",
    "for i in df_osn_facebookfriends.values.tolist(): # It will go row by row\n",
    "    for j in i:\n",
    "        list_osn_facebookfriends.append(round(j, 3))"
   ]
  },
  {
   "cell_type": "code",
   "execution_count": 7,
   "metadata": {},
   "outputs": [],
   "source": [
    "df_bio_yeastcollins = pd.read_csv(\"./HeatmapsSaved/Bio-YeastCollins-CorrelationWithMV+Only.csv\", index_col=0)\n",
    "list_bio_yeastcollins = []\n",
    "for i in df_bio_yeastcollins.values.tolist(): # It will go row by row\n",
    "    for j in i:\n",
    "        list_bio_yeastcollins.append(round(j, 3))"
   ]
  },
  {
   "cell_type": "code",
   "execution_count": 8,
   "metadata": {},
   "outputs": [],
   "source": [
    "#df_misc_911AllWords = pd.read_csv(\"./HeatmapsSaved/Misc-911AllWords-Correlation.csv\", index_col=0)\n",
    "#list_misc_911AllWords = []\n",
    "#for i in df_misc_911AllWords.values.tolist(): # It will go row by row\n",
    "#    for j in i:\n",
    "#        list_misc_911AllWords.append(round(j, 3))"
   ]
  },
  {
   "cell_type": "code",
   "execution_count": 9,
   "metadata": {},
   "outputs": [],
   "source": [
    "df_infra_uspowergrid = pd.read_csv(\"./HeatmapsSaved/Infra-USPowerGrid-CorrelationWithMV+Only.csv\", index_col=0)\n",
    "list_infra_uspowergrid = []\n",
    "for i in df_infra_uspowergrid.values.tolist(): # It will go row by row\n",
    "    for j in i:\n",
    "        list_infra_uspowergrid.append(round(j, 3))"
   ]
  },
  {
   "cell_type": "code",
   "execution_count": 10,
   "metadata": {},
   "outputs": [],
   "source": [
    "df_misc_dncemails = pd.read_csv(\"./HeatmapsSaved/Misc-DNCEmails-CorrelationWithMV+Only.csv\", index_col=0)\n",
    "list_misc_dncemails = []\n",
    "for i in df_misc_dncemails.values.tolist(): # It will go row by row\n",
    "    for j in i:\n",
    "        list_misc_dncemails.append(round(j, 3))"
   ]
  },
  {
   "cell_type": "code",
   "execution_count": 11,
   "metadata": {},
   "outputs": [],
   "source": [
    "df_bio_yeastprotein = pd.read_csv(\"./HeatmapsSaved/Bio-YeastProtein-CorrelationWithMV+Only.csv\", index_col=0)\n",
    "list_bio_yeastprotein = []\n",
    "for i in df_bio_yeastprotein.values.tolist(): # It will go row by row\n",
    "    for j in i:\n",
    "        list_bio_yeastprotein.append(round(j, 3))"
   ]
  },
  {
   "cell_type": "code",
   "execution_count": 12,
   "metadata": {},
   "outputs": [],
   "source": [
    "df_osn_hamsterster = pd.read_csv(\"./HeatmapsSaved/OSN-Hamsterster-CorrelationWithMV+Only.csv\", index_col=0)\n",
    "list_osn_hamsterster = []\n",
    "for i in df_osn_hamsterster.values.tolist(): # It will go row by row\n",
    "    for j in i:\n",
    "        list_osn_hamsterster.append(round(j, 3))"
   ]
  },
  {
   "cell_type": "code",
   "execution_count": 13,
   "metadata": {},
   "outputs": [],
   "source": [
    "df_osn_princeton = pd.read_csv(\"./HeatmapsSaved/OSN-Princeton-CorrelationWithMV+Only.csv\", index_col=0)\n",
    "list_osn_princeton = []\n",
    "for i in df_osn_princeton.values.tolist(): # It will go row by row\n",
    "    for j in i:\n",
    "        list_osn_princeton.append(round(j, 3))"
   ]
  },
  {
   "cell_type": "code",
   "execution_count": 14,
   "metadata": {},
   "outputs": [],
   "source": [
    "df_osn_facebookorganizations = pd.read_csv(\"./HeatmapsSaved/OSN-FacebookOrganizations-CorrelationWithMV+Only.csv\", index_col=0)\n",
    "list_osn_facebookorganizations = []\n",
    "for i in df_osn_facebookorganizations.values.tolist(): # It will go row by row\n",
    "    for j in i:\n",
    "        list_osn_facebookorganizations.append(round(j, 3))"
   ]
  },
  {
   "cell_type": "code",
   "execution_count": 15,
   "metadata": {},
   "outputs": [],
   "source": [
    "df_osn_caltech = pd.read_csv(\"./HeatmapsSaved/OSN-FBCaltech-CorrelationWithMV+Only.csv\", index_col=0)\n",
    "list_osn_caltech = []\n",
    "for i in df_osn_caltech.values.tolist(): # It will go row by row\n",
    "    for j in i:\n",
    "        list_osn_caltech.append(round(j, 3))"
   ]
  },
  {
   "cell_type": "code",
   "execution_count": 16,
   "metadata": {},
   "outputs": [],
   "source": [
    "df_osn_deezereu = pd.read_csv(\"./HeatmapsSaved/OSN-DeezerEU-CorrelationWithMV+Only.csv\", index_col=0)\n",
    "list_osn_deezereu = []\n",
    "for i in df_osn_deezereu.values.tolist(): # It will go row by row\n",
    "    for j in i:\n",
    "        list_osn_deezereu.append(round(j, 3))"
   ]
  },
  {
   "cell_type": "code",
   "execution_count": 17,
   "metadata": {},
   "outputs": [],
   "source": [
    "df_humansocial_adolescenthealth = pd.read_csv(\"./HeatmapsSaved/HumanSocial-AdolescentHealth-CorrelationWithMV+Only.csv\", index_col=0)\n",
    "list_humansocial_adolescenthealth = []\n",
    "for i in df_humansocial_adolescenthealth.values.tolist(): # It will go row by row\n",
    "    for j in i:\n",
    "        list_humansocial_adolescenthealth.append(round(j, 3))"
   ]
  },
  {
   "cell_type": "code",
   "execution_count": 18,
   "metadata": {
    "scrolled": true
   },
   "outputs": [
    {
     "data": {
      "text/plain": [
       "49"
      ]
     },
     "execution_count": 18,
     "metadata": {},
     "output_type": "execute_result"
    }
   ],
   "source": [
    "len(list_humansocial_adolescenthealth)"
   ]
  },
  {
   "cell_type": "markdown",
   "metadata": {},
   "source": [
    "## Getting the lower triangle ⛛ "
   ]
  },
  {
   "cell_type": "markdown",
   "metadata": {},
   "source": [
    "### Infra - EU Airlines"
   ]
  },
  {
   "cell_type": "code",
   "execution_count": 19,
   "metadata": {},
   "outputs": [],
   "source": [
    "df_infra_euairlines = df_infra_euairlines.drop(['ModV-PosToNeg'], axis=1)\n",
    "df_infra_euairlines = df_infra_euairlines.drop(['ModV-PosToNeg'], axis=0)"
   ]
  },
  {
   "cell_type": "code",
   "execution_count": 20,
   "metadata": {},
   "outputs": [
    {
     "data": {
      "text/plain": [
       "15"
      ]
     },
     "execution_count": 20,
     "metadata": {},
     "output_type": "execute_result"
    }
   ],
   "source": [
    "arr = df_infra_euairlines.to_numpy() # Covert to numpy\n",
    "arr = np.tril(arr, -1) # Get the lower triangle\n",
    "arr_no_0 = arr[np.where(arr!=0)] # Get the non-zero values\n",
    "np.count_nonzero(arr_no_0)"
   ]
  },
  {
   "cell_type": "code",
   "execution_count": 21,
   "metadata": {
    "scrolled": true
   },
   "outputs": [
    {
     "data": {
      "text/html": [
       "<div>\n",
       "<style scoped>\n",
       "    .dataframe tbody tr th:only-of-type {\n",
       "        vertical-align: middle;\n",
       "    }\n",
       "\n",
       "    .dataframe tbody tr th {\n",
       "        vertical-align: top;\n",
       "    }\n",
       "\n",
       "    .dataframe thead th {\n",
       "        text-align: right;\n",
       "    }\n",
       "</style>\n",
       "<table border=\"1\" class=\"dataframe\">\n",
       "  <thead>\n",
       "    <tr style=\"text-align: right;\">\n",
       "      <th></th>\n",
       "      <th>Infra-EUAirlines</th>\n",
       "    </tr>\n",
       "  </thead>\n",
       "  <tbody>\n",
       "    <tr>\n",
       "      <th>count</th>\n",
       "      <td>15.000000</td>\n",
       "    </tr>\n",
       "    <tr>\n",
       "      <th>mean</th>\n",
       "      <td>0.241601</td>\n",
       "    </tr>\n",
       "    <tr>\n",
       "      <th>std</th>\n",
       "      <td>0.466817</td>\n",
       "    </tr>\n",
       "    <tr>\n",
       "      <th>min</th>\n",
       "      <td>-0.636272</td>\n",
       "    </tr>\n",
       "    <tr>\n",
       "      <th>25%</th>\n",
       "      <td>0.029084</td>\n",
       "    </tr>\n",
       "    <tr>\n",
       "      <th>50%</th>\n",
       "      <td>0.351990</td>\n",
       "    </tr>\n",
       "    <tr>\n",
       "      <th>75%</th>\n",
       "      <td>0.539490</td>\n",
       "    </tr>\n",
       "    <tr>\n",
       "      <th>max</th>\n",
       "      <td>0.808999</td>\n",
       "    </tr>\n",
       "  </tbody>\n",
       "</table>\n",
       "</div>"
      ],
      "text/plain": [
       "       Infra-EUAirlines\n",
       "count         15.000000\n",
       "mean           0.241601\n",
       "std            0.466817\n",
       "min           -0.636272\n",
       "25%            0.029084\n",
       "50%            0.351990\n",
       "75%            0.539490\n",
       "max            0.808999"
      ]
     },
     "execution_count": 21,
     "metadata": {},
     "output_type": "execute_result"
    }
   ],
   "source": [
    "df_infra_euairlines_lower_triangle = pd.DataFrame(arr_no_0, columns=[\"Infra-EUAirlines\"])\n",
    "desc = df_infra_euairlines_lower_triangle.describe()\n",
    "desc"
   ]
  },
  {
   "cell_type": "code",
   "execution_count": 22,
   "metadata": {},
   "outputs": [],
   "source": [
    "mean_infra_euairlines = desc.loc[[\"mean\"]]\n",
    "mean_infra_euairlines = mean_infra_euairlines.to_numpy()"
   ]
  },
  {
   "cell_type": "code",
   "execution_count": 23,
   "metadata": {
    "scrolled": true
   },
   "outputs": [
    {
     "data": {
      "text/plain": [
       "0.242"
      ]
     },
     "execution_count": 23,
     "metadata": {},
     "output_type": "execute_result"
    }
   ],
   "source": [
    "mean_infra_euairlines = mean_infra_euairlines.tolist()\n",
    "mean_infra_euairlines = round(mean_infra_euairlines[0][0],3)\n",
    "mean_infra_euairlines"
   ]
  },
  {
   "cell_type": "code",
   "execution_count": 24,
   "metadata": {},
   "outputs": [
    {
     "data": {
      "text/plain": [
       "0.467"
      ]
     },
     "execution_count": 24,
     "metadata": {},
     "output_type": "execute_result"
    }
   ],
   "source": [
    "std_infra_euairlines = desc.loc[[\"std\"]]\n",
    "std_infra_euairlines = std_infra_euairlines.to_numpy()\n",
    "std_infra_euairlines = std_infra_euairlines.tolist()\n",
    "std_infra_euairlines = round(std_infra_euairlines[0][0],3)\n",
    "std_infra_euairlines"
   ]
  },
  {
   "cell_type": "markdown",
   "metadata": {},
   "source": [
    "### OSN - Ego Facebook"
   ]
  },
  {
   "cell_type": "code",
   "execution_count": 25,
   "metadata": {},
   "outputs": [],
   "source": [
    "df_osn_egofacebook = df_osn_egofacebook.drop(['ModV-PosToNeg'], axis=1)\n",
    "df_osn_egofacebook = df_osn_egofacebook.drop(['ModV-PosToNeg'], axis=0)"
   ]
  },
  {
   "cell_type": "code",
   "execution_count": 26,
   "metadata": {},
   "outputs": [
    {
     "data": {
      "text/plain": [
       "15"
      ]
     },
     "execution_count": 26,
     "metadata": {},
     "output_type": "execute_result"
    }
   ],
   "source": [
    "arr = df_osn_egofacebook.to_numpy() # Covert to numpy\n",
    "arr = np.tril(arr, -1) # Get the lower triangle\n",
    "arr_no_0 = arr[np.where(arr!=0)] # Get the non-zero values\n",
    "np.count_nonzero(arr_no_0)"
   ]
  },
  {
   "cell_type": "code",
   "execution_count": 27,
   "metadata": {
    "scrolled": false
   },
   "outputs": [
    {
     "data": {
      "text/html": [
       "<div>\n",
       "<style scoped>\n",
       "    .dataframe tbody tr th:only-of-type {\n",
       "        vertical-align: middle;\n",
       "    }\n",
       "\n",
       "    .dataframe tbody tr th {\n",
       "        vertical-align: top;\n",
       "    }\n",
       "\n",
       "    .dataframe thead th {\n",
       "        text-align: right;\n",
       "    }\n",
       "</style>\n",
       "<table border=\"1\" class=\"dataframe\">\n",
       "  <thead>\n",
       "    <tr style=\"text-align: right;\">\n",
       "      <th></th>\n",
       "      <th>OSN-EgoFacebook</th>\n",
       "    </tr>\n",
       "  </thead>\n",
       "  <tbody>\n",
       "    <tr>\n",
       "      <th>count</th>\n",
       "      <td>15.000000</td>\n",
       "    </tr>\n",
       "    <tr>\n",
       "      <th>mean</th>\n",
       "      <td>0.182693</td>\n",
       "    </tr>\n",
       "    <tr>\n",
       "      <th>std</th>\n",
       "      <td>0.334664</td>\n",
       "    </tr>\n",
       "    <tr>\n",
       "      <th>min</th>\n",
       "      <td>-0.307754</td>\n",
       "    </tr>\n",
       "    <tr>\n",
       "      <th>25%</th>\n",
       "      <td>-0.084682</td>\n",
       "    </tr>\n",
       "    <tr>\n",
       "      <th>50%</th>\n",
       "      <td>0.235535</td>\n",
       "    </tr>\n",
       "    <tr>\n",
       "      <th>75%</th>\n",
       "      <td>0.432061</td>\n",
       "    </tr>\n",
       "    <tr>\n",
       "      <th>max</th>\n",
       "      <td>0.738092</td>\n",
       "    </tr>\n",
       "  </tbody>\n",
       "</table>\n",
       "</div>"
      ],
      "text/plain": [
       "       OSN-EgoFacebook\n",
       "count        15.000000\n",
       "mean          0.182693\n",
       "std           0.334664\n",
       "min          -0.307754\n",
       "25%          -0.084682\n",
       "50%           0.235535\n",
       "75%           0.432061\n",
       "max           0.738092"
      ]
     },
     "execution_count": 27,
     "metadata": {},
     "output_type": "execute_result"
    }
   ],
   "source": [
    "x = pd.DataFrame(arr_no_0, columns=[\"OSN-EgoFacebook\"])\n",
    "desc = x.describe()\n",
    "desc"
   ]
  },
  {
   "cell_type": "code",
   "execution_count": 28,
   "metadata": {},
   "outputs": [],
   "source": [
    "x = desc.loc[[\"mean\"]]\n",
    "x = x.to_numpy()"
   ]
  },
  {
   "cell_type": "code",
   "execution_count": 29,
   "metadata": {
    "scrolled": true
   },
   "outputs": [
    {
     "data": {
      "text/plain": [
       "0.183"
      ]
     },
     "execution_count": 29,
     "metadata": {},
     "output_type": "execute_result"
    }
   ],
   "source": [
    "x = x.tolist()\n",
    "mean_osn_egofacebook = round(x[0][0],3)\n",
    "mean_osn_egofacebook"
   ]
  },
  {
   "cell_type": "code",
   "execution_count": 30,
   "metadata": {},
   "outputs": [
    {
     "data": {
      "text/plain": [
       "0.335"
      ]
     },
     "execution_count": 30,
     "metadata": {},
     "output_type": "execute_result"
    }
   ],
   "source": [
    "std_osn_egofacebook = desc.loc[[\"std\"]]\n",
    "std_osn_egofacebook = std_osn_egofacebook.to_numpy()\n",
    "std_osn_egofacebook = std_osn_egofacebook.tolist()\n",
    "std_osn_egofacebook = round(std_osn_egofacebook[0][0],3)\n",
    "std_osn_egofacebook"
   ]
  },
  {
   "cell_type": "markdown",
   "metadata": {},
   "source": [
    "### Infra - US Airports"
   ]
  },
  {
   "cell_type": "code",
   "execution_count": 31,
   "metadata": {},
   "outputs": [],
   "source": [
    "df_infra_usairports = df_infra_usairports.drop(['ModV-PosToNeg'], axis=1)\n",
    "df_infra_usairports = df_infra_usairports.drop(['ModV-PosToNeg'], axis=0)"
   ]
  },
  {
   "cell_type": "code",
   "execution_count": 32,
   "metadata": {},
   "outputs": [
    {
     "data": {
      "text/plain": [
       "15"
      ]
     },
     "execution_count": 32,
     "metadata": {},
     "output_type": "execute_result"
    }
   ],
   "source": [
    "arr = df_infra_usairports.to_numpy() # Covert to numpy\n",
    "arr = np.tril(arr, -1) # Get the lower triangle\n",
    "arr_no_0 = arr[np.where(arr!=0)] # Get the non-zero values\n",
    "np.count_nonzero(arr_no_0)"
   ]
  },
  {
   "cell_type": "code",
   "execution_count": 33,
   "metadata": {
    "scrolled": true
   },
   "outputs": [
    {
     "data": {
      "text/html": [
       "<div>\n",
       "<style scoped>\n",
       "    .dataframe tbody tr th:only-of-type {\n",
       "        vertical-align: middle;\n",
       "    }\n",
       "\n",
       "    .dataframe tbody tr th {\n",
       "        vertical-align: top;\n",
       "    }\n",
       "\n",
       "    .dataframe thead th {\n",
       "        text-align: right;\n",
       "    }\n",
       "</style>\n",
       "<table border=\"1\" class=\"dataframe\">\n",
       "  <thead>\n",
       "    <tr style=\"text-align: right;\">\n",
       "      <th></th>\n",
       "      <th>0</th>\n",
       "    </tr>\n",
       "  </thead>\n",
       "  <tbody>\n",
       "    <tr>\n",
       "      <th>count</th>\n",
       "      <td>15.000000</td>\n",
       "    </tr>\n",
       "    <tr>\n",
       "      <th>mean</th>\n",
       "      <td>0.190142</td>\n",
       "    </tr>\n",
       "    <tr>\n",
       "      <th>std</th>\n",
       "      <td>0.407791</td>\n",
       "    </tr>\n",
       "    <tr>\n",
       "      <th>min</th>\n",
       "      <td>-0.587227</td>\n",
       "    </tr>\n",
       "    <tr>\n",
       "      <th>25%</th>\n",
       "      <td>0.095290</td>\n",
       "    </tr>\n",
       "    <tr>\n",
       "      <th>50%</th>\n",
       "      <td>0.239873</td>\n",
       "    </tr>\n",
       "    <tr>\n",
       "      <th>75%</th>\n",
       "      <td>0.454523</td>\n",
       "    </tr>\n",
       "    <tr>\n",
       "      <th>max</th>\n",
       "      <td>0.740575</td>\n",
       "    </tr>\n",
       "  </tbody>\n",
       "</table>\n",
       "</div>"
      ],
      "text/plain": [
       "               0\n",
       "count  15.000000\n",
       "mean    0.190142\n",
       "std     0.407791\n",
       "min    -0.587227\n",
       "25%     0.095290\n",
       "50%     0.239873\n",
       "75%     0.454523\n",
       "max     0.740575"
      ]
     },
     "execution_count": 33,
     "metadata": {},
     "output_type": "execute_result"
    }
   ],
   "source": [
    "x = pd.DataFrame(arr_no_0)\n",
    "desc = x.describe()\n",
    "desc"
   ]
  },
  {
   "cell_type": "code",
   "execution_count": 34,
   "metadata": {},
   "outputs": [],
   "source": [
    "x = desc.loc[[\"mean\"]]\n",
    "x = x.to_numpy()"
   ]
  },
  {
   "cell_type": "code",
   "execution_count": 35,
   "metadata": {
    "scrolled": true
   },
   "outputs": [
    {
     "data": {
      "text/plain": [
       "0.19"
      ]
     },
     "execution_count": 35,
     "metadata": {},
     "output_type": "execute_result"
    }
   ],
   "source": [
    "x = x.tolist()\n",
    "mean_infra_usairports = round(x[0][0],3)\n",
    "mean_infra_usairports"
   ]
  },
  {
   "cell_type": "code",
   "execution_count": 36,
   "metadata": {},
   "outputs": [
    {
     "data": {
      "text/plain": [
       "0.408"
      ]
     },
     "execution_count": 36,
     "metadata": {},
     "output_type": "execute_result"
    }
   ],
   "source": [
    "std_infra_usairports = desc.loc[[\"std\"]]\n",
    "std_infra_usairports = std_infra_usairports.to_numpy()\n",
    "std_infra_usairports = std_infra_usairports.tolist()\n",
    "std_infra_usairports = round(std_infra_usairports[0][0],3)\n",
    "std_infra_usairports"
   ]
  },
  {
   "cell_type": "markdown",
   "metadata": {},
   "source": [
    "### OSN - Facebook Pol Pages"
   ]
  },
  {
   "cell_type": "code",
   "execution_count": 37,
   "metadata": {},
   "outputs": [],
   "source": [
    "df_osn_facebookpoliticianpages = df_osn_facebookpoliticianpages.drop(['ModV-PosToNeg'], axis=1)\n",
    "df_osn_facebookpoliticianpages = df_osn_facebookpoliticianpages.drop(['ModV-PosToNeg'], axis=0)"
   ]
  },
  {
   "cell_type": "code",
   "execution_count": 38,
   "metadata": {},
   "outputs": [
    {
     "data": {
      "text/plain": [
       "15"
      ]
     },
     "execution_count": 38,
     "metadata": {},
     "output_type": "execute_result"
    }
   ],
   "source": [
    "arr = df_osn_facebookpoliticianpages.to_numpy() # Covert to numpy\n",
    "arr = np.tril(arr, -1) # Get the lower triangle\n",
    "arr_no_0 = arr[np.where(arr!=0)] # Get the non-zero values\n",
    "np.count_nonzero(arr_no_0)"
   ]
  },
  {
   "cell_type": "code",
   "execution_count": 39,
   "metadata": {
    "scrolled": true
   },
   "outputs": [
    {
     "data": {
      "text/html": [
       "<div>\n",
       "<style scoped>\n",
       "    .dataframe tbody tr th:only-of-type {\n",
       "        vertical-align: middle;\n",
       "    }\n",
       "\n",
       "    .dataframe tbody tr th {\n",
       "        vertical-align: top;\n",
       "    }\n",
       "\n",
       "    .dataframe thead th {\n",
       "        text-align: right;\n",
       "    }\n",
       "</style>\n",
       "<table border=\"1\" class=\"dataframe\">\n",
       "  <thead>\n",
       "    <tr style=\"text-align: right;\">\n",
       "      <th></th>\n",
       "      <th>0</th>\n",
       "    </tr>\n",
       "  </thead>\n",
       "  <tbody>\n",
       "    <tr>\n",
       "      <th>count</th>\n",
       "      <td>15.000000</td>\n",
       "    </tr>\n",
       "    <tr>\n",
       "      <th>mean</th>\n",
       "      <td>0.279407</td>\n",
       "    </tr>\n",
       "    <tr>\n",
       "      <th>std</th>\n",
       "      <td>0.281292</td>\n",
       "    </tr>\n",
       "    <tr>\n",
       "      <th>min</th>\n",
       "      <td>-0.302526</td>\n",
       "    </tr>\n",
       "    <tr>\n",
       "      <th>25%</th>\n",
       "      <td>0.093533</td>\n",
       "    </tr>\n",
       "    <tr>\n",
       "      <th>50%</th>\n",
       "      <td>0.282668</td>\n",
       "    </tr>\n",
       "    <tr>\n",
       "      <th>75%</th>\n",
       "      <td>0.462637</td>\n",
       "    </tr>\n",
       "    <tr>\n",
       "      <th>max</th>\n",
       "      <td>0.723009</td>\n",
       "    </tr>\n",
       "  </tbody>\n",
       "</table>\n",
       "</div>"
      ],
      "text/plain": [
       "               0\n",
       "count  15.000000\n",
       "mean    0.279407\n",
       "std     0.281292\n",
       "min    -0.302526\n",
       "25%     0.093533\n",
       "50%     0.282668\n",
       "75%     0.462637\n",
       "max     0.723009"
      ]
     },
     "execution_count": 39,
     "metadata": {},
     "output_type": "execute_result"
    }
   ],
   "source": [
    "x = pd.DataFrame(arr_no_0)\n",
    "desc = x.describe()\n",
    "desc"
   ]
  },
  {
   "cell_type": "code",
   "execution_count": 40,
   "metadata": {},
   "outputs": [],
   "source": [
    "x = desc.loc[[\"mean\"]]\n",
    "x = x.to_numpy()"
   ]
  },
  {
   "cell_type": "code",
   "execution_count": 41,
   "metadata": {
    "scrolled": true
   },
   "outputs": [
    {
     "data": {
      "text/plain": [
       "0.279"
      ]
     },
     "execution_count": 41,
     "metadata": {},
     "output_type": "execute_result"
    }
   ],
   "source": [
    "x = x.tolist()\n",
    "mean_osn_facebookpoliticianpages = round(x[0][0],3)\n",
    "mean_osn_facebookpoliticianpages"
   ]
  },
  {
   "cell_type": "code",
   "execution_count": 42,
   "metadata": {},
   "outputs": [
    {
     "data": {
      "text/plain": [
       "0.281"
      ]
     },
     "execution_count": 42,
     "metadata": {},
     "output_type": "execute_result"
    }
   ],
   "source": [
    "std_osn_facebookpoliticianpages = desc.loc[[\"std\"]]\n",
    "std_osn_facebookpoliticianpages = std_osn_facebookpoliticianpages.to_numpy()\n",
    "std_osn_facebookpoliticianpages = std_osn_facebookpoliticianpages.tolist()\n",
    "std_osn_facebookpoliticianpages = round(std_osn_facebookpoliticianpages[0][0],3)\n",
    "std_osn_facebookpoliticianpages"
   ]
  },
  {
   "cell_type": "markdown",
   "metadata": {},
   "source": [
    "### OSN - Facebook Friends"
   ]
  },
  {
   "cell_type": "code",
   "execution_count": 43,
   "metadata": {},
   "outputs": [],
   "source": [
    "df_osn_facebookfriends = df_osn_facebookfriends.drop(['ModV-PosToNeg'], axis=1)\n",
    "df_osn_facebookfriends = df_osn_facebookfriends.drop(['ModV-PosToNeg'], axis=0)"
   ]
  },
  {
   "cell_type": "code",
   "execution_count": 44,
   "metadata": {},
   "outputs": [
    {
     "data": {
      "text/plain": [
       "15"
      ]
     },
     "execution_count": 44,
     "metadata": {},
     "output_type": "execute_result"
    }
   ],
   "source": [
    "arr = df_osn_facebookfriends.to_numpy() # Covert to numpy\n",
    "arr = np.tril(arr, -1) # Get the lower triangle\n",
    "arr_no_0 = arr[np.where(arr!=0)] # Get the non-zero values\n",
    "np.count_nonzero(arr_no_0)"
   ]
  },
  {
   "cell_type": "code",
   "execution_count": 45,
   "metadata": {
    "scrolled": true
   },
   "outputs": [
    {
     "data": {
      "text/html": [
       "<div>\n",
       "<style scoped>\n",
       "    .dataframe tbody tr th:only-of-type {\n",
       "        vertical-align: middle;\n",
       "    }\n",
       "\n",
       "    .dataframe tbody tr th {\n",
       "        vertical-align: top;\n",
       "    }\n",
       "\n",
       "    .dataframe thead th {\n",
       "        text-align: right;\n",
       "    }\n",
       "</style>\n",
       "<table border=\"1\" class=\"dataframe\">\n",
       "  <thead>\n",
       "    <tr style=\"text-align: right;\">\n",
       "      <th></th>\n",
       "      <th>0</th>\n",
       "    </tr>\n",
       "  </thead>\n",
       "  <tbody>\n",
       "    <tr>\n",
       "      <th>count</th>\n",
       "      <td>15.000000</td>\n",
       "    </tr>\n",
       "    <tr>\n",
       "      <th>mean</th>\n",
       "      <td>0.274432</td>\n",
       "    </tr>\n",
       "    <tr>\n",
       "      <th>std</th>\n",
       "      <td>0.293452</td>\n",
       "    </tr>\n",
       "    <tr>\n",
       "      <th>min</th>\n",
       "      <td>-0.187812</td>\n",
       "    </tr>\n",
       "    <tr>\n",
       "      <th>25%</th>\n",
       "      <td>0.034907</td>\n",
       "    </tr>\n",
       "    <tr>\n",
       "      <th>50%</th>\n",
       "      <td>0.207272</td>\n",
       "    </tr>\n",
       "    <tr>\n",
       "      <th>75%</th>\n",
       "      <td>0.502298</td>\n",
       "    </tr>\n",
       "    <tr>\n",
       "      <th>max</th>\n",
       "      <td>0.760734</td>\n",
       "    </tr>\n",
       "  </tbody>\n",
       "</table>\n",
       "</div>"
      ],
      "text/plain": [
       "               0\n",
       "count  15.000000\n",
       "mean    0.274432\n",
       "std     0.293452\n",
       "min    -0.187812\n",
       "25%     0.034907\n",
       "50%     0.207272\n",
       "75%     0.502298\n",
       "max     0.760734"
      ]
     },
     "execution_count": 45,
     "metadata": {},
     "output_type": "execute_result"
    }
   ],
   "source": [
    "x = pd.DataFrame(arr_no_0)\n",
    "desc = x.describe()\n",
    "desc"
   ]
  },
  {
   "cell_type": "code",
   "execution_count": 46,
   "metadata": {},
   "outputs": [],
   "source": [
    "x = desc.loc[[\"mean\"]]\n",
    "x = x.to_numpy()"
   ]
  },
  {
   "cell_type": "code",
   "execution_count": 47,
   "metadata": {
    "scrolled": true
   },
   "outputs": [
    {
     "data": {
      "text/plain": [
       "0.274"
      ]
     },
     "execution_count": 47,
     "metadata": {},
     "output_type": "execute_result"
    }
   ],
   "source": [
    "x = x.tolist()\n",
    "mean_osn_facebookfriends = round(x[0][0],3)\n",
    "mean_osn_facebookfriends"
   ]
  },
  {
   "cell_type": "code",
   "execution_count": 48,
   "metadata": {},
   "outputs": [
    {
     "data": {
      "text/plain": [
       "0.293"
      ]
     },
     "execution_count": 48,
     "metadata": {},
     "output_type": "execute_result"
    }
   ],
   "source": [
    "std_osn_facebookfriends = desc.loc[[\"std\"]]\n",
    "std_osn_facebookfriends = std_osn_facebookfriends.to_numpy()\n",
    "std_osn_facebookfriends = std_osn_facebookfriends.tolist()\n",
    "std_osn_facebookfriends = round(std_osn_facebookfriends[0][0],3)\n",
    "std_osn_facebookfriends"
   ]
  },
  {
   "cell_type": "markdown",
   "metadata": {},
   "source": [
    "### Bio - Yeast Collins"
   ]
  },
  {
   "cell_type": "code",
   "execution_count": 49,
   "metadata": {},
   "outputs": [],
   "source": [
    "df_bio_yeastcollins = df_bio_yeastcollins.drop(['ModV-PosToNeg'], axis=1)\n",
    "df_bio_yeastcollins = df_bio_yeastcollins.drop(['ModV-PosToNeg'], axis=0)"
   ]
  },
  {
   "cell_type": "code",
   "execution_count": 50,
   "metadata": {},
   "outputs": [
    {
     "data": {
      "text/plain": [
       "15"
      ]
     },
     "execution_count": 50,
     "metadata": {},
     "output_type": "execute_result"
    }
   ],
   "source": [
    "arr = df_bio_yeastcollins.to_numpy() # Covert to numpy\n",
    "arr = np.tril(arr, -1) # Get the lower triangle\n",
    "arr_no_0 = arr[np.where(arr!=0)] # Get the non-zero values\n",
    "np.count_nonzero(arr_no_0)"
   ]
  },
  {
   "cell_type": "code",
   "execution_count": 51,
   "metadata": {
    "scrolled": true
   },
   "outputs": [
    {
     "data": {
      "text/html": [
       "<div>\n",
       "<style scoped>\n",
       "    .dataframe tbody tr th:only-of-type {\n",
       "        vertical-align: middle;\n",
       "    }\n",
       "\n",
       "    .dataframe tbody tr th {\n",
       "        vertical-align: top;\n",
       "    }\n",
       "\n",
       "    .dataframe thead th {\n",
       "        text-align: right;\n",
       "    }\n",
       "</style>\n",
       "<table border=\"1\" class=\"dataframe\">\n",
       "  <thead>\n",
       "    <tr style=\"text-align: right;\">\n",
       "      <th></th>\n",
       "      <th>0</th>\n",
       "    </tr>\n",
       "  </thead>\n",
       "  <tbody>\n",
       "    <tr>\n",
       "      <th>count</th>\n",
       "      <td>15.000000</td>\n",
       "    </tr>\n",
       "    <tr>\n",
       "      <th>mean</th>\n",
       "      <td>0.369182</td>\n",
       "    </tr>\n",
       "    <tr>\n",
       "      <th>std</th>\n",
       "      <td>0.235172</td>\n",
       "    </tr>\n",
       "    <tr>\n",
       "      <th>min</th>\n",
       "      <td>-0.099624</td>\n",
       "    </tr>\n",
       "    <tr>\n",
       "      <th>25%</th>\n",
       "      <td>0.222231</td>\n",
       "    </tr>\n",
       "    <tr>\n",
       "      <th>50%</th>\n",
       "      <td>0.385451</td>\n",
       "    </tr>\n",
       "    <tr>\n",
       "      <th>75%</th>\n",
       "      <td>0.498007</td>\n",
       "    </tr>\n",
       "    <tr>\n",
       "      <th>max</th>\n",
       "      <td>0.776046</td>\n",
       "    </tr>\n",
       "  </tbody>\n",
       "</table>\n",
       "</div>"
      ],
      "text/plain": [
       "               0\n",
       "count  15.000000\n",
       "mean    0.369182\n",
       "std     0.235172\n",
       "min    -0.099624\n",
       "25%     0.222231\n",
       "50%     0.385451\n",
       "75%     0.498007\n",
       "max     0.776046"
      ]
     },
     "execution_count": 51,
     "metadata": {},
     "output_type": "execute_result"
    }
   ],
   "source": [
    "x = pd.DataFrame(arr_no_0)\n",
    "desc = x.describe()\n",
    "desc"
   ]
  },
  {
   "cell_type": "code",
   "execution_count": 52,
   "metadata": {},
   "outputs": [],
   "source": [
    "x = desc.loc[[\"mean\"]]\n",
    "x = x.to_numpy()"
   ]
  },
  {
   "cell_type": "code",
   "execution_count": 53,
   "metadata": {
    "scrolled": true
   },
   "outputs": [
    {
     "data": {
      "text/plain": [
       "0.369"
      ]
     },
     "execution_count": 53,
     "metadata": {},
     "output_type": "execute_result"
    }
   ],
   "source": [
    "x = x.tolist()\n",
    "mean_bio_yeastcollins = round(x[0][0],3)\n",
    "mean_bio_yeastcollins"
   ]
  },
  {
   "cell_type": "code",
   "execution_count": 54,
   "metadata": {},
   "outputs": [
    {
     "data": {
      "text/plain": [
       "0.235"
      ]
     },
     "execution_count": 54,
     "metadata": {},
     "output_type": "execute_result"
    }
   ],
   "source": [
    "std_bio_yeastcollins = desc.loc[[\"std\"]]\n",
    "std_bio_yeastcollins = std_bio_yeastcollins.to_numpy()\n",
    "std_bio_yeastcollins = std_bio_yeastcollins.tolist()\n",
    "std_bio_yeastcollins = round(std_bio_yeastcollins[0][0],3)\n",
    "std_bio_yeastcollins"
   ]
  },
  {
   "cell_type": "markdown",
   "metadata": {},
   "source": [
    "### Infra - US Power Grid"
   ]
  },
  {
   "cell_type": "code",
   "execution_count": 55,
   "metadata": {},
   "outputs": [],
   "source": [
    "df_infra_uspowergrid = df_infra_uspowergrid.drop(['ModV-PosToNeg'], axis=1)\n",
    "df_infra_uspowergrid = df_infra_uspowergrid.drop(['ModV-PosToNeg'], axis=0)"
   ]
  },
  {
   "cell_type": "code",
   "execution_count": 56,
   "metadata": {},
   "outputs": [
    {
     "data": {
      "text/plain": [
       "15"
      ]
     },
     "execution_count": 56,
     "metadata": {},
     "output_type": "execute_result"
    }
   ],
   "source": [
    "arr = df_infra_uspowergrid.to_numpy() # Covert to numpy\n",
    "arr = np.tril(arr, -1) # Get the lower triangle\n",
    "arr_no_0 = arr[np.where(arr!=0)] # Get the non-zero values\n",
    "np.count_nonzero(arr_no_0)"
   ]
  },
  {
   "cell_type": "code",
   "execution_count": 57,
   "metadata": {
    "scrolled": true
   },
   "outputs": [
    {
     "data": {
      "text/html": [
       "<div>\n",
       "<style scoped>\n",
       "    .dataframe tbody tr th:only-of-type {\n",
       "        vertical-align: middle;\n",
       "    }\n",
       "\n",
       "    .dataframe tbody tr th {\n",
       "        vertical-align: top;\n",
       "    }\n",
       "\n",
       "    .dataframe thead th {\n",
       "        text-align: right;\n",
       "    }\n",
       "</style>\n",
       "<table border=\"1\" class=\"dataframe\">\n",
       "  <thead>\n",
       "    <tr style=\"text-align: right;\">\n",
       "      <th></th>\n",
       "      <th>0</th>\n",
       "    </tr>\n",
       "  </thead>\n",
       "  <tbody>\n",
       "    <tr>\n",
       "      <th>count</th>\n",
       "      <td>15.000000</td>\n",
       "    </tr>\n",
       "    <tr>\n",
       "      <th>mean</th>\n",
       "      <td>0.457774</td>\n",
       "    </tr>\n",
       "    <tr>\n",
       "      <th>std</th>\n",
       "      <td>0.199450</td>\n",
       "    </tr>\n",
       "    <tr>\n",
       "      <th>min</th>\n",
       "      <td>0.063461</td>\n",
       "    </tr>\n",
       "    <tr>\n",
       "      <th>25%</th>\n",
       "      <td>0.292454</td>\n",
       "    </tr>\n",
       "    <tr>\n",
       "      <th>50%</th>\n",
       "      <td>0.526324</td>\n",
       "    </tr>\n",
       "    <tr>\n",
       "      <th>75%</th>\n",
       "      <td>0.608744</td>\n",
       "    </tr>\n",
       "    <tr>\n",
       "      <th>max</th>\n",
       "      <td>0.831721</td>\n",
       "    </tr>\n",
       "  </tbody>\n",
       "</table>\n",
       "</div>"
      ],
      "text/plain": [
       "               0\n",
       "count  15.000000\n",
       "mean    0.457774\n",
       "std     0.199450\n",
       "min     0.063461\n",
       "25%     0.292454\n",
       "50%     0.526324\n",
       "75%     0.608744\n",
       "max     0.831721"
      ]
     },
     "execution_count": 57,
     "metadata": {},
     "output_type": "execute_result"
    }
   ],
   "source": [
    "x = pd.DataFrame(arr_no_0)\n",
    "desc = x.describe()\n",
    "desc"
   ]
  },
  {
   "cell_type": "code",
   "execution_count": 58,
   "metadata": {},
   "outputs": [],
   "source": [
    "x = desc.loc[[\"mean\"]]\n",
    "x = x.to_numpy()"
   ]
  },
  {
   "cell_type": "code",
   "execution_count": 59,
   "metadata": {
    "scrolled": true
   },
   "outputs": [
    {
     "data": {
      "text/plain": [
       "0.458"
      ]
     },
     "execution_count": 59,
     "metadata": {},
     "output_type": "execute_result"
    }
   ],
   "source": [
    "x = x.tolist()\n",
    "mean_infra_uspowergrid = round(x[0][0],3)\n",
    "mean_infra_uspowergrid"
   ]
  },
  {
   "cell_type": "code",
   "execution_count": 60,
   "metadata": {},
   "outputs": [
    {
     "data": {
      "text/plain": [
       "0.199"
      ]
     },
     "execution_count": 60,
     "metadata": {},
     "output_type": "execute_result"
    }
   ],
   "source": [
    "std_infra_uspowergrid = desc.loc[[\"std\"]]\n",
    "std_infra_uspowergrid = std_infra_uspowergrid.to_numpy()\n",
    "std_infra_uspowergrid = std_infra_uspowergrid.tolist()\n",
    "std_infra_uspowergrid = round(std_infra_uspowergrid[0][0],3)\n",
    "std_infra_uspowergrid"
   ]
  },
  {
   "cell_type": "markdown",
   "metadata": {},
   "source": [
    "### OSN - DNC Emails"
   ]
  },
  {
   "cell_type": "code",
   "execution_count": 61,
   "metadata": {},
   "outputs": [],
   "source": [
    "df_misc_dncemails = df_misc_dncemails.drop(['ModV-PosToNeg'], axis=1)\n",
    "df_misc_dncemails = df_misc_dncemails.drop(['ModV-PosToNeg'], axis=0)"
   ]
  },
  {
   "cell_type": "code",
   "execution_count": 62,
   "metadata": {},
   "outputs": [
    {
     "data": {
      "text/plain": [
       "15"
      ]
     },
     "execution_count": 62,
     "metadata": {},
     "output_type": "execute_result"
    }
   ],
   "source": [
    "arr = df_misc_dncemails.to_numpy() # Covert to numpy\n",
    "arr = np.tril(arr, -1) # Get the lower triangle\n",
    "arr_no_0 = arr[np.where(arr!=0)] # Get the non-zero values\n",
    "np.count_nonzero(arr_no_0)"
   ]
  },
  {
   "cell_type": "code",
   "execution_count": 63,
   "metadata": {
    "scrolled": true
   },
   "outputs": [
    {
     "data": {
      "text/html": [
       "<div>\n",
       "<style scoped>\n",
       "    .dataframe tbody tr th:only-of-type {\n",
       "        vertical-align: middle;\n",
       "    }\n",
       "\n",
       "    .dataframe tbody tr th {\n",
       "        vertical-align: top;\n",
       "    }\n",
       "\n",
       "    .dataframe thead th {\n",
       "        text-align: right;\n",
       "    }\n",
       "</style>\n",
       "<table border=\"1\" class=\"dataframe\">\n",
       "  <thead>\n",
       "    <tr style=\"text-align: right;\">\n",
       "      <th></th>\n",
       "      <th>0</th>\n",
       "    </tr>\n",
       "  </thead>\n",
       "  <tbody>\n",
       "    <tr>\n",
       "      <th>count</th>\n",
       "      <td>15.000000</td>\n",
       "    </tr>\n",
       "    <tr>\n",
       "      <th>mean</th>\n",
       "      <td>0.394331</td>\n",
       "    </tr>\n",
       "    <tr>\n",
       "      <th>std</th>\n",
       "      <td>0.322779</td>\n",
       "    </tr>\n",
       "    <tr>\n",
       "      <th>min</th>\n",
       "      <td>-0.272202</td>\n",
       "    </tr>\n",
       "    <tr>\n",
       "      <th>25%</th>\n",
       "      <td>0.209076</td>\n",
       "    </tr>\n",
       "    <tr>\n",
       "      <th>50%</th>\n",
       "      <td>0.464032</td>\n",
       "    </tr>\n",
       "    <tr>\n",
       "      <th>75%</th>\n",
       "      <td>0.629250</td>\n",
       "    </tr>\n",
       "    <tr>\n",
       "      <th>max</th>\n",
       "      <td>0.785510</td>\n",
       "    </tr>\n",
       "  </tbody>\n",
       "</table>\n",
       "</div>"
      ],
      "text/plain": [
       "               0\n",
       "count  15.000000\n",
       "mean    0.394331\n",
       "std     0.322779\n",
       "min    -0.272202\n",
       "25%     0.209076\n",
       "50%     0.464032\n",
       "75%     0.629250\n",
       "max     0.785510"
      ]
     },
     "execution_count": 63,
     "metadata": {},
     "output_type": "execute_result"
    }
   ],
   "source": [
    "x = pd.DataFrame(arr_no_0)\n",
    "desc = x.describe()\n",
    "desc"
   ]
  },
  {
   "cell_type": "code",
   "execution_count": 64,
   "metadata": {},
   "outputs": [],
   "source": [
    "x = desc.loc[[\"mean\"]]\n",
    "x = x.to_numpy()"
   ]
  },
  {
   "cell_type": "code",
   "execution_count": 65,
   "metadata": {
    "scrolled": true
   },
   "outputs": [
    {
     "data": {
      "text/plain": [
       "0.394"
      ]
     },
     "execution_count": 65,
     "metadata": {},
     "output_type": "execute_result"
    }
   ],
   "source": [
    "x = x.tolist()\n",
    "mean_misc_dncemails = round(x[0][0],3)\n",
    "mean_misc_dncemails"
   ]
  },
  {
   "cell_type": "code",
   "execution_count": 66,
   "metadata": {},
   "outputs": [
    {
     "data": {
      "text/plain": [
       "0.323"
      ]
     },
     "execution_count": 66,
     "metadata": {},
     "output_type": "execute_result"
    }
   ],
   "source": [
    "std_misc_dncemails = desc.loc[[\"std\"]]\n",
    "std_misc_dncemails = std_misc_dncemails.to_numpy()\n",
    "std_misc_dncemails = std_misc_dncemails.tolist()\n",
    "std_misc_dncemails = round(std_misc_dncemails[0][0],3)\n",
    "std_misc_dncemails"
   ]
  },
  {
   "cell_type": "markdown",
   "metadata": {},
   "source": [
    "### Bio - Yeast Protein"
   ]
  },
  {
   "cell_type": "code",
   "execution_count": 67,
   "metadata": {},
   "outputs": [],
   "source": [
    "df_bio_yeastprotein = df_bio_yeastprotein.drop(['ModV-PosToNeg'], axis=1)\n",
    "df_bio_yeastprotein = df_bio_yeastprotein.drop(['ModV-PosToNeg'], axis=0)"
   ]
  },
  {
   "cell_type": "code",
   "execution_count": 68,
   "metadata": {},
   "outputs": [
    {
     "data": {
      "text/plain": [
       "15"
      ]
     },
     "execution_count": 68,
     "metadata": {},
     "output_type": "execute_result"
    }
   ],
   "source": [
    "arr = df_bio_yeastprotein.to_numpy() # Covert to numpy\n",
    "arr = np.tril(arr, -1) # Get the lower triangle\n",
    "arr_no_0 = arr[np.where(arr!=0)] # Get the non-zero values\n",
    "np.count_nonzero(arr_no_0)"
   ]
  },
  {
   "cell_type": "code",
   "execution_count": 69,
   "metadata": {
    "scrolled": true
   },
   "outputs": [
    {
     "data": {
      "text/html": [
       "<div>\n",
       "<style scoped>\n",
       "    .dataframe tbody tr th:only-of-type {\n",
       "        vertical-align: middle;\n",
       "    }\n",
       "\n",
       "    .dataframe tbody tr th {\n",
       "        vertical-align: top;\n",
       "    }\n",
       "\n",
       "    .dataframe thead th {\n",
       "        text-align: right;\n",
       "    }\n",
       "</style>\n",
       "<table border=\"1\" class=\"dataframe\">\n",
       "  <thead>\n",
       "    <tr style=\"text-align: right;\">\n",
       "      <th></th>\n",
       "      <th>0</th>\n",
       "    </tr>\n",
       "  </thead>\n",
       "  <tbody>\n",
       "    <tr>\n",
       "      <th>count</th>\n",
       "      <td>15.000000</td>\n",
       "    </tr>\n",
       "    <tr>\n",
       "      <th>mean</th>\n",
       "      <td>0.491220</td>\n",
       "    </tr>\n",
       "    <tr>\n",
       "      <th>std</th>\n",
       "      <td>0.235172</td>\n",
       "    </tr>\n",
       "    <tr>\n",
       "      <th>min</th>\n",
       "      <td>-0.084798</td>\n",
       "    </tr>\n",
       "    <tr>\n",
       "      <th>25%</th>\n",
       "      <td>0.332153</td>\n",
       "    </tr>\n",
       "    <tr>\n",
       "      <th>50%</th>\n",
       "      <td>0.564844</td>\n",
       "    </tr>\n",
       "    <tr>\n",
       "      <th>75%</th>\n",
       "      <td>0.606683</td>\n",
       "    </tr>\n",
       "    <tr>\n",
       "      <th>max</th>\n",
       "      <td>0.823862</td>\n",
       "    </tr>\n",
       "  </tbody>\n",
       "</table>\n",
       "</div>"
      ],
      "text/plain": [
       "               0\n",
       "count  15.000000\n",
       "mean    0.491220\n",
       "std     0.235172\n",
       "min    -0.084798\n",
       "25%     0.332153\n",
       "50%     0.564844\n",
       "75%     0.606683\n",
       "max     0.823862"
      ]
     },
     "execution_count": 69,
     "metadata": {},
     "output_type": "execute_result"
    }
   ],
   "source": [
    "x = pd.DataFrame(arr_no_0)\n",
    "desc = x.describe()\n",
    "desc"
   ]
  },
  {
   "cell_type": "code",
   "execution_count": 70,
   "metadata": {},
   "outputs": [],
   "source": [
    "x = desc.loc[[\"mean\"]]\n",
    "x = x.to_numpy()"
   ]
  },
  {
   "cell_type": "code",
   "execution_count": 71,
   "metadata": {
    "scrolled": true
   },
   "outputs": [
    {
     "data": {
      "text/plain": [
       "0.491"
      ]
     },
     "execution_count": 71,
     "metadata": {},
     "output_type": "execute_result"
    }
   ],
   "source": [
    "x = x.tolist()\n",
    "mean_bio_yeastprotein = round(x[0][0],3)\n",
    "mean_bio_yeastprotein"
   ]
  },
  {
   "cell_type": "code",
   "execution_count": 72,
   "metadata": {},
   "outputs": [
    {
     "data": {
      "text/plain": [
       "0.235"
      ]
     },
     "execution_count": 72,
     "metadata": {},
     "output_type": "execute_result"
    }
   ],
   "source": [
    "std_bio_yeastprotein = desc.loc[[\"std\"]]\n",
    "std_bio_yeastprotein = std_bio_yeastprotein.to_numpy()\n",
    "std_bio_yeastprotein = std_bio_yeastprotein.tolist()\n",
    "std_bio_yeastprotein = round(std_bio_yeastprotein[0][0],3)\n",
    "std_bio_yeastprotein"
   ]
  },
  {
   "cell_type": "markdown",
   "metadata": {},
   "source": [
    "### OSN - Hamsterster"
   ]
  },
  {
   "cell_type": "code",
   "execution_count": 73,
   "metadata": {},
   "outputs": [],
   "source": [
    "df_osn_hamsterster = df_osn_hamsterster.drop(['ModV-PosToNeg'], axis=1)\n",
    "df_osn_hamsterster = df_osn_hamsterster.drop(['ModV-PosToNeg'], axis=0)"
   ]
  },
  {
   "cell_type": "code",
   "execution_count": 74,
   "metadata": {},
   "outputs": [
    {
     "data": {
      "text/plain": [
       "15"
      ]
     },
     "execution_count": 74,
     "metadata": {},
     "output_type": "execute_result"
    }
   ],
   "source": [
    "arr = df_osn_hamsterster.to_numpy() # Covert to numpy\n",
    "arr = np.tril(arr, -1) # Get the lower triangle\n",
    "arr_no_0 = arr[np.where(arr!=0)] # Get the non-zero values\n",
    "np.count_nonzero(arr_no_0)"
   ]
  },
  {
   "cell_type": "code",
   "execution_count": 75,
   "metadata": {
    "scrolled": true
   },
   "outputs": [
    {
     "data": {
      "text/html": [
       "<div>\n",
       "<style scoped>\n",
       "    .dataframe tbody tr th:only-of-type {\n",
       "        vertical-align: middle;\n",
       "    }\n",
       "\n",
       "    .dataframe tbody tr th {\n",
       "        vertical-align: top;\n",
       "    }\n",
       "\n",
       "    .dataframe thead th {\n",
       "        text-align: right;\n",
       "    }\n",
       "</style>\n",
       "<table border=\"1\" class=\"dataframe\">\n",
       "  <thead>\n",
       "    <tr style=\"text-align: right;\">\n",
       "      <th></th>\n",
       "      <th>0</th>\n",
       "    </tr>\n",
       "  </thead>\n",
       "  <tbody>\n",
       "    <tr>\n",
       "      <th>count</th>\n",
       "      <td>15.000000</td>\n",
       "    </tr>\n",
       "    <tr>\n",
       "      <th>mean</th>\n",
       "      <td>0.308176</td>\n",
       "    </tr>\n",
       "    <tr>\n",
       "      <th>std</th>\n",
       "      <td>0.303434</td>\n",
       "    </tr>\n",
       "    <tr>\n",
       "      <th>min</th>\n",
       "      <td>-0.346135</td>\n",
       "    </tr>\n",
       "    <tr>\n",
       "      <th>25%</th>\n",
       "      <td>0.125483</td>\n",
       "    </tr>\n",
       "    <tr>\n",
       "      <th>50%</th>\n",
       "      <td>0.327254</td>\n",
       "    </tr>\n",
       "    <tr>\n",
       "      <th>75%</th>\n",
       "      <td>0.518839</td>\n",
       "    </tr>\n",
       "    <tr>\n",
       "      <th>max</th>\n",
       "      <td>0.688142</td>\n",
       "    </tr>\n",
       "  </tbody>\n",
       "</table>\n",
       "</div>"
      ],
      "text/plain": [
       "               0\n",
       "count  15.000000\n",
       "mean    0.308176\n",
       "std     0.303434\n",
       "min    -0.346135\n",
       "25%     0.125483\n",
       "50%     0.327254\n",
       "75%     0.518839\n",
       "max     0.688142"
      ]
     },
     "execution_count": 75,
     "metadata": {},
     "output_type": "execute_result"
    }
   ],
   "source": [
    "x = pd.DataFrame(arr_no_0)\n",
    "desc = x.describe()\n",
    "desc"
   ]
  },
  {
   "cell_type": "code",
   "execution_count": 76,
   "metadata": {},
   "outputs": [],
   "source": [
    "x = desc.loc[[\"mean\"]]\n",
    "x = x.to_numpy()"
   ]
  },
  {
   "cell_type": "code",
   "execution_count": 77,
   "metadata": {
    "scrolled": true
   },
   "outputs": [
    {
     "data": {
      "text/plain": [
       "0.308"
      ]
     },
     "execution_count": 77,
     "metadata": {},
     "output_type": "execute_result"
    }
   ],
   "source": [
    "x = x.tolist()\n",
    "mean_osn_hamsterster = round(x[0][0],3)\n",
    "mean_osn_hamsterster"
   ]
  },
  {
   "cell_type": "code",
   "execution_count": 78,
   "metadata": {},
   "outputs": [
    {
     "data": {
      "text/plain": [
       "0.303"
      ]
     },
     "execution_count": 78,
     "metadata": {},
     "output_type": "execute_result"
    }
   ],
   "source": [
    "std_osn_hamsterster = desc.loc[[\"std\"]]\n",
    "std_osn_hamsterster = std_osn_hamsterster.to_numpy()\n",
    "std_osn_hamsterster = std_osn_hamsterster.tolist()\n",
    "std_osn_hamsterster = round(std_osn_hamsterster[0][0],3)\n",
    "std_osn_hamsterster"
   ]
  },
  {
   "cell_type": "markdown",
   "metadata": {},
   "source": [
    "### OSN - Princeton"
   ]
  },
  {
   "cell_type": "code",
   "execution_count": 79,
   "metadata": {},
   "outputs": [],
   "source": [
    "df_osn_princeton = df_osn_princeton.drop(['ModV-PosToNeg'], axis=1)\n",
    "df_osn_princeton = df_osn_princeton.drop(['ModV-PosToNeg'], axis=0)"
   ]
  },
  {
   "cell_type": "code",
   "execution_count": 80,
   "metadata": {},
   "outputs": [
    {
     "data": {
      "text/plain": [
       "15"
      ]
     },
     "execution_count": 80,
     "metadata": {},
     "output_type": "execute_result"
    }
   ],
   "source": [
    "arr = df_osn_princeton.to_numpy() # Covert to numpy\n",
    "arr = np.tril(arr, -1) # Get the lower triangle\n",
    "arr_no_0 = arr[np.where(arr!=0)] # Get the non-zero values\n",
    "np.count_nonzero(arr_no_0)"
   ]
  },
  {
   "cell_type": "code",
   "execution_count": 81,
   "metadata": {
    "scrolled": true
   },
   "outputs": [
    {
     "data": {
      "text/html": [
       "<div>\n",
       "<style scoped>\n",
       "    .dataframe tbody tr th:only-of-type {\n",
       "        vertical-align: middle;\n",
       "    }\n",
       "\n",
       "    .dataframe tbody tr th {\n",
       "        vertical-align: top;\n",
       "    }\n",
       "\n",
       "    .dataframe thead th {\n",
       "        text-align: right;\n",
       "    }\n",
       "</style>\n",
       "<table border=\"1\" class=\"dataframe\">\n",
       "  <thead>\n",
       "    <tr style=\"text-align: right;\">\n",
       "      <th></th>\n",
       "      <th>0</th>\n",
       "    </tr>\n",
       "  </thead>\n",
       "  <tbody>\n",
       "    <tr>\n",
       "      <th>count</th>\n",
       "      <td>15.000000</td>\n",
       "    </tr>\n",
       "    <tr>\n",
       "      <th>mean</th>\n",
       "      <td>0.441079</td>\n",
       "    </tr>\n",
       "    <tr>\n",
       "      <th>std</th>\n",
       "      <td>0.267843</td>\n",
       "    </tr>\n",
       "    <tr>\n",
       "      <th>min</th>\n",
       "      <td>-0.097365</td>\n",
       "    </tr>\n",
       "    <tr>\n",
       "      <th>25%</th>\n",
       "      <td>0.239746</td>\n",
       "    </tr>\n",
       "    <tr>\n",
       "      <th>50%</th>\n",
       "      <td>0.442965</td>\n",
       "    </tr>\n",
       "    <tr>\n",
       "      <th>75%</th>\n",
       "      <td>0.673561</td>\n",
       "    </tr>\n",
       "    <tr>\n",
       "      <th>max</th>\n",
       "      <td>0.786932</td>\n",
       "    </tr>\n",
       "  </tbody>\n",
       "</table>\n",
       "</div>"
      ],
      "text/plain": [
       "               0\n",
       "count  15.000000\n",
       "mean    0.441079\n",
       "std     0.267843\n",
       "min    -0.097365\n",
       "25%     0.239746\n",
       "50%     0.442965\n",
       "75%     0.673561\n",
       "max     0.786932"
      ]
     },
     "execution_count": 81,
     "metadata": {},
     "output_type": "execute_result"
    }
   ],
   "source": [
    "x = pd.DataFrame(arr_no_0)\n",
    "desc = x.describe()\n",
    "desc"
   ]
  },
  {
   "cell_type": "code",
   "execution_count": 82,
   "metadata": {},
   "outputs": [],
   "source": [
    "x = desc.loc[[\"mean\"]]\n",
    "x = x.to_numpy()"
   ]
  },
  {
   "cell_type": "code",
   "execution_count": 83,
   "metadata": {
    "scrolled": true
   },
   "outputs": [
    {
     "data": {
      "text/plain": [
       "0.441"
      ]
     },
     "execution_count": 83,
     "metadata": {},
     "output_type": "execute_result"
    }
   ],
   "source": [
    "x = x.tolist()\n",
    "mean_osn_princeton = round(x[0][0],3)\n",
    "mean_osn_princeton"
   ]
  },
  {
   "cell_type": "code",
   "execution_count": 84,
   "metadata": {},
   "outputs": [
    {
     "data": {
      "text/plain": [
       "0.268"
      ]
     },
     "execution_count": 84,
     "metadata": {},
     "output_type": "execute_result"
    }
   ],
   "source": [
    "std_osn_princeton = desc.loc[[\"std\"]]\n",
    "std_osn_princeton = std_osn_princeton.to_numpy()\n",
    "std_osn_princeton = std_osn_princeton.tolist()\n",
    "std_osn_princeton = round(std_osn_princeton[0][0],3)\n",
    "std_osn_princeton"
   ]
  },
  {
   "cell_type": "markdown",
   "metadata": {},
   "source": [
    "### OSN - Facebook Organizations"
   ]
  },
  {
   "cell_type": "code",
   "execution_count": 85,
   "metadata": {},
   "outputs": [],
   "source": [
    "df_osn_facebookorganizations = df_osn_facebookorganizations.drop(['ModV-PosToNeg'], axis=1)\n",
    "df_osn_facebookorganizations = df_osn_facebookorganizations.drop(['ModV-PosToNeg'], axis=0)"
   ]
  },
  {
   "cell_type": "code",
   "execution_count": 86,
   "metadata": {},
   "outputs": [
    {
     "data": {
      "text/plain": [
       "15"
      ]
     },
     "execution_count": 86,
     "metadata": {},
     "output_type": "execute_result"
    }
   ],
   "source": [
    "arr = df_osn_facebookorganizations.to_numpy() # Covert to numpy\n",
    "arr = np.tril(arr, -1) # Get the lower triangle\n",
    "arr_no_0 = arr[np.where(arr!=0)] # Get the non-zero values\n",
    "np.count_nonzero(arr_no_0)"
   ]
  },
  {
   "cell_type": "code",
   "execution_count": 87,
   "metadata": {
    "scrolled": false
   },
   "outputs": [
    {
     "data": {
      "text/html": [
       "<div>\n",
       "<style scoped>\n",
       "    .dataframe tbody tr th:only-of-type {\n",
       "        vertical-align: middle;\n",
       "    }\n",
       "\n",
       "    .dataframe tbody tr th {\n",
       "        vertical-align: top;\n",
       "    }\n",
       "\n",
       "    .dataframe thead th {\n",
       "        text-align: right;\n",
       "    }\n",
       "</style>\n",
       "<table border=\"1\" class=\"dataframe\">\n",
       "  <thead>\n",
       "    <tr style=\"text-align: right;\">\n",
       "      <th></th>\n",
       "      <th>0</th>\n",
       "    </tr>\n",
       "  </thead>\n",
       "  <tbody>\n",
       "    <tr>\n",
       "      <th>count</th>\n",
       "      <td>15.000000</td>\n",
       "    </tr>\n",
       "    <tr>\n",
       "      <th>mean</th>\n",
       "      <td>0.334954</td>\n",
       "    </tr>\n",
       "    <tr>\n",
       "      <th>std</th>\n",
       "      <td>0.194840</td>\n",
       "    </tr>\n",
       "    <tr>\n",
       "      <th>min</th>\n",
       "      <td>-0.085353</td>\n",
       "    </tr>\n",
       "    <tr>\n",
       "      <th>25%</th>\n",
       "      <td>0.196562</td>\n",
       "    </tr>\n",
       "    <tr>\n",
       "      <th>50%</th>\n",
       "      <td>0.290244</td>\n",
       "    </tr>\n",
       "    <tr>\n",
       "      <th>75%</th>\n",
       "      <td>0.497525</td>\n",
       "    </tr>\n",
       "    <tr>\n",
       "      <th>max</th>\n",
       "      <td>0.622735</td>\n",
       "    </tr>\n",
       "  </tbody>\n",
       "</table>\n",
       "</div>"
      ],
      "text/plain": [
       "               0\n",
       "count  15.000000\n",
       "mean    0.334954\n",
       "std     0.194840\n",
       "min    -0.085353\n",
       "25%     0.196562\n",
       "50%     0.290244\n",
       "75%     0.497525\n",
       "max     0.622735"
      ]
     },
     "execution_count": 87,
     "metadata": {},
     "output_type": "execute_result"
    }
   ],
   "source": [
    "x = pd.DataFrame(arr_no_0)\n",
    "desc = x.describe()\n",
    "desc"
   ]
  },
  {
   "cell_type": "code",
   "execution_count": 88,
   "metadata": {},
   "outputs": [],
   "source": [
    "x = desc.loc[[\"mean\"]]\n",
    "x = x.to_numpy()"
   ]
  },
  {
   "cell_type": "code",
   "execution_count": 89,
   "metadata": {
    "scrolled": true
   },
   "outputs": [
    {
     "data": {
      "text/plain": [
       "0.335"
      ]
     },
     "execution_count": 89,
     "metadata": {},
     "output_type": "execute_result"
    }
   ],
   "source": [
    "x = x.tolist()\n",
    "mean_osn_faceookorganizations = round(x[0][0],3)\n",
    "mean_osn_faceookorganizations"
   ]
  },
  {
   "cell_type": "code",
   "execution_count": 90,
   "metadata": {},
   "outputs": [
    {
     "data": {
      "text/plain": [
       "0.195"
      ]
     },
     "execution_count": 90,
     "metadata": {},
     "output_type": "execute_result"
    }
   ],
   "source": [
    "std_osn_facebookorganizations = desc.loc[[\"std\"]]\n",
    "std_osn_facebookorganizations = std_osn_facebookorganizations.to_numpy()\n",
    "std_osn_facebookorganizations = std_osn_facebookorganizations.tolist()\n",
    "std_osn_facebookorganizations = round(std_osn_facebookorganizations[0][0],3)\n",
    "std_osn_facebookorganizations"
   ]
  },
  {
   "cell_type": "markdown",
   "metadata": {},
   "source": [
    "### OSN - Caltech"
   ]
  },
  {
   "cell_type": "code",
   "execution_count": 91,
   "metadata": {},
   "outputs": [],
   "source": [
    "df_osn_caltech = df_osn_caltech.drop(['ModV-PosToNeg'], axis=1)\n",
    "df_osn_caltech = df_osn_caltech.drop(['ModV-PosToNeg'], axis=0)"
   ]
  },
  {
   "cell_type": "code",
   "execution_count": 92,
   "metadata": {},
   "outputs": [
    {
     "data": {
      "text/plain": [
       "15"
      ]
     },
     "execution_count": 92,
     "metadata": {},
     "output_type": "execute_result"
    }
   ],
   "source": [
    "arr = df_osn_caltech.to_numpy() # Covert to numpy\n",
    "arr = np.tril(arr, -1) # Get the lower triangle\n",
    "arr_no_0 = arr[np.where(arr!=0)] # Get the non-zero values\n",
    "np.count_nonzero(arr_no_0)"
   ]
  },
  {
   "cell_type": "code",
   "execution_count": 93,
   "metadata": {
    "scrolled": true
   },
   "outputs": [
    {
     "data": {
      "text/html": [
       "<div>\n",
       "<style scoped>\n",
       "    .dataframe tbody tr th:only-of-type {\n",
       "        vertical-align: middle;\n",
       "    }\n",
       "\n",
       "    .dataframe tbody tr th {\n",
       "        vertical-align: top;\n",
       "    }\n",
       "\n",
       "    .dataframe thead th {\n",
       "        text-align: right;\n",
       "    }\n",
       "</style>\n",
       "<table border=\"1\" class=\"dataframe\">\n",
       "  <thead>\n",
       "    <tr style=\"text-align: right;\">\n",
       "      <th></th>\n",
       "      <th>0</th>\n",
       "    </tr>\n",
       "  </thead>\n",
       "  <tbody>\n",
       "    <tr>\n",
       "      <th>count</th>\n",
       "      <td>15.000000</td>\n",
       "    </tr>\n",
       "    <tr>\n",
       "      <th>mean</th>\n",
       "      <td>0.552369</td>\n",
       "    </tr>\n",
       "    <tr>\n",
       "      <th>std</th>\n",
       "      <td>0.173012</td>\n",
       "    </tr>\n",
       "    <tr>\n",
       "      <th>min</th>\n",
       "      <td>0.278762</td>\n",
       "    </tr>\n",
       "    <tr>\n",
       "      <th>25%</th>\n",
       "      <td>0.434019</td>\n",
       "    </tr>\n",
       "    <tr>\n",
       "      <th>50%</th>\n",
       "      <td>0.523652</td>\n",
       "    </tr>\n",
       "    <tr>\n",
       "      <th>75%</th>\n",
       "      <td>0.693519</td>\n",
       "    </tr>\n",
       "    <tr>\n",
       "      <th>max</th>\n",
       "      <td>0.830063</td>\n",
       "    </tr>\n",
       "  </tbody>\n",
       "</table>\n",
       "</div>"
      ],
      "text/plain": [
       "               0\n",
       "count  15.000000\n",
       "mean    0.552369\n",
       "std     0.173012\n",
       "min     0.278762\n",
       "25%     0.434019\n",
       "50%     0.523652\n",
       "75%     0.693519\n",
       "max     0.830063"
      ]
     },
     "execution_count": 93,
     "metadata": {},
     "output_type": "execute_result"
    }
   ],
   "source": [
    "x = pd.DataFrame(arr_no_0)\n",
    "desc = x.describe()\n",
    "desc"
   ]
  },
  {
   "cell_type": "code",
   "execution_count": 94,
   "metadata": {},
   "outputs": [],
   "source": [
    "x = desc.loc[[\"mean\"]]\n",
    "x = x.to_numpy()"
   ]
  },
  {
   "cell_type": "code",
   "execution_count": 95,
   "metadata": {
    "scrolled": true
   },
   "outputs": [
    {
     "data": {
      "text/plain": [
       "0.552"
      ]
     },
     "execution_count": 95,
     "metadata": {},
     "output_type": "execute_result"
    }
   ],
   "source": [
    "x = x.tolist()\n",
    "mean_osn_caltech = round(x[0][0],3)\n",
    "mean_osn_caltech"
   ]
  },
  {
   "cell_type": "code",
   "execution_count": 96,
   "metadata": {},
   "outputs": [
    {
     "data": {
      "text/plain": [
       "0.173"
      ]
     },
     "execution_count": 96,
     "metadata": {},
     "output_type": "execute_result"
    }
   ],
   "source": [
    "std_osn_caltech = desc.loc[[\"std\"]]\n",
    "std_osn_caltech = std_osn_caltech.to_numpy()\n",
    "std_osn_caltech = std_osn_caltech.tolist()\n",
    "std_osn_caltech = round(std_osn_caltech[0][0],3)\n",
    "std_osn_caltech"
   ]
  },
  {
   "cell_type": "markdown",
   "metadata": {},
   "source": [
    "### OSN - DeezerEU"
   ]
  },
  {
   "cell_type": "code",
   "execution_count": 97,
   "metadata": {},
   "outputs": [],
   "source": [
    "df_osn_deezereu = df_osn_deezereu.drop(['ModV-PosToNeg'], axis=1)\n",
    "df_osn_deezereu = df_osn_deezereu.drop(['ModV-PosToNeg'], axis=0)"
   ]
  },
  {
   "cell_type": "code",
   "execution_count": 98,
   "metadata": {},
   "outputs": [
    {
     "data": {
      "text/plain": [
       "15"
      ]
     },
     "execution_count": 98,
     "metadata": {},
     "output_type": "execute_result"
    }
   ],
   "source": [
    "arr = df_osn_deezereu.to_numpy() # Covert to numpy\n",
    "arr = np.tril(arr, -1) # Get the lower triangle\n",
    "arr_no_0 = arr[np.where(arr!=0)] # Get the non-zero values\n",
    "np.count_nonzero(arr_no_0)"
   ]
  },
  {
   "cell_type": "code",
   "execution_count": 99,
   "metadata": {
    "scrolled": true
   },
   "outputs": [
    {
     "data": {
      "text/html": [
       "<div>\n",
       "<style scoped>\n",
       "    .dataframe tbody tr th:only-of-type {\n",
       "        vertical-align: middle;\n",
       "    }\n",
       "\n",
       "    .dataframe tbody tr th {\n",
       "        vertical-align: top;\n",
       "    }\n",
       "\n",
       "    .dataframe thead th {\n",
       "        text-align: right;\n",
       "    }\n",
       "</style>\n",
       "<table border=\"1\" class=\"dataframe\">\n",
       "  <thead>\n",
       "    <tr style=\"text-align: right;\">\n",
       "      <th></th>\n",
       "      <th>0</th>\n",
       "    </tr>\n",
       "  </thead>\n",
       "  <tbody>\n",
       "    <tr>\n",
       "      <th>count</th>\n",
       "      <td>15.000000</td>\n",
       "    </tr>\n",
       "    <tr>\n",
       "      <th>mean</th>\n",
       "      <td>0.514065</td>\n",
       "    </tr>\n",
       "    <tr>\n",
       "      <th>std</th>\n",
       "      <td>0.177447</td>\n",
       "    </tr>\n",
       "    <tr>\n",
       "      <th>min</th>\n",
       "      <td>0.096175</td>\n",
       "    </tr>\n",
       "    <tr>\n",
       "      <th>25%</th>\n",
       "      <td>0.438948</td>\n",
       "    </tr>\n",
       "    <tr>\n",
       "      <th>50%</th>\n",
       "      <td>0.540968</td>\n",
       "    </tr>\n",
       "    <tr>\n",
       "      <th>75%</th>\n",
       "      <td>0.615234</td>\n",
       "    </tr>\n",
       "    <tr>\n",
       "      <th>max</th>\n",
       "      <td>0.773746</td>\n",
       "    </tr>\n",
       "  </tbody>\n",
       "</table>\n",
       "</div>"
      ],
      "text/plain": [
       "               0\n",
       "count  15.000000\n",
       "mean    0.514065\n",
       "std     0.177447\n",
       "min     0.096175\n",
       "25%     0.438948\n",
       "50%     0.540968\n",
       "75%     0.615234\n",
       "max     0.773746"
      ]
     },
     "execution_count": 99,
     "metadata": {},
     "output_type": "execute_result"
    }
   ],
   "source": [
    "x = pd.DataFrame(arr_no_0)\n",
    "desc = x.describe()\n",
    "desc"
   ]
  },
  {
   "cell_type": "code",
   "execution_count": 100,
   "metadata": {},
   "outputs": [],
   "source": [
    "x = desc.loc[[\"mean\"]]\n",
    "x = x.to_numpy()"
   ]
  },
  {
   "cell_type": "code",
   "execution_count": 101,
   "metadata": {
    "scrolled": true
   },
   "outputs": [
    {
     "data": {
      "text/plain": [
       "0.514"
      ]
     },
     "execution_count": 101,
     "metadata": {},
     "output_type": "execute_result"
    }
   ],
   "source": [
    "x = x.tolist()\n",
    "mean_osn_deezereu = round(x[0][0],3)\n",
    "mean_osn_deezereu"
   ]
  },
  {
   "cell_type": "code",
   "execution_count": 102,
   "metadata": {},
   "outputs": [
    {
     "data": {
      "text/plain": [
       "0.177"
      ]
     },
     "execution_count": 102,
     "metadata": {},
     "output_type": "execute_result"
    }
   ],
   "source": [
    "std_osn_deezereu = desc.loc[[\"std\"]]\n",
    "std_osn_deezereu = std_osn_deezereu.to_numpy()\n",
    "std_osn_deezereu = std_osn_deezereu.tolist()\n",
    "std_osn_deezereu = round(std_osn_deezereu[0][0],3)\n",
    "std_osn_deezereu"
   ]
  },
  {
   "cell_type": "markdown",
   "metadata": {},
   "source": [
    "### Human Social - Adolescent Health"
   ]
  },
  {
   "cell_type": "code",
   "execution_count": 103,
   "metadata": {},
   "outputs": [],
   "source": [
    "df_humansocial_adolescenthealth = df_humansocial_adolescenthealth.drop(['ModV-PosToNeg'], axis=1)\n",
    "df_humansocial_adolescenthealth = df_humansocial_adolescenthealth.drop(['ModV-PosToNeg'], axis=0)"
   ]
  },
  {
   "cell_type": "code",
   "execution_count": 104,
   "metadata": {},
   "outputs": [
    {
     "data": {
      "text/plain": [
       "15"
      ]
     },
     "execution_count": 104,
     "metadata": {},
     "output_type": "execute_result"
    }
   ],
   "source": [
    "arr = df_humansocial_adolescenthealth.to_numpy() # Covert to numpy\n",
    "arr = np.tril(arr, -1) # Get the lower triangle\n",
    "arr_no_0 = arr[np.where(arr!=0)] # Get the non-zero values\n",
    "np.count_nonzero(arr_no_0)"
   ]
  },
  {
   "cell_type": "code",
   "execution_count": 105,
   "metadata": {
    "scrolled": true
   },
   "outputs": [
    {
     "data": {
      "text/html": [
       "<div>\n",
       "<style scoped>\n",
       "    .dataframe tbody tr th:only-of-type {\n",
       "        vertical-align: middle;\n",
       "    }\n",
       "\n",
       "    .dataframe tbody tr th {\n",
       "        vertical-align: top;\n",
       "    }\n",
       "\n",
       "    .dataframe thead th {\n",
       "        text-align: right;\n",
       "    }\n",
       "</style>\n",
       "<table border=\"1\" class=\"dataframe\">\n",
       "  <thead>\n",
       "    <tr style=\"text-align: right;\">\n",
       "      <th></th>\n",
       "      <th>0</th>\n",
       "    </tr>\n",
       "  </thead>\n",
       "  <tbody>\n",
       "    <tr>\n",
       "      <th>count</th>\n",
       "      <td>15.000000</td>\n",
       "    </tr>\n",
       "    <tr>\n",
       "      <th>mean</th>\n",
       "      <td>0.339934</td>\n",
       "    </tr>\n",
       "    <tr>\n",
       "      <th>std</th>\n",
       "      <td>0.187796</td>\n",
       "    </tr>\n",
       "    <tr>\n",
       "      <th>min</th>\n",
       "      <td>-0.012807</td>\n",
       "    </tr>\n",
       "    <tr>\n",
       "      <th>25%</th>\n",
       "      <td>0.217001</td>\n",
       "    </tr>\n",
       "    <tr>\n",
       "      <th>50%</th>\n",
       "      <td>0.333126</td>\n",
       "    </tr>\n",
       "    <tr>\n",
       "      <th>75%</th>\n",
       "      <td>0.517944</td>\n",
       "    </tr>\n",
       "    <tr>\n",
       "      <th>max</th>\n",
       "      <td>0.595948</td>\n",
       "    </tr>\n",
       "  </tbody>\n",
       "</table>\n",
       "</div>"
      ],
      "text/plain": [
       "               0\n",
       "count  15.000000\n",
       "mean    0.339934\n",
       "std     0.187796\n",
       "min    -0.012807\n",
       "25%     0.217001\n",
       "50%     0.333126\n",
       "75%     0.517944\n",
       "max     0.595948"
      ]
     },
     "execution_count": 105,
     "metadata": {},
     "output_type": "execute_result"
    }
   ],
   "source": [
    "x = pd.DataFrame(arr_no_0)\n",
    "desc = x.describe()\n",
    "desc"
   ]
  },
  {
   "cell_type": "code",
   "execution_count": 106,
   "metadata": {},
   "outputs": [],
   "source": [
    "x = desc.loc[[\"mean\"]]\n",
    "x = x.to_numpy()"
   ]
  },
  {
   "cell_type": "code",
   "execution_count": 107,
   "metadata": {
    "scrolled": true
   },
   "outputs": [
    {
     "data": {
      "text/plain": [
       "0.34"
      ]
     },
     "execution_count": 107,
     "metadata": {},
     "output_type": "execute_result"
    }
   ],
   "source": [
    "x = x.tolist()\n",
    "mean_humansocial_adolescenthealth = round(x[0][0],3)\n",
    "mean_humansocial_adolescenthealth"
   ]
  },
  {
   "cell_type": "code",
   "execution_count": 108,
   "metadata": {},
   "outputs": [
    {
     "data": {
      "text/plain": [
       "0.188"
      ]
     },
     "execution_count": 108,
     "metadata": {},
     "output_type": "execute_result"
    }
   ],
   "source": [
    "std_humansocial_adolescenthealth = desc.loc[[\"std\"]]\n",
    "std_humansocial_adolescenthealth = std_humansocial_adolescenthealth.to_numpy()\n",
    "std_humansocial_adolescenthealth = std_humansocial_adolescenthealth.tolist()\n",
    "std_humansocial_adolescenthealth = round(std_humansocial_adolescenthealth[0][0],3)\n",
    "std_humansocial_adolescenthealth"
   ]
  },
  {
   "cell_type": "code",
   "execution_count": 109,
   "metadata": {},
   "outputs": [
    {
     "data": {
      "text/html": [
       "<div>\n",
       "<style scoped>\n",
       "    .dataframe tbody tr th:only-of-type {\n",
       "        vertical-align: middle;\n",
       "    }\n",
       "\n",
       "    .dataframe tbody tr th {\n",
       "        vertical-align: top;\n",
       "    }\n",
       "\n",
       "    .dataframe thead th {\n",
       "        text-align: right;\n",
       "    }\n",
       "</style>\n",
       "<table border=\"1\" class=\"dataframe\">\n",
       "  <thead>\n",
       "    <tr style=\"text-align: right;\">\n",
       "      <th></th>\n",
       "      <th>Mean</th>\n",
       "    </tr>\n",
       "  </thead>\n",
       "  <tbody>\n",
       "    <tr>\n",
       "      <th>EU Airlines</th>\n",
       "      <td>0.242</td>\n",
       "    </tr>\n",
       "    <tr>\n",
       "      <th>Ego Facebook</th>\n",
       "      <td>0.183</td>\n",
       "    </tr>\n",
       "    <tr>\n",
       "      <th>US Airports</th>\n",
       "      <td>0.190</td>\n",
       "    </tr>\n",
       "    <tr>\n",
       "      <th>Facebook Politician Pages</th>\n",
       "      <td>0.279</td>\n",
       "    </tr>\n",
       "    <tr>\n",
       "      <th>Facebook Friends</th>\n",
       "      <td>0.274</td>\n",
       "    </tr>\n",
       "    <tr>\n",
       "      <th>Yeast Collins</th>\n",
       "      <td>0.369</td>\n",
       "    </tr>\n",
       "    <tr>\n",
       "      <th>US Power Grids</th>\n",
       "      <td>0.458</td>\n",
       "    </tr>\n",
       "    <tr>\n",
       "      <th>DNC Emails</th>\n",
       "      <td>0.394</td>\n",
       "    </tr>\n",
       "    <tr>\n",
       "      <th>Yeast Protein</th>\n",
       "      <td>0.491</td>\n",
       "    </tr>\n",
       "    <tr>\n",
       "      <th>Hamsterster</th>\n",
       "      <td>0.308</td>\n",
       "    </tr>\n",
       "    <tr>\n",
       "      <th>Princeton</th>\n",
       "      <td>0.441</td>\n",
       "    </tr>\n",
       "    <tr>\n",
       "      <th>Facebook Organizations</th>\n",
       "      <td>0.335</td>\n",
       "    </tr>\n",
       "    <tr>\n",
       "      <th>Caltech</th>\n",
       "      <td>0.552</td>\n",
       "    </tr>\n",
       "    <tr>\n",
       "      <th>Deezer EU</th>\n",
       "      <td>0.514</td>\n",
       "    </tr>\n",
       "    <tr>\n",
       "      <th>Adolescent Health</th>\n",
       "      <td>0.340</td>\n",
       "    </tr>\n",
       "  </tbody>\n",
       "</table>\n",
       "</div>"
      ],
      "text/plain": [
       "                            Mean\n",
       "EU Airlines                0.242\n",
       "Ego Facebook               0.183\n",
       "US Airports                0.190\n",
       "Facebook Politician Pages  0.279\n",
       "Facebook Friends           0.274\n",
       "Yeast Collins              0.369\n",
       "US Power Grids             0.458\n",
       "DNC Emails                 0.394\n",
       "Yeast Protein              0.491\n",
       "Hamsterster                0.308\n",
       "Princeton                  0.441\n",
       "Facebook Organizations     0.335\n",
       "Caltech                    0.552\n",
       "Deezer EU                  0.514\n",
       "Adolescent Health          0.340"
      ]
     },
     "execution_count": 109,
     "metadata": {},
     "output_type": "execute_result"
    }
   ],
   "source": [
    "d1 = mean_infra_euairlines\n",
    "d2 = mean_osn_egofacebook\n",
    "d3 = mean_infra_usairports\n",
    "d4 = mean_osn_facebookpoliticianpages\n",
    "d5 = mean_osn_facebookfriends\n",
    "d6 = mean_bio_yeastcollins\n",
    "d7 = mean_infra_uspowergrid\n",
    "d8 = mean_misc_dncemails\n",
    "d9 = mean_bio_yeastprotein\n",
    "d10 = mean_osn_hamsterster\n",
    "d11 = mean_osn_princeton\n",
    "d12 = mean_osn_faceookorganizations\n",
    "d13 = mean_osn_caltech\n",
    "d14 = mean_osn_deezereu\n",
    "d15 = mean_humansocial_adolescenthealth\n",
    "\n",
    "\n",
    "df_dependent_variables = pd.DataFrame([d1, d2, d3, d4, d5, d6, d7, d8, d9, d10, d11, d12, d13, d14, d15])\n",
    "\n",
    "df_dependent_variables.rename(index={\n",
    "    0: \"EU Airlines\", \n",
    "    1: \"Ego Facebook\", \n",
    "    2: \"US Airports\", \n",
    "    3: \"Facebook Politician Pages\", \n",
    "    4: \"Facebook Friends\", \n",
    "    5: \"Yeast Collins\",\n",
    "    6: \"US Power Grids\", \n",
    "    7: \"DNC Emails\", \n",
    "    8: \"Yeast Protein\", \n",
    "    9: \"Hamsterster\", \n",
    "    10: \"Princeton\", \n",
    "    11: \"Facebook Organizations\", \n",
    "    12: \"Caltech\", \n",
    "    13: \"Deezer EU\", \n",
    "    14: \"Adolescent Health\"}, inplace=True)\n",
    "\n",
    "\n",
    "df_dependent_variables.rename(columns={0:\"Mean\"}, inplace=True)\n",
    "df_dependent_variables"
   ]
  },
  {
   "cell_type": "markdown",
   "metadata": {},
   "source": [
    "# Add the $\\mu$ mesoscopic feature (Independent variable)"
   ]
  },
  {
   "cell_type": "code",
   "execution_count": 110,
   "metadata": {},
   "outputs": [
    {
     "data": {
      "text/html": [
       "<div>\n",
       "<style scoped>\n",
       "    .dataframe tbody tr th:only-of-type {\n",
       "        vertical-align: middle;\n",
       "    }\n",
       "\n",
       "    .dataframe tbody tr th {\n",
       "        vertical-align: top;\n",
       "    }\n",
       "\n",
       "    .dataframe thead th {\n",
       "        text-align: right;\n",
       "    }\n",
       "</style>\n",
       "<table border=\"1\" class=\"dataframe\">\n",
       "  <thead>\n",
       "    <tr style=\"text-align: right;\">\n",
       "      <th></th>\n",
       "      <th>Mixing parameter</th>\n",
       "    </tr>\n",
       "  </thead>\n",
       "  <tbody>\n",
       "    <tr>\n",
       "      <th>EU Airlines</th>\n",
       "      <td>0.073</td>\n",
       "    </tr>\n",
       "    <tr>\n",
       "      <th>Ego Facebook</th>\n",
       "      <td>0.077</td>\n",
       "    </tr>\n",
       "    <tr>\n",
       "      <th>US Airports</th>\n",
       "      <td>0.080</td>\n",
       "    </tr>\n",
       "    <tr>\n",
       "      <th>Facebook Politician Pages</th>\n",
       "      <td>0.111</td>\n",
       "    </tr>\n",
       "    <tr>\n",
       "      <th>Facebook Friends</th>\n",
       "      <td>0.112</td>\n",
       "    </tr>\n",
       "    <tr>\n",
       "      <th>Yeast Collins</th>\n",
       "      <td>0.122</td>\n",
       "    </tr>\n",
       "    <tr>\n",
       "      <th>US Power Grids</th>\n",
       "      <td>0.166</td>\n",
       "    </tr>\n",
       "    <tr>\n",
       "      <th>DNC Emails</th>\n",
       "      <td>0.211</td>\n",
       "    </tr>\n",
       "    <tr>\n",
       "      <th>Yeast Protein</th>\n",
       "      <td>0.240</td>\n",
       "    </tr>\n",
       "    <tr>\n",
       "      <th>Hamsterster</th>\n",
       "      <td>0.298</td>\n",
       "    </tr>\n",
       "    <tr>\n",
       "      <th>Princeton</th>\n",
       "      <td>0.365</td>\n",
       "    </tr>\n",
       "    <tr>\n",
       "      <th>Facebook Organizations</th>\n",
       "      <td>0.366</td>\n",
       "    </tr>\n",
       "    <tr>\n",
       "      <th>Caltech</th>\n",
       "      <td>0.410</td>\n",
       "    </tr>\n",
       "    <tr>\n",
       "      <th>Deezer EU</th>\n",
       "      <td>0.429</td>\n",
       "    </tr>\n",
       "    <tr>\n",
       "      <th>Adolescent Health</th>\n",
       "      <td>0.431</td>\n",
       "    </tr>\n",
       "  </tbody>\n",
       "</table>\n",
       "</div>"
      ],
      "text/plain": [
       "                           Mixing parameter\n",
       "EU Airlines                           0.073\n",
       "Ego Facebook                          0.077\n",
       "US Airports                           0.080\n",
       "Facebook Politician Pages             0.111\n",
       "Facebook Friends                      0.112\n",
       "Yeast Collins                         0.122\n",
       "US Power Grids                        0.166\n",
       "DNC Emails                            0.211\n",
       "Yeast Protein                         0.240\n",
       "Hamsterster                           0.298\n",
       "Princeton                             0.365\n",
       "Facebook Organizations                0.366\n",
       "Caltech                               0.410\n",
       "Deezer EU                             0.429\n",
       "Adolescent Health                     0.431"
      ]
     },
     "execution_count": 110,
     "metadata": {},
     "output_type": "execute_result"
    }
   ],
   "source": [
    "euairlines_feature_vector = [0.073]\n",
    "egofacebook_feature_vector = [0.077]\n",
    "usairports_feature_vector = [0.08]\n",
    "facebookpoliticianpages_feature_vector = [0.111]\n",
    "facebookfriends_feature_vector = [0.112]\n",
    "yeastcollins_feature_vector = [0.122]\n",
    "uspowergrids_feature_vector = [0.166]\n",
    "dncemails_feature_vector = [0.211]\n",
    "yeastprotein_feature_vector = [0.240]\n",
    "hamsterster_feature_vector = [0.298]\n",
    "princeton_feature_vector = [0.365]\n",
    "facebookorganizations_feature_vector = [0.366]\n",
    "caltech_feature_vector = [0.410]\n",
    "deezereu_feature_vector = [0.429]\n",
    "adolescenthealth_feature_vector = [0.431]\n",
    "\n",
    "\n",
    "\n",
    "d1 = euairlines_feature_vector\n",
    "d2 = egofacebook_feature_vector\n",
    "d3 = usairports_feature_vector\n",
    "d4 = facebookpoliticianpages_feature_vector\n",
    "d5 = facebookfriends_feature_vector\n",
    "d6 = yeastcollins_feature_vector\n",
    "d7 = uspowergrids_feature_vector\n",
    "d8 = dncemails_feature_vector\n",
    "d9 = yeastprotein_feature_vector\n",
    "d10 = hamsterster_feature_vector\n",
    "d11 = princeton_feature_vector\n",
    "d12 = facebookorganizations_feature_vector\n",
    "d13 = caltech_feature_vector\n",
    "d14 = deezereu_feature_vector\n",
    "d15 = adolescenthealth_feature_vector\n",
    "\n",
    "\n",
    "df_meso = pd.DataFrame([d1, d2, d3, d4, d5, d6, d7, d8, d9, d10, d11, d12, d13, d14, d15],\n",
    "                 columns = [\"Mixing parameter\"])\n",
    "\n",
    "df_meso.rename(index={\n",
    "    0: \"EU Airlines\", \n",
    "    1: \"Ego Facebook\", \n",
    "    2: \"US Airports\", \n",
    "    3: \"Facebook Politician Pages\", \n",
    "    4: \"Facebook Friends\", \n",
    "    5: \"Yeast Collins\",\n",
    "    6: \"US Power Grids\", \n",
    "    7: \"DNC Emails\", \n",
    "    8: \"Yeast Protein\", \n",
    "    9: \"Hamsterster\", \n",
    "    10: \"Princeton\", \n",
    "    11: \"Facebook Organizations\", \n",
    "    12: \"Caltech\", \n",
    "    13: \"Deezer EU\", \n",
    "    14: \"Adolescent Health\", \n",
    "}, inplace=True)\n",
    "\n",
    "df_meso"
   ]
  },
  {
   "cell_type": "markdown",
   "metadata": {},
   "source": [
    "# Add a color to each network "
   ]
  },
  {
   "cell_type": "code",
   "execution_count": 111,
   "metadata": {},
   "outputs": [],
   "source": [
    "df_dependent_variables[\"Color\"] = ['slategrey', # Infra - EU Airlines\n",
    "                    'orange', # OSN - Ego Facebook\n",
    "                    'slategrey',  # Infra - US Airp\n",
    "                    'orange', # OSN - Facebook Pol\n",
    "                    'orange',  # OSN - Facebook Friends                             \n",
    "                    'darksalmon', # Bio - Yeast Collins \n",
    "                    'slategrey', # Infra - US Power Grids\n",
    "                   'orange',  # OSN - DNC Email\n",
    "                    'darksalmon', # Bio - Yeast Protein\n",
    "                    'orange', # OSN- Hamsterster\n",
    "                    'orange', # OSN - Princeton\n",
    "                    'orange', # OSN - FB Org\n",
    "                    'orange', # OSN - Caltech\n",
    "                    'orange', # OSN - Deezer EU\n",
    "                    'plum', # Human Social - Adol Health\n",
    "                   ]"
   ]
  },
  {
   "cell_type": "code",
   "execution_count": null,
   "metadata": {},
   "outputs": [],
   "source": []
  },
  {
   "cell_type": "code",
   "execution_count": null,
   "metadata": {},
   "outputs": [],
   "source": []
  },
  {
   "cell_type": "markdown",
   "metadata": {},
   "source": [
    "# Performing the Univariate Linear Regression\n",
    "Once you added the data into Python, you may use both `sklearn` and `statsmodels` to get the regression results.\n",
    "\n",
    "Either method would work, but let’s review both methods for illustration purposes."
   ]
  },
  {
   "cell_type": "code",
   "execution_count": 112,
   "metadata": {},
   "outputs": [],
   "source": [
    "from sklearn.linear_model import LinearRegression\n",
    "import statsmodels.api as sm"
   ]
  },
  {
   "cell_type": "markdown",
   "metadata": {},
   "source": [
    "## Mean vs. Mixing Parameter"
   ]
  },
  {
   "cell_type": "code",
   "execution_count": 113,
   "metadata": {},
   "outputs": [],
   "source": [
    "X = df_meso[['Mixing parameter']]"
   ]
  },
  {
   "cell_type": "code",
   "execution_count": 114,
   "metadata": {},
   "outputs": [],
   "source": [
    "Y = df_dependent_variables['Mean']"
   ]
  },
  {
   "cell_type": "markdown",
   "metadata": {},
   "source": [
    "### with `sklearn`"
   ]
  },
  {
   "cell_type": "code",
   "execution_count": 115,
   "metadata": {},
   "outputs": [
    {
     "data": {
      "text/plain": [
       "LinearRegression()"
      ]
     },
     "execution_count": 115,
     "metadata": {},
     "output_type": "execute_result"
    }
   ],
   "source": [
    "regr = LinearRegression()\n",
    "regr.fit(X, Y)"
   ]
  },
  {
   "cell_type": "code",
   "execution_count": 116,
   "metadata": {},
   "outputs": [
    {
     "name": "stdout",
     "output_type": "stream",
     "text": [
      "Intercept: \n",
      " 0.22834404829417068\n",
      "Coefficients: \n",
      " [0.55710091]\n"
     ]
    }
   ],
   "source": [
    "print('Intercept: \\n', regr.intercept_)\n",
    "print('Coefficients: \\n', regr.coef_)"
   ]
  },
  {
   "cell_type": "markdown",
   "metadata": {},
   "source": [
    "### Plot "
   ]
  },
  {
   "cell_type": "code",
   "execution_count": 117,
   "metadata": {},
   "outputs": [
    {
     "data": {
      "image/png": "[encoded data removed]",
      "text/plain": [
       "<Figure size 432x288 with 1 Axes>"
      ]
     },
     "metadata": {
      "needs_background": "light"
     },
     "output_type": "display_data"
    }
   ],
   "source": [
    "predictions = regr.predict(X)\n",
    "#plt.figure(figsize=(16, 8))\n",
    "plt.scatter(\n",
    "    df_meso['Mixing parameter'],\n",
    "    df_dependent_variables['Mean'],\n",
    "    c=df_dependent_variables[\"Color\"],\n",
    ")\n",
    "plt.plot(\n",
    "    df_meso['Mixing parameter'],\n",
    "    predictions,\n",
    "    c='black',\n",
    "    linewidth=2\n",
    ")\n",
    "\n",
    "\n",
    "plt.xlabel(\"Mixing parameter\")\n",
    "plt.ylabel(\"Mean\")\n",
    "plt.show()"
   ]
  },
  {
   "cell_type": "code",
   "execution_count": 118,
   "metadata": {},
   "outputs": [
    {
     "data": {
      "text/plain": [
       "[0.073,\n",
       " 0.077,\n",
       " 0.08,\n",
       " 0.111,\n",
       " 0.112,\n",
       " 0.122,\n",
       " 0.166,\n",
       " 0.211,\n",
       " 0.24,\n",
       " 0.298,\n",
       " 0.365,\n",
       " 0.366,\n",
       " 0.41,\n",
       " 0.429,\n",
       " 0.431]"
      ]
     },
     "execution_count": 118,
     "metadata": {},
     "output_type": "execute_result"
    }
   ],
   "source": [
    "x = df_meso['Mixing parameter']\n",
    "x = x.tolist()\n",
    "x"
   ]
  },
  {
   "cell_type": "code",
   "execution_count": 119,
   "metadata": {},
   "outputs": [
    {
     "data": {
      "text/plain": [
       "[0.242,\n",
       " 0.183,\n",
       " 0.19,\n",
       " 0.279,\n",
       " 0.274,\n",
       " 0.369,\n",
       " 0.458,\n",
       " 0.394,\n",
       " 0.491,\n",
       " 0.308,\n",
       " 0.441,\n",
       " 0.335,\n",
       " 0.552,\n",
       " 0.514,\n",
       " 0.34]"
      ]
     },
     "execution_count": 119,
     "metadata": {},
     "output_type": "execute_result"
    }
   ],
   "source": [
    "y = df_dependent_variables['Mean']\n",
    "y = y.tolist()\n",
    "y"
   ]
  },
  {
   "cell_type": "code",
   "execution_count": 120,
   "metadata": {},
   "outputs": [
    {
     "data": {
      "image/png": "[encoded data removed]",
      "text/plain": [
       "<Figure size 432x288 with 1 Axes>"
      ]
     },
     "metadata": {
      "needs_background": "light"
     },
     "output_type": "display_data"
    }
   ],
   "source": [
    "text = ['B', # Infra - EU Airlines\n",
    "                    'J', # OSN - Ego Facebook\n",
    "                    'C',  # Infra - US Airp\n",
    "                    'M', # OSN - Facebook Pol\n",
    "                    'A',  # OSN - Facebook Friends                             \n",
    "                    'F', # Bio - Yeast Collins \n",
    "                    'K', # Infra - US Power Grids\n",
    "                   'E',  # OSN - DNC Email\n",
    "                    'G', # Bio - Yeast Protein\n",
    "                    'H', # OSN- Hamsterster\n",
    "                    'N', # OSN - Princeton\n",
    "                    'L', # OSN - FB Org\n",
    "                    'D', # OSN - Caltech\n",
    "                    'O', # OSN - Deezer EU\n",
    "                    'I', # Human Social - Adol Health\n",
    "                   ]\n",
    "\n",
    "predictions = regr.predict(X)\n",
    "#plt.figure(figsize=(16, 8))\n",
    "plt.scatter(\n",
    "    df_meso['Mixing parameter'],\n",
    "    df_dependent_variables['Mean'],\n",
    "    c=df_dependent_variables[\"Color\"],\n",
    ")\n",
    "plt.plot(\n",
    "    df_meso['Mixing parameter'],\n",
    "    predictions,\n",
    "    c='black',\n",
    "    linewidth=2\n",
    ")\n",
    "\n",
    "# Loop for annotation of all points\n",
    "for i in range(len(text)):\n",
    "    plt.annotate(text[i], (x[i]+0.005, y[i]), fontsize=12)\n",
    "\n",
    "plt.xlabel(\"Mixing parameter\")\n",
    "plt.ylabel(\"Mean\")\n",
    "plt.show()\n",
    "\n"
   ]
  },
  {
   "cell_type": "markdown",
   "metadata": {},
   "source": [
    "### with `statsmodels`"
   ]
  },
  {
   "cell_type": "code",
   "execution_count": 121,
   "metadata": {
    "scrolled": false
   },
   "outputs": [
    {
     "name": "stderr",
     "output_type": "stream",
     "text": [
      "C:\\Users\\steph\\anaconda3\\lib\\site-packages\\scipy\\stats\\stats.py:1603: UserWarning: kurtosistest only valid for n>=20 ... continuing anyway, n=15\n",
      "  warnings.warn(\"kurtosistest only valid for n>=20 ... continuing \"\n"
     ]
    },
    {
     "data": {
      "text/html": [
       "<table class=\"simpletable\">\n",
       "<caption>OLS Regression Results</caption>\n",
       "<tr>\n",
       "  <th>Dep. Variable:</th>          <td>Mean</td>       <th>  R-squared:         </th> <td>   0.446</td>\n",
       "</tr>\n",
       "<tr>\n",
       "  <th>Model:</th>                   <td>OLS</td>       <th>  Adj. R-squared:    </th> <td>   0.403</td>\n",
       "</tr>\n",
       "<tr>\n",
       "  <th>Method:</th>             <td>Least Squares</td>  <th>  F-statistic:       </th> <td>   10.46</td>\n",
       "</tr>\n",
       "<tr>\n",
       "  <th>Date:</th>             <td>Wed, 15 Dec 2021</td> <th>  Prob (F-statistic):</th>  <td>0.00653</td>\n",
       "</tr>\n",
       "<tr>\n",
       "  <th>Time:</th>                 <td>00:32:57</td>     <th>  Log-Likelihood:    </th> <td>  16.031</td>\n",
       "</tr>\n",
       "<tr>\n",
       "  <th>No. Observations:</th>      <td>    15</td>      <th>  AIC:               </th> <td>  -28.06</td>\n",
       "</tr>\n",
       "<tr>\n",
       "  <th>Df Residuals:</th>          <td>    13</td>      <th>  BIC:               </th> <td>  -26.65</td>\n",
       "</tr>\n",
       "<tr>\n",
       "  <th>Df Model:</th>              <td>     1</td>      <th>                     </th>     <td> </td>   \n",
       "</tr>\n",
       "<tr>\n",
       "  <th>Covariance Type:</th>      <td>nonrobust</td>    <th>                     </th>     <td> </td>   \n",
       "</tr>\n",
       "</table>\n",
       "<table class=\"simpletable\">\n",
       "<tr>\n",
       "          <td></td>            <th>coef</th>     <th>std err</th>      <th>t</th>      <th>P>|t|</th>  <th>[0.025</th>    <th>0.975]</th>  \n",
       "</tr>\n",
       "<tr>\n",
       "  <th>const</th>            <td>    0.2283</td> <td>    0.046</td> <td>    4.938</td> <td> 0.000</td> <td>    0.128</td> <td>    0.328</td>\n",
       "</tr>\n",
       "<tr>\n",
       "  <th>Mixing parameter</th> <td>    0.5571</td> <td>    0.172</td> <td>    3.234</td> <td> 0.007</td> <td>    0.185</td> <td>    0.929</td>\n",
       "</tr>\n",
       "</table>\n",
       "<table class=\"simpletable\">\n",
       "<tr>\n",
       "  <th>Omnibus:</th>       <td> 1.979</td> <th>  Durbin-Watson:     </th> <td>   1.665</td>\n",
       "</tr>\n",
       "<tr>\n",
       "  <th>Prob(Omnibus):</th> <td> 0.372</td> <th>  Jarque-Bera (JB):  </th> <td>   0.973</td>\n",
       "</tr>\n",
       "<tr>\n",
       "  <th>Skew:</th>          <td> 0.142</td> <th>  Prob(JB):          </th> <td>   0.615</td>\n",
       "</tr>\n",
       "<tr>\n",
       "  <th>Kurtosis:</th>      <td> 1.785</td> <th>  Cond. No.          </th> <td>    7.89</td>\n",
       "</tr>\n",
       "</table><br/><br/>Notes:<br/>[1] Standard Errors assume that the covariance matrix of the errors is correctly specified."
      ],
      "text/plain": [
       "<class 'statsmodels.iolib.summary.Summary'>\n",
       "\"\"\"\n",
       "                            OLS Regression Results                            \n",
       "==============================================================================\n",
       "Dep. Variable:                   Mean   R-squared:                       0.446\n",
       "Model:                            OLS   Adj. R-squared:                  0.403\n",
       "Method:                 Least Squares   F-statistic:                     10.46\n",
       "Date:                Wed, 15 Dec 2021   Prob (F-statistic):            0.00653\n",
       "Time:                        00:32:57   Log-Likelihood:                 16.031\n",
       "No. Observations:                  15   AIC:                            -28.06\n",
       "Df Residuals:                      13   BIC:                            -26.65\n",
       "Df Model:                           1                                         \n",
       "Covariance Type:            nonrobust                                         \n",
       "====================================================================================\n",
       "                       coef    std err          t      P>|t|      [0.025      0.975]\n",
       "------------------------------------------------------------------------------------\n",
       "const                0.2283      0.046      4.938      0.000       0.128       0.328\n",
       "Mixing parameter     0.5571      0.172      3.234      0.007       0.185       0.929\n",
       "==============================================================================\n",
       "Omnibus:                        1.979   Durbin-Watson:                   1.665\n",
       "Prob(Omnibus):                  0.372   Jarque-Bera (JB):                0.973\n",
       "Skew:                           0.142   Prob(JB):                        0.615\n",
       "Kurtosis:                       1.785   Cond. No.                         7.89\n",
       "==============================================================================\n",
       "\n",
       "Notes:\n",
       "[1] Standard Errors assume that the covariance matrix of the errors is correctly specified.\n",
       "\"\"\""
      ]
     },
     "execution_count": 121,
     "metadata": {},
     "output_type": "execute_result"
    }
   ],
   "source": [
    "X = sm.add_constant(X) # adding a constant\n",
    " \n",
    "model = sm.OLS(Y, X).fit()\n",
    "predictions = model.predict(X) \n",
    " \n",
    "print_model = model.summary()\n",
    "print_model"
   ]
  },
  {
   "cell_type": "code",
   "execution_count": 122,
   "metadata": {},
   "outputs": [
    {
     "data": {
      "text/plain": [
       "const               0.000271\n",
       "Mixing parameter    0.006528\n",
       "dtype: float64"
      ]
     },
     "execution_count": 122,
     "metadata": {},
     "output_type": "execute_result"
    }
   ],
   "source": [
    "model.pvalues[model.pvalues < 0.05]"
   ]
  },
  {
   "cell_type": "code",
   "execution_count": 123,
   "metadata": {
    "scrolled": true
   },
   "outputs": [
    {
     "data": {
      "text/plain": [
       "const               0.000271\n",
       "Mixing parameter    0.006528\n",
       "dtype: float64"
      ]
     },
     "execution_count": 123,
     "metadata": {},
     "output_type": "execute_result"
    }
   ],
   "source": [
    "model.pvalues[model.pvalues < 0.01]"
   ]
  }
 ],
 "metadata": {
  "kernelspec": {
   "display_name": "Python 3",
   "language": "python",
   "name": "python3"
  },
  "language_info": {
   "codemirror_mode": {
    "name": "ipython",
    "version": 3
   },
   "file_extension": ".py",
   "mimetype": "text/x-python",
   "name": "python",
   "nbconvert_exporter": "python",
   "pygments_lexer": "ipython3",
   "version": "3.8.8"
  },
  "toc": {
   "base_numbering": 1,
   "nav_menu": {},
   "number_sections": true,
   "sideBar": true,
   "skip_h1_title": false,
   "title_cell": "Table of Contents",
   "title_sidebar": "Contents",
   "toc_cell": false,
   "toc_position": {},
   "toc_section_display": true,
   "toc_window_display": true
  }
 },
 "nbformat": 4,
 "nbformat_minor": 4
}
