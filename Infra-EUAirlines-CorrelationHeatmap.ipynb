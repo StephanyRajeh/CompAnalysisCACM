{
 "cells": [
  {
   "cell_type": "markdown",
   "metadata": {},
   "source": [
    "# Read Dataset and Get Characteristics"
   ]
  },
  {
   "cell_type": "code",
   "execution_count": 1,
   "metadata": {},
   "outputs": [],
   "source": [
    "import networkx as nx\n",
    "import numpy as np\n",
    "import matplotlib.pyplot as plt\n",
    "import operator\n",
    "import seaborn as sns\n",
    "import scipy.stats as stats\n",
    "import pandas as pd"
   ]
  },
  {
   "cell_type": "code",
   "execution_count": 2,
   "metadata": {},
   "outputs": [
    {
     "data": {
      "text/html": [
       "<div>\n",
       "<style scoped>\n",
       "    .dataframe tbody tr th:only-of-type {\n",
       "        vertical-align: middle;\n",
       "    }\n",
       "\n",
       "    .dataframe tbody tr th {\n",
       "        vertical-align: top;\n",
       "    }\n",
       "\n",
       "    .dataframe thead th {\n",
       "        text-align: right;\n",
       "    }\n",
       "</style>\n",
       "<table border=\"1\" class=\"dataframe\">\n",
       "  <thead>\n",
       "    <tr style=\"text-align: right;\">\n",
       "      <th></th>\n",
       "      <th># source</th>\n",
       "      <th>target</th>\n",
       "      <th>weight</th>\n",
       "      <th>layer</th>\n",
       "    </tr>\n",
       "  </thead>\n",
       "  <tbody>\n",
       "    <tr>\n",
       "      <th>0</th>\n",
       "      <td>0</td>\n",
       "      <td>1</td>\n",
       "      <td>1</td>\n",
       "      <td>1</td>\n",
       "    </tr>\n",
       "    <tr>\n",
       "      <th>1</th>\n",
       "      <td>0</td>\n",
       "      <td>37</td>\n",
       "      <td>1</td>\n",
       "      <td>1</td>\n",
       "    </tr>\n",
       "    <tr>\n",
       "      <th>2</th>\n",
       "      <td>0</td>\n",
       "      <td>251</td>\n",
       "      <td>1</td>\n",
       "      <td>3</td>\n",
       "    </tr>\n",
       "    <tr>\n",
       "      <th>3</th>\n",
       "      <td>0</td>\n",
       "      <td>70</td>\n",
       "      <td>1</td>\n",
       "      <td>4</td>\n",
       "    </tr>\n",
       "    <tr>\n",
       "      <th>4</th>\n",
       "      <td>0</td>\n",
       "      <td>63</td>\n",
       "      <td>1</td>\n",
       "      <td>14</td>\n",
       "    </tr>\n",
       "  </tbody>\n",
       "</table>\n",
       "</div>"
      ],
      "text/plain": [
       "   # source   target   weight   layer\n",
       "0         0        1        1       1\n",
       "1         0       37        1       1\n",
       "2         0      251        1       3\n",
       "3         0       70        1       4\n",
       "4         0       63        1      14"
      ]
     },
     "execution_count": 2,
     "metadata": {},
     "output_type": "execute_result"
    }
   ],
   "source": [
    "#First, read it in as a normal dataframe\n",
    "df = pd.read_csv(r\".\\eu_airlines\\edges.csv\")\n",
    "df.head()"
   ]
  },
  {
   "cell_type": "code",
   "execution_count": 3,
   "metadata": {},
   "outputs": [
    {
     "data": {
      "text/html": [
       "<div>\n",
       "<style scoped>\n",
       "    .dataframe tbody tr th:only-of-type {\n",
       "        vertical-align: middle;\n",
       "    }\n",
       "\n",
       "    .dataframe tbody tr th {\n",
       "        vertical-align: top;\n",
       "    }\n",
       "\n",
       "    .dataframe thead th {\n",
       "        text-align: right;\n",
       "    }\n",
       "</style>\n",
       "<table border=\"1\" class=\"dataframe\">\n",
       "  <thead>\n",
       "    <tr style=\"text-align: right;\">\n",
       "      <th></th>\n",
       "      <th>s</th>\n",
       "      <th>t</th>\n",
       "    </tr>\n",
       "  </thead>\n",
       "  <tbody>\n",
       "    <tr>\n",
       "      <th>0</th>\n",
       "      <td>0</td>\n",
       "      <td>1</td>\n",
       "    </tr>\n",
       "    <tr>\n",
       "      <th>1</th>\n",
       "      <td>0</td>\n",
       "      <td>37</td>\n",
       "    </tr>\n",
       "    <tr>\n",
       "      <th>2</th>\n",
       "      <td>0</td>\n",
       "      <td>251</td>\n",
       "    </tr>\n",
       "    <tr>\n",
       "      <th>3</th>\n",
       "      <td>0</td>\n",
       "      <td>70</td>\n",
       "    </tr>\n",
       "    <tr>\n",
       "      <th>4</th>\n",
       "      <td>0</td>\n",
       "      <td>63</td>\n",
       "    </tr>\n",
       "    <tr>\n",
       "      <th>...</th>\n",
       "      <td>...</td>\n",
       "      <td>...</td>\n",
       "    </tr>\n",
       "    <tr>\n",
       "      <th>3583</th>\n",
       "      <td>383</td>\n",
       "      <td>396</td>\n",
       "    </tr>\n",
       "    <tr>\n",
       "      <th>3584</th>\n",
       "      <td>385</td>\n",
       "      <td>413</td>\n",
       "    </tr>\n",
       "    <tr>\n",
       "      <th>3585</th>\n",
       "      <td>409</td>\n",
       "      <td>420</td>\n",
       "    </tr>\n",
       "    <tr>\n",
       "      <th>3586</th>\n",
       "      <td>435</td>\n",
       "      <td>444</td>\n",
       "    </tr>\n",
       "    <tr>\n",
       "      <th>3587</th>\n",
       "      <td>442</td>\n",
       "      <td>446</td>\n",
       "    </tr>\n",
       "  </tbody>\n",
       "</table>\n",
       "<p>3588 rows × 2 columns</p>\n",
       "</div>"
      ],
      "text/plain": [
       "        s    t\n",
       "0       0    1\n",
       "1       0   37\n",
       "2       0  251\n",
       "3       0   70\n",
       "4       0   63\n",
       "...   ...  ...\n",
       "3583  383  396\n",
       "3584  385  413\n",
       "3585  409  420\n",
       "3586  435  444\n",
       "3587  442  446\n",
       "\n",
       "[3588 rows x 2 columns]"
      ]
     },
     "execution_count": 3,
     "metadata": {},
     "output_type": "execute_result"
    }
   ],
   "source": [
    "df = df.iloc[:, 0:2]\n",
    "df.rename(columns={'# source':'s', ' target':'t'}, inplace=True)\n",
    "df"
   ]
  },
  {
   "cell_type": "code",
   "execution_count": 4,
   "metadata": {},
   "outputs": [
    {
     "name": "stdout",
     "output_type": "stream",
     "text": [
      "Graph with 417 nodes and 2953 edges\n"
     ]
    }
   ],
   "source": [
    "#Convert it to a graph\n",
    "#Each row is an edge with a source and a target. The network will automatically create nodes for you based on their names.\n",
    "g = nx.from_pandas_edgelist(df, source='s', target='t')\n",
    "print(nx.info(g))"
   ]
  },
  {
   "cell_type": "code",
   "execution_count": 5,
   "metadata": {},
   "outputs": [],
   "source": [
    "g = g.to_undirected()"
   ]
  },
  {
   "cell_type": "code",
   "execution_count": 6,
   "metadata": {},
   "outputs": [
    {
     "name": "stdout",
     "output_type": "stream",
     "text": [
      "Graph with 417 nodes and 2953 edges\n"
     ]
    }
   ],
   "source": [
    "#Get Simple Graph\n",
    "#Remove self-loops\n",
    "\n",
    "g.remove_edges_from(nx.selfloop_edges(g))\n",
    "print(nx.info(g))"
   ]
  },
  {
   "cell_type": "markdown",
   "metadata": {},
   "source": [
    "# Check connectedness"
   ]
  },
  {
   "cell_type": "code",
   "execution_count": 7,
   "metadata": {},
   "outputs": [
    {
     "data": {
      "text/plain": [
       "True"
      ]
     },
     "execution_count": 7,
     "metadata": {},
     "output_type": "execute_result"
    }
   ],
   "source": [
    "nx.is_connected(g)"
   ]
  },
  {
   "cell_type": "code",
   "execution_count": 8,
   "metadata": {},
   "outputs": [
    {
     "data": {
      "text/plain": [
       "1"
      ]
     },
     "execution_count": 8,
     "metadata": {},
     "output_type": "execute_result"
    }
   ],
   "source": [
    "nx.number_connected_components(g)"
   ]
  },
  {
   "cell_type": "markdown",
   "metadata": {},
   "source": [
    "# Relabel it all if nodes are strings\n",
    "- To be able to run all types of correlation together\n",
    "- But put the graph relabled in `g_relabled`"
   ]
  },
  {
   "cell_type": "code",
   "execution_count": 9,
   "metadata": {
    "scrolled": true
   },
   "outputs": [],
   "source": [
    "from myTruss import mappingAndRelabeling"
   ]
  },
  {
   "cell_type": "code",
   "execution_count": 10,
   "metadata": {},
   "outputs": [],
   "source": [
    "g_relabled = mappingAndRelabeling(g)"
   ]
  },
  {
   "cell_type": "code",
   "execution_count": 11,
   "metadata": {},
   "outputs": [
    {
     "name": "stdout",
     "output_type": "stream",
     "text": [
      "Graph with 417 nodes and 2953 edges\n"
     ]
    }
   ],
   "source": [
    "\"\"\"Before\"\"\" \n",
    "print(nx.info(g))"
   ]
  },
  {
   "cell_type": "code",
   "execution_count": 12,
   "metadata": {},
   "outputs": [
    {
     "name": "stdout",
     "output_type": "stream",
     "text": [
      "Graph with 417 nodes and 2953 edges\n"
     ]
    }
   ],
   "source": [
    "\"\"\"Before\"\"\" \n",
    "print(nx.info(g_relabled))"
   ]
  },
  {
   "cell_type": "code",
   "execution_count": 13,
   "metadata": {},
   "outputs": [],
   "source": [
    "g = g_relabled"
   ]
  },
  {
   "cell_type": "code",
   "execution_count": null,
   "metadata": {},
   "outputs": [],
   "source": []
  },
  {
   "cell_type": "markdown",
   "metadata": {},
   "source": [
    "# Modular Centrality 1: Comm Centrality"
   ]
  },
  {
   "cell_type": "code",
   "execution_count": 14,
   "metadata": {},
   "outputs": [],
   "source": [
    "# Read Centrality\n",
    "dict_com_read = dict()\n",
    "with open(r'.\\CentralityResults\\Infra-EUAirlines\\dict_com.txt') as raw_data:\n",
    "    for item in raw_data:\n",
    "        if ':' in item:\n",
    "            key,value = item.split(':', 1)\n",
    "            value = value.replace('\\n', '')\n",
    "            dict_com_read[int(key)]=float(value)\n",
    "        else:\n",
    "            pass # deal with bad lines of text here"
   ]
  },
  {
   "cell_type": "code",
   "execution_count": 15,
   "metadata": {
    "scrolled": true
   },
   "outputs": [
    {
     "data": {
      "text/plain": [
       "19.562082783601774"
      ]
     },
     "execution_count": 15,
     "metadata": {},
     "output_type": "execute_result"
    }
   ],
   "source": [
    "dict_com_read[1]"
   ]
  },
  {
   "cell_type": "markdown",
   "metadata": {},
   "source": [
    "# Modular Centrality 2: CBM - Community-based Mediator"
   ]
  },
  {
   "cell_type": "code",
   "execution_count": 16,
   "metadata": {},
   "outputs": [],
   "source": [
    "# Read Centrality\n",
    "dict_cbm_read = dict()\n",
    "with open(r'.\\CentralityResults\\Infra-EUAirlines\\dict_cbm.txt') as raw_data:\n",
    "    for item in raw_data:\n",
    "        if ':' in item:\n",
    "            key,value = item.split(':', 1)\n",
    "            value = value.replace('\\n', '')\n",
    "            dict_cbm_read[int(key)]=float(value)\n",
    "        else:\n",
    "            pass # deal with bad lines of text here"
   ]
  },
  {
   "cell_type": "code",
   "execution_count": 17,
   "metadata": {},
   "outputs": [
    {
     "data": {
      "text/plain": [
       "0.0012931880450018501"
      ]
     },
     "execution_count": 17,
     "metadata": {},
     "output_type": "execute_result"
    }
   ],
   "source": [
    "dict_cbm_read[1]"
   ]
  },
  {
   "cell_type": "markdown",
   "metadata": {},
   "source": [
    "# Modular Centrality 3: Community Hub-Bridge centrality"
   ]
  },
  {
   "cell_type": "code",
   "execution_count": 18,
   "metadata": {},
   "outputs": [],
   "source": [
    "# Read Centrality\n",
    "dict_chb_read = dict()\n",
    "with open(r'.\\CentralityResults\\Infra-EUAirlines\\dict_chb.txt') as raw_data:\n",
    "    for item in raw_data:\n",
    "        if ':' in item:\n",
    "            key,value = item.split(':', 1)\n",
    "            value = value.replace('\\n', '')\n",
    "            dict_chb_read[int(key)]=float(value)\n",
    "        else:\n",
    "            pass # deal with bad lines of text here"
   ]
  },
  {
   "cell_type": "code",
   "execution_count": 19,
   "metadata": {},
   "outputs": [
    {
     "data": {
      "text/plain": [
       "0.7961630695443646"
      ]
     },
     "execution_count": 19,
     "metadata": {},
     "output_type": "execute_result"
    }
   ],
   "source": [
    "dict_chb_read[0]"
   ]
  },
  {
   "cell_type": "markdown",
   "metadata": {},
   "source": [
    "# Modular Centrality 4: K-shell with community centrality"
   ]
  },
  {
   "cell_type": "code",
   "execution_count": 20,
   "metadata": {},
   "outputs": [],
   "source": [
    "# Read Centrality\n",
    "dict_kshell_read = dict()\n",
    "with open(r'.\\CentralityResults\\Infra-EUAirlines\\dict_kshell.txt') as raw_data:\n",
    "    for item in raw_data:\n",
    "        if ':' in item:\n",
    "            key,value = item.split(':', 1)\n",
    "            value = value.replace('\\n', '')\n",
    "            dict_kshell_read[int(key)]=float(value)\n",
    "        else:\n",
    "            pass # deal with bad lines of text here"
   ]
  },
  {
   "cell_type": "code",
   "execution_count": 21,
   "metadata": {},
   "outputs": [
    {
     "data": {
      "text/plain": [
       "13.5"
      ]
     },
     "execution_count": 21,
     "metadata": {},
     "output_type": "execute_result"
    }
   ],
   "source": [
    "dict_kshell_read[1]"
   ]
  },
  {
   "cell_type": "markdown",
   "metadata": {},
   "source": [
    "# Modular Centrality 5: Community Based Centrality"
   ]
  },
  {
   "cell_type": "code",
   "execution_count": 22,
   "metadata": {},
   "outputs": [],
   "source": [
    "# Read Centrality\n",
    "dict_cbc_read = dict()\n",
    "with open(r'.\\CentralityResults\\Infra-EUAirlines\\dict_cbc.txt') as raw_data:\n",
    "    for item in raw_data:\n",
    "        if ':' in item:\n",
    "            key,value = item.split(':', 1)\n",
    "            value = value.replace('\\n', '')\n",
    "            dict_cbc_read[int(key)]=float(value)\n",
    "        else:\n",
    "            pass # deal with bad lines of text here"
   ]
  },
  {
   "cell_type": "code",
   "execution_count": 23,
   "metadata": {},
   "outputs": [
    {
     "data": {
      "text/plain": [
       "66.58273381294957"
      ]
     },
     "execution_count": 23,
     "metadata": {},
     "output_type": "execute_result"
    }
   ],
   "source": [
    "dict_cbc_read[1]"
   ]
  },
  {
   "cell_type": "markdown",
   "metadata": {},
   "source": [
    "# Modular Centrality 6: Participation Coefficient"
   ]
  },
  {
   "cell_type": "code",
   "execution_count": 24,
   "metadata": {},
   "outputs": [],
   "source": [
    "# Read Centrality\n",
    "dict_pc_read = dict()\n",
    "with open(r'.\\CentralityResults\\Infra-EUAirlines/dict_pc.txt') as raw_data:\n",
    "    for item in raw_data:\n",
    "        if ':' in item:\n",
    "            key,value = item.split(':', 1)\n",
    "            value = value.replace('\\n', '')\n",
    "            dict_pc_read[int(key)]=float(value)\n",
    "        else:\n",
    "            pass # deal with bad lines of text here"
   ]
  },
  {
   "cell_type": "code",
   "execution_count": 25,
   "metadata": {
    "scrolled": true
   },
   "outputs": [
    {
     "data": {
      "text/plain": [
       "0.1649559231976815"
      ]
     },
     "execution_count": 25,
     "metadata": {},
     "output_type": "execute_result"
    }
   ],
   "source": [
    "dict_pc_read[1]"
   ]
  },
  {
   "cell_type": "markdown",
   "metadata": {},
   "source": [
    "# Modular Centrality 7: Mod Vitality"
   ]
  },
  {
   "cell_type": "code",
   "execution_count": 26,
   "metadata": {},
   "outputs": [],
   "source": [
    "# Read Centrality\n",
    "dict_modv_read = dict()\n",
    "with open(r'.\\CentralityResults\\Infra-EUAirlines\\dict_original_modv.txt') as raw_data:\n",
    "    for item in raw_data:\n",
    "        if ':' in item:\n",
    "            key,value = item.split(':', 1)\n",
    "            value = value.replace('\\n', '')\n",
    "            dict_modv_read[int(key)]=float(value)\n",
    "        else:\n",
    "            pass # deal with bad lines of text here"
   ]
  },
  {
   "cell_type": "code",
   "execution_count": 27,
   "metadata": {},
   "outputs": [
    {
     "data": {
      "text/plain": [
       "-0.0034346499624277743"
      ]
     },
     "execution_count": 27,
     "metadata": {},
     "output_type": "execute_result"
    }
   ],
   "source": [
    "dict_modv_read[1]"
   ]
  },
  {
   "cell_type": "raw",
   "metadata": {},
   "source": [
    "# Helper functions for ModV"
   ]
  },
  {
   "cell_type": "code",
   "execution_count": 30,
   "metadata": {},
   "outputs": [],
   "source": [
    "import collections\n",
    "import heapq\n",
    "import operator\n",
    "\n",
    "# Returns a list of the top_k nodes and their centralities, and heap (list) of top k nodes --> heap will be used for removal\n",
    "def get_top_k_best_nodes(dict_centrality, k):\n",
    "    \n",
    "    # The sorted() function returns a sorted list of the specified iterable object\n",
    "    top_k = sorted(dict_centrality.items(), key=operator.itemgetter(1), reverse=True)[:k]\n",
    "    first_nodes = heapq.nlargest(k, dict_centrality, key=dict_centrality.get)\n",
    "    \n",
    "    return top_k, first_nodes"
   ]
  },
  {
   "cell_type": "code",
   "execution_count": 31,
   "metadata": {
    "scrolled": true
   },
   "outputs": [
    {
     "data": {
      "text/plain": [
       "417"
      ]
     },
     "execution_count": 31,
     "metadata": {},
     "output_type": "execute_result"
    }
   ],
   "source": [
    "network_size = len(g.nodes())\n",
    "network_size"
   ]
  },
  {
   "cell_type": "markdown",
   "metadata": {},
   "source": [
    "## Pos to neg"
   ]
  },
  {
   "cell_type": "code",
   "execution_count": 34,
   "metadata": {},
   "outputs": [],
   "source": [
    "dict_original_modv = dict_modv_read\n",
    "x_top, y_top = get_top_k_best_nodes(dict_original_modv, network_size)"
   ]
  },
  {
   "cell_type": "code",
   "execution_count": 35,
   "metadata": {},
   "outputs": [
    {
     "data": {
      "text/plain": [
       "(22, 0.012797981570675507)"
      ]
     },
     "execution_count": 35,
     "metadata": {},
     "output_type": "execute_result"
    }
   ],
   "source": [
    "x_top[0]"
   ]
  },
  {
   "cell_type": "markdown",
   "metadata": {},
   "source": [
    "# Correlation between centralities"
   ]
  },
  {
   "cell_type": "code",
   "execution_count": 36,
   "metadata": {},
   "outputs": [],
   "source": [
    "# Mixed Centralities\n",
    "d1 = dict_original_modv\n",
    "d2 = dict_com_read\n",
    "d3 = dict_cbm_read\n",
    "d4 = dict_chb_read\n",
    "d5 = dict_pc_read\n",
    "d6 = dict_kshell_read\n",
    "d7 = dict_cbc_read"
   ]
  },
  {
   "cell_type": "code",
   "execution_count": 37,
   "metadata": {},
   "outputs": [
    {
     "data": {
      "text/html": [
       "<div>\n",
       "<style scoped>\n",
       "    .dataframe tbody tr th:only-of-type {\n",
       "        vertical-align: middle;\n",
       "    }\n",
       "\n",
       "    .dataframe tbody tr th {\n",
       "        vertical-align: top;\n",
       "    }\n",
       "\n",
       "    .dataframe thead th {\n",
       "        text-align: right;\n",
       "    }\n",
       "</style>\n",
       "<table border=\"1\" class=\"dataframe\">\n",
       "  <thead>\n",
       "    <tr style=\"text-align: right;\">\n",
       "      <th></th>\n",
       "      <th>ModV-PosToNeg</th>\n",
       "      <th>Comm</th>\n",
       "      <th>CBM</th>\n",
       "      <th>CHB</th>\n",
       "      <th>PC</th>\n",
       "      <th>KshellWithCommunity</th>\n",
       "      <th>CBC</th>\n",
       "    </tr>\n",
       "  </thead>\n",
       "  <tbody>\n",
       "    <tr>\n",
       "      <th>0</th>\n",
       "      <td>-0.000426</td>\n",
       "      <td>0.608326</td>\n",
       "      <td>-0.000000</td>\n",
       "      <td>0.796163</td>\n",
       "      <td>0.000000</td>\n",
       "      <td>6.5</td>\n",
       "      <td>10.350120</td>\n",
       "    </tr>\n",
       "    <tr>\n",
       "      <th>1</th>\n",
       "      <td>-0.003435</td>\n",
       "      <td>19.562083</td>\n",
       "      <td>0.001293</td>\n",
       "      <td>0.752544</td>\n",
       "      <td>0.164956</td>\n",
       "      <td>13.5</td>\n",
       "      <td>66.582734</td>\n",
       "    </tr>\n",
       "    <tr>\n",
       "      <th>2</th>\n",
       "      <td>-0.003663</td>\n",
       "      <td>13.217626</td>\n",
       "      <td>0.000985</td>\n",
       "      <td>0.766393</td>\n",
       "      <td>0.113800</td>\n",
       "      <td>13.5</td>\n",
       "      <td>75.278177</td>\n",
       "    </tr>\n",
       "    <tr>\n",
       "      <th>3</th>\n",
       "      <td>-0.003455</td>\n",
       "      <td>6.696991</td>\n",
       "      <td>0.000500</td>\n",
       "      <td>0.778098</td>\n",
       "      <td>0.058770</td>\n",
       "      <td>13.0</td>\n",
       "      <td>76.525180</td>\n",
       "    </tr>\n",
       "    <tr>\n",
       "      <th>4</th>\n",
       "      <td>-0.001890</td>\n",
       "      <td>4.544455</td>\n",
       "      <td>0.000493</td>\n",
       "      <td>0.768078</td>\n",
       "      <td>0.108224</td>\n",
       "      <td>13.0</td>\n",
       "      <td>39.952038</td>\n",
       "    </tr>\n",
       "    <tr>\n",
       "      <th>...</th>\n",
       "      <td>...</td>\n",
       "      <td>...</td>\n",
       "      <td>...</td>\n",
       "      <td>...</td>\n",
       "      <td>...</td>\n",
       "      <td>...</td>\n",
       "      <td>...</td>\n",
       "    </tr>\n",
       "    <tr>\n",
       "      <th>412</th>\n",
       "      <td>-0.000033</td>\n",
       "      <td>0.046794</td>\n",
       "      <td>-0.000000</td>\n",
       "      <td>0.796163</td>\n",
       "      <td>0.000000</td>\n",
       "      <td>1.0</td>\n",
       "      <td>0.796163</td>\n",
       "    </tr>\n",
       "    <tr>\n",
       "      <th>413</th>\n",
       "      <td>0.000579</td>\n",
       "      <td>6.666667</td>\n",
       "      <td>-0.000000</td>\n",
       "      <td>0.004796</td>\n",
       "      <td>0.000000</td>\n",
       "      <td>1.0</td>\n",
       "      <td>0.004796</td>\n",
       "    </tr>\n",
       "    <tr>\n",
       "      <th>414</th>\n",
       "      <td>-0.000065</td>\n",
       "      <td>0.093589</td>\n",
       "      <td>-0.000000</td>\n",
       "      <td>0.796163</td>\n",
       "      <td>0.000000</td>\n",
       "      <td>1.5</td>\n",
       "      <td>1.592326</td>\n",
       "    </tr>\n",
       "    <tr>\n",
       "      <th>415</th>\n",
       "      <td>-0.000033</td>\n",
       "      <td>0.046794</td>\n",
       "      <td>-0.000000</td>\n",
       "      <td>0.796163</td>\n",
       "      <td>0.000000</td>\n",
       "      <td>1.0</td>\n",
       "      <td>0.796163</td>\n",
       "    </tr>\n",
       "    <tr>\n",
       "      <th>416</th>\n",
       "      <td>0.000579</td>\n",
       "      <td>6.666667</td>\n",
       "      <td>-0.000000</td>\n",
       "      <td>0.004796</td>\n",
       "      <td>0.000000</td>\n",
       "      <td>1.0</td>\n",
       "      <td>0.004796</td>\n",
       "    </tr>\n",
       "  </tbody>\n",
       "</table>\n",
       "<p>417 rows × 7 columns</p>\n",
       "</div>"
      ],
      "text/plain": [
       "     ModV-PosToNeg       Comm       CBM       CHB        PC  \\\n",
       "0        -0.000426   0.608326 -0.000000  0.796163  0.000000   \n",
       "1        -0.003435  19.562083  0.001293  0.752544  0.164956   \n",
       "2        -0.003663  13.217626  0.000985  0.766393  0.113800   \n",
       "3        -0.003455   6.696991  0.000500  0.778098  0.058770   \n",
       "4        -0.001890   4.544455  0.000493  0.768078  0.108224   \n",
       "..             ...        ...       ...       ...       ...   \n",
       "412      -0.000033   0.046794 -0.000000  0.796163  0.000000   \n",
       "413       0.000579   6.666667 -0.000000  0.004796  0.000000   \n",
       "414      -0.000065   0.093589 -0.000000  0.796163  0.000000   \n",
       "415      -0.000033   0.046794 -0.000000  0.796163  0.000000   \n",
       "416       0.000579   6.666667 -0.000000  0.004796  0.000000   \n",
       "\n",
       "     KshellWithCommunity        CBC  \n",
       "0                    6.5  10.350120  \n",
       "1                   13.5  66.582734  \n",
       "2                   13.5  75.278177  \n",
       "3                   13.0  76.525180  \n",
       "4                   13.0  39.952038  \n",
       "..                   ...        ...  \n",
       "412                  1.0   0.796163  \n",
       "413                  1.0   0.004796  \n",
       "414                  1.5   1.592326  \n",
       "415                  1.0   0.796163  \n",
       "416                  1.0   0.004796  \n",
       "\n",
       "[417 rows x 7 columns]"
      ]
     },
     "execution_count": 37,
     "metadata": {},
     "output_type": "execute_result"
    }
   ],
   "source": [
    "df = pd.DataFrame([d1, d2, d3, d4, d5, d6, d7]).T\n",
    "\n",
    "df.rename(columns={0: \"ModV-PosToNeg\",\n",
    "                   1: \"Comm\",\n",
    "                   2: \"CBM\",\n",
    "                   3: \"CHB\",\n",
    "                   4: \"PC\",\n",
    "                   5: \"KshellWithCommunity\",\n",
    "                   6: \"CBC\"\n",
    "                  }, inplace=True)\n",
    "df"
   ]
  },
  {
   "cell_type": "code",
   "execution_count": 38,
   "metadata": {},
   "outputs": [
    {
     "data": {
      "text/html": [
       "<div>\n",
       "<style scoped>\n",
       "    .dataframe tbody tr th:only-of-type {\n",
       "        vertical-align: middle;\n",
       "    }\n",
       "\n",
       "    .dataframe tbody tr th {\n",
       "        vertical-align: top;\n",
       "    }\n",
       "\n",
       "    .dataframe thead th {\n",
       "        text-align: right;\n",
       "    }\n",
       "</style>\n",
       "<table border=\"1\" class=\"dataframe\">\n",
       "  <thead>\n",
       "    <tr style=\"text-align: right;\">\n",
       "      <th></th>\n",
       "      <th>ModV-PosToNeg</th>\n",
       "      <th>Comm</th>\n",
       "      <th>CBM</th>\n",
       "      <th>CHB</th>\n",
       "      <th>PC</th>\n",
       "      <th>KshellWithCommunity</th>\n",
       "      <th>CBC</th>\n",
       "    </tr>\n",
       "  </thead>\n",
       "  <tbody>\n",
       "    <tr>\n",
       "      <th>ModV-PosToNeg</th>\n",
       "      <td>1.000000</td>\n",
       "      <td>-0.393507</td>\n",
       "      <td>-0.210610</td>\n",
       "      <td>-0.183647</td>\n",
       "      <td>-0.095236</td>\n",
       "      <td>-0.699373</td>\n",
       "      <td>-0.850807</td>\n",
       "    </tr>\n",
       "    <tr>\n",
       "      <th>Comm</th>\n",
       "      <td>-0.393507</td>\n",
       "      <td>1.000000</td>\n",
       "      <td>0.574291</td>\n",
       "      <td>-0.485126</td>\n",
       "      <td>0.504689</td>\n",
       "      <td>0.645170</td>\n",
       "      <td>0.488813</td>\n",
       "    </tr>\n",
       "    <tr>\n",
       "      <th>CBM</th>\n",
       "      <td>-0.210610</td>\n",
       "      <td>0.574291</td>\n",
       "      <td>1.000000</td>\n",
       "      <td>-0.488411</td>\n",
       "      <td>0.808999</td>\n",
       "      <td>0.451144</td>\n",
       "      <td>0.351990</td>\n",
       "    </tr>\n",
       "    <tr>\n",
       "      <th>CHB</th>\n",
       "      <td>-0.183647</td>\n",
       "      <td>-0.485126</td>\n",
       "      <td>-0.488411</td>\n",
       "      <td>1.000000</td>\n",
       "      <td>-0.636272</td>\n",
       "      <td>-0.076968</td>\n",
       "      <td>0.135136</td>\n",
       "    </tr>\n",
       "    <tr>\n",
       "      <th>PC</th>\n",
       "      <td>-0.095236</td>\n",
       "      <td>0.504689</td>\n",
       "      <td>0.808999</td>\n",
       "      <td>-0.636272</td>\n",
       "      <td>1.000000</td>\n",
       "      <td>0.321699</td>\n",
       "      <td>0.223639</td>\n",
       "    </tr>\n",
       "    <tr>\n",
       "      <th>KshellWithCommunity</th>\n",
       "      <td>-0.699373</td>\n",
       "      <td>0.645170</td>\n",
       "      <td>0.451144</td>\n",
       "      <td>-0.076968</td>\n",
       "      <td>0.321699</td>\n",
       "      <td>1.000000</td>\n",
       "      <td>0.805220</td>\n",
       "    </tr>\n",
       "    <tr>\n",
       "      <th>CBC</th>\n",
       "      <td>-0.850807</td>\n",
       "      <td>0.488813</td>\n",
       "      <td>0.351990</td>\n",
       "      <td>0.135136</td>\n",
       "      <td>0.223639</td>\n",
       "      <td>0.805220</td>\n",
       "      <td>1.000000</td>\n",
       "    </tr>\n",
       "  </tbody>\n",
       "</table>\n",
       "</div>"
      ],
      "text/plain": [
       "                     ModV-PosToNeg      Comm       CBM       CHB        PC  \\\n",
       "ModV-PosToNeg             1.000000 -0.393507 -0.210610 -0.183647 -0.095236   \n",
       "Comm                     -0.393507  1.000000  0.574291 -0.485126  0.504689   \n",
       "CBM                      -0.210610  0.574291  1.000000 -0.488411  0.808999   \n",
       "CHB                      -0.183647 -0.485126 -0.488411  1.000000 -0.636272   \n",
       "PC                       -0.095236  0.504689  0.808999 -0.636272  1.000000   \n",
       "KshellWithCommunity      -0.699373  0.645170  0.451144 -0.076968  0.321699   \n",
       "CBC                      -0.850807  0.488813  0.351990  0.135136  0.223639   \n",
       "\n",
       "                     KshellWithCommunity       CBC  \n",
       "ModV-PosToNeg                  -0.699373 -0.850807  \n",
       "Comm                            0.645170  0.488813  \n",
       "CBM                             0.451144  0.351990  \n",
       "CHB                            -0.076968  0.135136  \n",
       "PC                              0.321699  0.223639  \n",
       "KshellWithCommunity             1.000000  0.805220  \n",
       "CBC                             0.805220  1.000000  "
      ]
     },
     "execution_count": 38,
     "metadata": {},
     "output_type": "execute_result"
    }
   ],
   "source": [
    "df_kendall = df.corr(method='kendall')\n",
    "df_kendall"
   ]
  },
  {
   "cell_type": "code",
   "execution_count": 39,
   "metadata": {},
   "outputs": [
    {
     "data": {
      "text/plain": [
       "<AxesSubplot:>"
      ]
     },
     "execution_count": 39,
     "metadata": {},
     "output_type": "execute_result"
    },
    {
     "data": {
      "image/png": "[encoded data removed]",
      "text/plain": [
       "<Figure size 360x288 with 2 Axes>"
      ]
     },
     "metadata": {
      "needs_background": "light"
     },
     "output_type": "display_data"
    }
   ],
   "source": [
    "fig, ax = plt.subplots(figsize=(5, 4)) \n",
    "mask = np.zeros_like(df.corr(method='kendall'))\n",
    "mask[np.triu_indices_from(mask)] = 1\n",
    "sns.heatmap(df.corr(method='kendall'), mask= mask, ax= ax, annot= True, vmin=-1, vmax=1, cmap=\"seismic_r\")"
   ]
  },
  {
   "cell_type": "code",
   "execution_count": 39,
   "metadata": {},
   "outputs": [],
   "source": [
    "df_kendall.to_csv(\"./HeatmapsSaved/Infra-EUAirlines-CorrelationWithMV+Only.csv\", header=True, index=True)"
   ]
  },
  {
   "cell_type": "code",
   "execution_count": null,
   "metadata": {},
   "outputs": [],
   "source": []
  },
  {
   "cell_type": "code",
   "execution_count": null,
   "metadata": {},
   "outputs": [],
   "source": []
  },
  {
   "cell_type": "code",
   "execution_count": null,
   "metadata": {},
   "outputs": [],
   "source": []
  },
  {
   "cell_type": "code",
   "execution_count": null,
   "metadata": {},
   "outputs": [],
   "source": []
  },
  {
   "cell_type": "code",
   "execution_count": null,
   "metadata": {},
   "outputs": [],
   "source": []
  },
  {
   "cell_type": "code",
   "execution_count": null,
   "metadata": {},
   "outputs": [],
   "source": []
  },
  {
   "cell_type": "code",
   "execution_count": null,
   "metadata": {},
   "outputs": [],
   "source": []
  },
  {
   "cell_type": "code",
   "execution_count": null,
   "metadata": {},
   "outputs": [],
   "source": []
  }
 ],
 "metadata": {
  "kernelspec": {
   "display_name": "Python 3",
   "language": "python",
   "name": "python3"
  },
  "language_info": {
   "codemirror_mode": {
    "name": "ipython",
    "version": 3
   },
   "file_extension": ".py",
   "mimetype": "text/x-python",
   "name": "python",
   "nbconvert_exporter": "python",
   "pygments_lexer": "ipython3",
   "version": "3.8.8"
  },
  "toc": {
   "base_numbering": 1,
   "nav_menu": {},
   "number_sections": true,
   "sideBar": true,
   "skip_h1_title": false,
   "title_cell": "Table of Contents",
   "title_sidebar": "Contents",
   "toc_cell": false,
   "toc_position": {
    "height": "622.656px",
    "left": "23px",
    "top": "131px",
    "width": "406.766px"
   },
   "toc_section_display": true,
   "toc_window_display": true
  }
 },
 "nbformat": 4,
 "nbformat_minor": 4
}
