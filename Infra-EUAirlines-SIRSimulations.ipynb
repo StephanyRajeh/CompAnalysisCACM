{
 "cells": [
  {
   "cell_type": "markdown",
   "metadata": {},
   "source": [
    "# Read Dataset and Get Characteristics"
   ]
  },
  {
   "cell_type": "code",
   "execution_count": 1,
   "metadata": {},
   "outputs": [],
   "source": [
    "import networkx as nx\n",
    "from networkx.algorithms.centrality import *\n",
    "import numpy as np\n",
    "import matplotlib.pyplot as plt\n",
    "import operator\n",
    "import seaborn as sns\n",
    "from scipy.stats import kendalltau\n",
    "\n",
    "# For EoN\n",
    "import math\n",
    "import EoN\n",
    "import matplotlib.pyplot as plt\n",
    "from outilsForProject import *\n",
    "from statistics import stdev, mean\n",
    "import numpy as np\n",
    "from math import sqrt"
   ]
  },
  {
   "cell_type": "code",
   "execution_count": 2,
   "metadata": {},
   "outputs": [
    {
     "data": {
      "text/html": [
       "<div>\n",
       "<style scoped>\n",
       "    .dataframe tbody tr th:only-of-type {\n",
       "        vertical-align: middle;\n",
       "    }\n",
       "\n",
       "    .dataframe tbody tr th {\n",
       "        vertical-align: top;\n",
       "    }\n",
       "\n",
       "    .dataframe thead th {\n",
       "        text-align: right;\n",
       "    }\n",
       "</style>\n",
       "<table border=\"1\" class=\"dataframe\">\n",
       "  <thead>\n",
       "    <tr style=\"text-align: right;\">\n",
       "      <th></th>\n",
       "      <th># source</th>\n",
       "      <th>target</th>\n",
       "      <th>weight</th>\n",
       "      <th>layer</th>\n",
       "    </tr>\n",
       "  </thead>\n",
       "  <tbody>\n",
       "    <tr>\n",
       "      <th>0</th>\n",
       "      <td>0</td>\n",
       "      <td>1</td>\n",
       "      <td>1</td>\n",
       "      <td>1</td>\n",
       "    </tr>\n",
       "    <tr>\n",
       "      <th>1</th>\n",
       "      <td>0</td>\n",
       "      <td>37</td>\n",
       "      <td>1</td>\n",
       "      <td>1</td>\n",
       "    </tr>\n",
       "    <tr>\n",
       "      <th>2</th>\n",
       "      <td>0</td>\n",
       "      <td>251</td>\n",
       "      <td>1</td>\n",
       "      <td>3</td>\n",
       "    </tr>\n",
       "    <tr>\n",
       "      <th>3</th>\n",
       "      <td>0</td>\n",
       "      <td>70</td>\n",
       "      <td>1</td>\n",
       "      <td>4</td>\n",
       "    </tr>\n",
       "    <tr>\n",
       "      <th>4</th>\n",
       "      <td>0</td>\n",
       "      <td>63</td>\n",
       "      <td>1</td>\n",
       "      <td>14</td>\n",
       "    </tr>\n",
       "  </tbody>\n",
       "</table>\n",
       "</div>"
      ],
      "text/plain": [
       "   # source   target   weight   layer\n",
       "0         0        1        1       1\n",
       "1         0       37        1       1\n",
       "2         0      251        1       3\n",
       "3         0       70        1       4\n",
       "4         0       63        1      14"
      ]
     },
     "execution_count": 2,
     "metadata": {},
     "output_type": "execute_result"
    }
   ],
   "source": [
    "#First, read it in as a normal dataframe\n",
    "import pandas as pd\n",
    "df = pd.read_csv(r\".\\eu_airlines\\edges.csv\")\n",
    "df.head()"
   ]
  },
  {
   "cell_type": "code",
   "execution_count": 3,
   "metadata": {},
   "outputs": [
    {
     "data": {
      "text/html": [
       "<div>\n",
       "<style scoped>\n",
       "    .dataframe tbody tr th:only-of-type {\n",
       "        vertical-align: middle;\n",
       "    }\n",
       "\n",
       "    .dataframe tbody tr th {\n",
       "        vertical-align: top;\n",
       "    }\n",
       "\n",
       "    .dataframe thead th {\n",
       "        text-align: right;\n",
       "    }\n",
       "</style>\n",
       "<table border=\"1\" class=\"dataframe\">\n",
       "  <thead>\n",
       "    <tr style=\"text-align: right;\">\n",
       "      <th></th>\n",
       "      <th>s</th>\n",
       "      <th>t</th>\n",
       "    </tr>\n",
       "  </thead>\n",
       "  <tbody>\n",
       "    <tr>\n",
       "      <th>0</th>\n",
       "      <td>0</td>\n",
       "      <td>1</td>\n",
       "    </tr>\n",
       "    <tr>\n",
       "      <th>1</th>\n",
       "      <td>0</td>\n",
       "      <td>37</td>\n",
       "    </tr>\n",
       "    <tr>\n",
       "      <th>2</th>\n",
       "      <td>0</td>\n",
       "      <td>251</td>\n",
       "    </tr>\n",
       "    <tr>\n",
       "      <th>3</th>\n",
       "      <td>0</td>\n",
       "      <td>70</td>\n",
       "    </tr>\n",
       "    <tr>\n",
       "      <th>4</th>\n",
       "      <td>0</td>\n",
       "      <td>63</td>\n",
       "    </tr>\n",
       "    <tr>\n",
       "      <th>...</th>\n",
       "      <td>...</td>\n",
       "      <td>...</td>\n",
       "    </tr>\n",
       "    <tr>\n",
       "      <th>3583</th>\n",
       "      <td>383</td>\n",
       "      <td>396</td>\n",
       "    </tr>\n",
       "    <tr>\n",
       "      <th>3584</th>\n",
       "      <td>385</td>\n",
       "      <td>413</td>\n",
       "    </tr>\n",
       "    <tr>\n",
       "      <th>3585</th>\n",
       "      <td>409</td>\n",
       "      <td>420</td>\n",
       "    </tr>\n",
       "    <tr>\n",
       "      <th>3586</th>\n",
       "      <td>435</td>\n",
       "      <td>444</td>\n",
       "    </tr>\n",
       "    <tr>\n",
       "      <th>3587</th>\n",
       "      <td>442</td>\n",
       "      <td>446</td>\n",
       "    </tr>\n",
       "  </tbody>\n",
       "</table>\n",
       "<p>3588 rows × 2 columns</p>\n",
       "</div>"
      ],
      "text/plain": [
       "        s    t\n",
       "0       0    1\n",
       "1       0   37\n",
       "2       0  251\n",
       "3       0   70\n",
       "4       0   63\n",
       "...   ...  ...\n",
       "3583  383  396\n",
       "3584  385  413\n",
       "3585  409  420\n",
       "3586  435  444\n",
       "3587  442  446\n",
       "\n",
       "[3588 rows x 2 columns]"
      ]
     },
     "execution_count": 3,
     "metadata": {},
     "output_type": "execute_result"
    }
   ],
   "source": [
    "df = df.iloc[:, 0:2]\n",
    "df.rename(columns={'# source':'s', ' target':'t'}, inplace=True)\n",
    "df"
   ]
  },
  {
   "cell_type": "code",
   "execution_count": 4,
   "metadata": {},
   "outputs": [
    {
     "name": "stdout",
     "output_type": "stream",
     "text": [
      "Graph with 417 nodes and 2953 edges\n"
     ]
    }
   ],
   "source": [
    "#Convert it to a graph\n",
    "#Each row is an edge with a source and a target. The network will automatically create nodes for you based on their names.\n",
    "g = nx.from_pandas_edgelist(df, source='s', target='t')\n",
    "print(nx.info(g))"
   ]
  },
  {
   "cell_type": "code",
   "execution_count": 5,
   "metadata": {},
   "outputs": [],
   "source": [
    "g = g.to_undirected()"
   ]
  },
  {
   "cell_type": "code",
   "execution_count": 6,
   "metadata": {},
   "outputs": [
    {
     "name": "stdout",
     "output_type": "stream",
     "text": [
      "Graph with 417 nodes and 2953 edges\n"
     ]
    }
   ],
   "source": [
    "#Get Simple Graph\n",
    "#Remove self-loops\n",
    "\n",
    "g.remove_edges_from(nx.selfloop_edges(g))\n",
    "print(nx.info(g))"
   ]
  },
  {
   "cell_type": "code",
   "execution_count": null,
   "metadata": {},
   "outputs": [],
   "source": []
  },
  {
   "cell_type": "markdown",
   "metadata": {},
   "source": [
    "# Check connectedness"
   ]
  },
  {
   "cell_type": "code",
   "execution_count": 7,
   "metadata": {},
   "outputs": [
    {
     "data": {
      "text/plain": [
       "True"
      ]
     },
     "execution_count": 7,
     "metadata": {},
     "output_type": "execute_result"
    }
   ],
   "source": [
    "nx.is_connected(g)"
   ]
  },
  {
   "cell_type": "code",
   "execution_count": 8,
   "metadata": {},
   "outputs": [
    {
     "data": {
      "text/plain": [
       "1"
      ]
     },
     "execution_count": 8,
     "metadata": {},
     "output_type": "execute_result"
    }
   ],
   "source": [
    "nx.number_connected_components(g)"
   ]
  },
  {
   "cell_type": "markdown",
   "metadata": {},
   "source": [
    "# Relabel it all if nodes are strings\n",
    "- To be able to run all types of correlation together\n",
    "- But put the graph relabled in `g_relabled`"
   ]
  },
  {
   "cell_type": "code",
   "execution_count": 9,
   "metadata": {
    "scrolled": false
   },
   "outputs": [],
   "source": [
    "from myTruss import mappingAndRelabeling"
   ]
  },
  {
   "cell_type": "code",
   "execution_count": 10,
   "metadata": {},
   "outputs": [],
   "source": [
    "g_relabled = mappingAndRelabeling(g)"
   ]
  },
  {
   "cell_type": "code",
   "execution_count": 11,
   "metadata": {},
   "outputs": [
    {
     "data": {
      "text/plain": [
       "'Before'"
      ]
     },
     "execution_count": 11,
     "metadata": {},
     "output_type": "execute_result"
    }
   ],
   "source": [
    "\"\"\"Before\"\"\" \n",
    "#print(g.nodes())"
   ]
  },
  {
   "cell_type": "code",
   "execution_count": 12,
   "metadata": {},
   "outputs": [
    {
     "data": {
      "text/plain": [
       "'After'"
      ]
     },
     "execution_count": 12,
     "metadata": {},
     "output_type": "execute_result"
    }
   ],
   "source": [
    "\"\"\"After\"\"\" \n",
    "#print(g_relabled.nodes())"
   ]
  },
  {
   "cell_type": "code",
   "execution_count": 13,
   "metadata": {},
   "outputs": [
    {
     "name": "stdout",
     "output_type": "stream",
     "text": [
      "Graph with 417 nodes and 2953 edges\n"
     ]
    }
   ],
   "source": [
    "\"\"\"Before\"\"\" \n",
    "print(nx.info(g))"
   ]
  },
  {
   "cell_type": "code",
   "execution_count": 14,
   "metadata": {},
   "outputs": [
    {
     "name": "stdout",
     "output_type": "stream",
     "text": [
      "Graph with 417 nodes and 2953 edges\n"
     ]
    }
   ],
   "source": [
    "\"\"\"Before\"\"\" \n",
    "print(nx.info(g_relabled))"
   ]
  },
  {
   "cell_type": "code",
   "execution_count": 15,
   "metadata": {},
   "outputs": [],
   "source": [
    "g = g_relabled"
   ]
  },
  {
   "cell_type": "markdown",
   "metadata": {},
   "source": [
    "# Modular Centrality 1: Comm Centrality"
   ]
  },
  {
   "cell_type": "code",
   "execution_count": 16,
   "metadata": {},
   "outputs": [],
   "source": [
    "# Read Centrality\n",
    "dict_com_read = dict()\n",
    "with open(r'.\\CentralityResults\\Infra-EUAirlines\\dict_com.txt') as raw_data:\n",
    "    for item in raw_data:\n",
    "        if ':' in item:\n",
    "            key,value = item.split(':', 1)\n",
    "            value = value.replace('\\n', '')\n",
    "            dict_com_read[int(key)]=float(value)\n",
    "        else:\n",
    "            pass # deal with bad lines of text here"
   ]
  },
  {
   "cell_type": "code",
   "execution_count": 17,
   "metadata": {
    "scrolled": true
   },
   "outputs": [
    {
     "data": {
      "text/plain": [
       "19.562082783601774"
      ]
     },
     "execution_count": 17,
     "metadata": {},
     "output_type": "execute_result"
    }
   ],
   "source": [
    "dict_com_read[1]"
   ]
  },
  {
   "cell_type": "markdown",
   "metadata": {},
   "source": [
    "# Modular Centrality 2: CBM - Community-based Mediator"
   ]
  },
  {
   "cell_type": "code",
   "execution_count": 18,
   "metadata": {},
   "outputs": [],
   "source": [
    "# Read Centrality\n",
    "dict_cbm_read = dict()\n",
    "with open(r'.\\CentralityResults\\Infra-EUAirlines\\dict_cbm.txt') as raw_data:\n",
    "    for item in raw_data:\n",
    "        if ':' in item:\n",
    "            key,value = item.split(':', 1)\n",
    "            value = value.replace('\\n', '')\n",
    "            dict_cbm_read[int(key)]=float(value)\n",
    "        else:\n",
    "            pass # deal with bad lines of text here"
   ]
  },
  {
   "cell_type": "code",
   "execution_count": 19,
   "metadata": {},
   "outputs": [
    {
     "data": {
      "text/plain": [
       "0.0012931880450018501"
      ]
     },
     "execution_count": 19,
     "metadata": {},
     "output_type": "execute_result"
    }
   ],
   "source": [
    "dict_cbm_read[1]"
   ]
  },
  {
   "cell_type": "markdown",
   "metadata": {},
   "source": [
    "# Modular Centrality 3: Community Hub-Bridge centrality"
   ]
  },
  {
   "cell_type": "code",
   "execution_count": 20,
   "metadata": {},
   "outputs": [],
   "source": [
    "# Read Centrality\n",
    "dict_chb_read = dict()\n",
    "with open(r'.\\CentralityResults\\Infra-EUAirlines\\dict_chb.txt') as raw_data:\n",
    "    for item in raw_data:\n",
    "        if ':' in item:\n",
    "            key,value = item.split(':', 1)\n",
    "            value = value.replace('\\n', '')\n",
    "            dict_chb_read[int(key)]=float(value)\n",
    "        else:\n",
    "            pass # deal with bad lines of text here"
   ]
  },
  {
   "cell_type": "code",
   "execution_count": 21,
   "metadata": {},
   "outputs": [
    {
     "data": {
      "text/plain": [
       "0.7961630695443646"
      ]
     },
     "execution_count": 21,
     "metadata": {},
     "output_type": "execute_result"
    }
   ],
   "source": [
    "dict_chb_read[0]"
   ]
  },
  {
   "cell_type": "markdown",
   "metadata": {},
   "source": [
    "# Modular Centrality 4: K-shell with community centrality"
   ]
  },
  {
   "cell_type": "code",
   "execution_count": 22,
   "metadata": {},
   "outputs": [],
   "source": [
    "# Read Centrality\n",
    "dict_kshell_read = dict()\n",
    "with open(r'.\\CentralityResults\\Infra-EUAirlines\\dict_kshell.txt') as raw_data:\n",
    "    for item in raw_data:\n",
    "        if ':' in item:\n",
    "            key,value = item.split(':', 1)\n",
    "            value = value.replace('\\n', '')\n",
    "            dict_kshell_read[int(key)]=float(value)\n",
    "        else:\n",
    "            pass # deal with bad lines of text here"
   ]
  },
  {
   "cell_type": "code",
   "execution_count": 23,
   "metadata": {},
   "outputs": [
    {
     "data": {
      "text/plain": [
       "13.5"
      ]
     },
     "execution_count": 23,
     "metadata": {},
     "output_type": "execute_result"
    }
   ],
   "source": [
    "dict_kshell_read[1]"
   ]
  },
  {
   "cell_type": "markdown",
   "metadata": {},
   "source": [
    "# Modular Centrality 5: Community Based Centrality"
   ]
  },
  {
   "cell_type": "code",
   "execution_count": 24,
   "metadata": {},
   "outputs": [],
   "source": [
    "# Read Centrality\n",
    "dict_cbc_read = dict()\n",
    "with open(r'.\\CentralityResults\\Infra-EUAirlines\\dict_cbc.txt') as raw_data:\n",
    "    for item in raw_data:\n",
    "        if ':' in item:\n",
    "            key,value = item.split(':', 1)\n",
    "            value = value.replace('\\n', '')\n",
    "            dict_cbc_read[int(key)]=float(value)\n",
    "        else:\n",
    "            pass # deal with bad lines of text here"
   ]
  },
  {
   "cell_type": "code",
   "execution_count": 25,
   "metadata": {},
   "outputs": [
    {
     "data": {
      "text/plain": [
       "66.58273381294957"
      ]
     },
     "execution_count": 25,
     "metadata": {},
     "output_type": "execute_result"
    }
   ],
   "source": [
    "dict_cbc_read[1]"
   ]
  },
  {
   "cell_type": "markdown",
   "metadata": {},
   "source": [
    "# Modular Centrality 6: Participation Coefficient"
   ]
  },
  {
   "cell_type": "code",
   "execution_count": 26,
   "metadata": {},
   "outputs": [],
   "source": [
    "# Read Centrality\n",
    "dict_pc_read = dict()\n",
    "with open(r'.\\CentralityResults\\Infra-EUAirlines/dict_pc.txt') as raw_data:\n",
    "    for item in raw_data:\n",
    "        if ':' in item:\n",
    "            key,value = item.split(':', 1)\n",
    "            value = value.replace('\\n', '')\n",
    "            dict_pc_read[int(key)]=float(value)\n",
    "        else:\n",
    "            pass # deal with bad lines of text here"
   ]
  },
  {
   "cell_type": "code",
   "execution_count": 27,
   "metadata": {
    "scrolled": true
   },
   "outputs": [
    {
     "data": {
      "text/plain": [
       "0.1649559231976815"
      ]
     },
     "execution_count": 27,
     "metadata": {},
     "output_type": "execute_result"
    }
   ],
   "source": [
    "dict_pc_read[1]"
   ]
  },
  {
   "cell_type": "markdown",
   "metadata": {},
   "source": [
    "# Modular Centrality 7: Mod Vitality"
   ]
  },
  {
   "cell_type": "code",
   "execution_count": 28,
   "metadata": {},
   "outputs": [],
   "source": [
    "# Read Centrality\n",
    "dict_modv_read = dict()\n",
    "with open(r'.\\CentralityResults\\Infra-EUAirlines\\dict_original_modv.txt') as raw_data:\n",
    "    for item in raw_data:\n",
    "        if ':' in item:\n",
    "            key,value = item.split(':', 1)\n",
    "            value = value.replace('\\n', '')\n",
    "            dict_modv_read[int(key)]=float(value)\n",
    "        else:\n",
    "            pass # deal with bad lines of text here"
   ]
  },
  {
   "cell_type": "code",
   "execution_count": 29,
   "metadata": {},
   "outputs": [
    {
     "data": {
      "text/plain": [
       "-0.0034346499624277743"
      ]
     },
     "execution_count": 29,
     "metadata": {},
     "output_type": "execute_result"
    }
   ],
   "source": [
    "dict_modv_read[1]"
   ]
  },
  {
   "cell_type": "markdown",
   "metadata": {},
   "source": [
    "# Degree Centrality (Reference)"
   ]
  },
  {
   "cell_type": "code",
   "execution_count": 30,
   "metadata": {},
   "outputs": [],
   "source": [
    "# Read Centrality\n",
    "dict_degree_read = dict()\n",
    "with open(r'.\\CentralityResults\\Infra-EUAirlines\\dict_degree.txt') as raw_data:\n",
    "    for item in raw_data:\n",
    "        if ':' in item:\n",
    "            key,value = item.split(':', 1)\n",
    "            value = value.replace('\\n', '')\n",
    "            dict_degree_read[int(key)]=float(value)\n",
    "        else:\n",
    "            pass # deal with bad lines of text here"
   ]
  },
  {
   "cell_type": "code",
   "execution_count": 31,
   "metadata": {},
   "outputs": [
    {
     "data": {
      "text/plain": [
       "0.03125"
      ]
     },
     "execution_count": 31,
     "metadata": {},
     "output_type": "execute_result"
    }
   ],
   "source": [
    "dict_degree_read[0]"
   ]
  },
  {
   "cell_type": "markdown",
   "metadata": {},
   "source": [
    "# Convert all centrality values to ranks"
   ]
  },
  {
   "cell_type": "code",
   "execution_count": 32,
   "metadata": {},
   "outputs": [],
   "source": [
    "import collections\n",
    "import heapq\n",
    "import operator\n",
    "\n",
    "# Returns a list of the top_k nodes and their centralities, and heap (list) of top k nodes --> heap will be used for removal\n",
    "def get_top_k_best_nodes(dict_centrality, k):\n",
    "    \n",
    "    # The sorted() function returns a sorted list of the specified iterable object\n",
    "    top_k = sorted(dict_centrality.items(), key=operator.itemgetter(1), reverse=True)[:k]\n",
    "    first_nodes = heapq.nlargest(k, dict_centrality, key=dict_centrality.get)\n",
    "    \n",
    "    return top_k, first_nodes"
   ]
  },
  {
   "cell_type": "code",
   "execution_count": 33,
   "metadata": {},
   "outputs": [],
   "source": [
    "# Returns a list of the bottom_k nodes and their centralities, and heap (list) of top k nodes --> heap will be used for removal\n",
    "def get_bottom_k_best_nodes(dict_centrality, k):\n",
    "    \n",
    "    # The sorted() function returns a sorted list of the specified iterable object\n",
    "    bottom_k = sorted(dict_centrality.items(), key=operator.itemgetter(1))[:k]\n",
    "    bottom_nodes = heapq.nsmallest(k, dict_centrality, key=dict_centrality.get)\n",
    "    \n",
    "    return bottom_k, bottom_nodes"
   ]
  },
  {
   "cell_type": "code",
   "execution_count": 34,
   "metadata": {},
   "outputs": [],
   "source": [
    "fraction = [0.01, 0.02, 0.03, 0.04, 0.05, 0.06, 0.07, 0.08, 0.09, 0.1, 0.11, 0.12, 0.13, 0.14, 0.15, 0.16, 0.17, 0.18, 0.19, 0.20,0.21,\n",
    "           0.22, 0.23, 0.24, 0.25, 0.26, 0.27, 0.28, 0.29, 0.30, 0.31, 0.32, 0.33, 0.34, 0.35, 0.36, 0.37, 0.38, 0.39, 0.40,\n",
    "           0.41, 0.42, 0.43, 0.44, 0.45, 0.46, 0.47, 0.48, 0.49, 0.50]"
   ]
  },
  {
   "cell_type": "code",
   "execution_count": 35,
   "metadata": {},
   "outputs": [],
   "source": [
    "network_size = len(g.nodes())"
   ]
  },
  {
   "cell_type": "markdown",
   "metadata": {},
   "source": [
    "# Fraction of initial spreaders"
   ]
  },
  {
   "cell_type": "code",
   "execution_count": 36,
   "metadata": {},
   "outputs": [],
   "source": [
    "fraction = [0.01, 0.02, 0.03, 0.04, 0.05, 0.06, 0.07, 0.08, 0.09, 0.1, 0.11, 0.12, 0.13, 0.14, 0.15, 0.16, 0.17, 0.18, 0.19, 0.20,0.21,\n",
    "           0.22, 0.23, 0.24, 0.25, 0.26, 0.27, 0.28, 0.29, 0.30, 0.31, 0.32, 0.33, 0.34, 0.35, 0.36, 0.37, 0.38, 0.39, 0.40,\n",
    "           0.41, 0.42, 0.43, 0.44, 0.45, 0.46, 0.47, 0.48, 0.49, 0.50]\n",
    "\n",
    "\n",
    "mixed_comm_average_each_simulation = dict()\n",
    "mixed_comm_stdv_each_simulation = dict()\n",
    "\n",
    "mixed_cbm_average_each_simulation = dict()\n",
    "mixed_cbm_stdv_each_simulation = dict()\n",
    "\n",
    "mixed_chb_average_each_simulation = dict()\n",
    "mixed_chb_stdv_each_simulation = dict()\n",
    "\n",
    "mixed_kshell_average_each_simulation = dict()\n",
    "mixed_kshell_stdv_each_simulation = dict()\n",
    "\n",
    "mixed_cbc_average_each_simulation = dict()\n",
    "mixed_cbc_stdv_each_simulation = dict()\n",
    "\n",
    "mixed_pc_average_each_simulation = dict()\n",
    "mixed_pc_stdv_each_simulation = dict()\n",
    "\n",
    "mixed_original_modv_average_each_simulation = dict()\n",
    "mixed_original_modv_stdv_each_simulation = dict()\n",
    "\n",
    "degree_average_each_simulation = dict()\n",
    "degree_stdv_each_simulation = dict()\n",
    "\n",
    "\n",
    "\n",
    "for p in fraction:\n",
    "    mixed_comm_average_each_simulation[p] = 0\n",
    "    mixed_comm_stdv_each_simulation[p] = 0\n",
    "\n",
    "    mixed_cbm_average_each_simulation[p] = 0\n",
    "    mixed_cbm_stdv_each_simulation[p] = 0\n",
    "\n",
    "    mixed_chb_average_each_simulation[p] = 0\n",
    "    mixed_chb_stdv_each_simulation[p] = 0\n",
    "\n",
    "    mixed_kshell_average_each_simulation[p] = 0\n",
    "    mixed_kshell_stdv_each_simulation[p] = 0\n",
    "\n",
    "    mixed_cbc_average_each_simulation[p] = 0\n",
    "    mixed_cbc_stdv_each_simulation[p] = 0\n",
    "\n",
    "    mixed_pc_average_each_simulation[p] = 0\n",
    "    mixed_pc_stdv_each_simulation[p] = 0\n",
    "\n",
    "    mixed_original_modv_average_each_simulation[p] = 0\n",
    "    mixed_original_modv_stdv_each_simulation[p] = 0\n",
    "    \n",
    "    degree_average_each_simulation[p] = 0\n",
    "    degree_stdv_each_simulation[p] = 0"
   ]
  },
  {
   "cell_type": "markdown",
   "metadata": {},
   "source": [
    "# SIR parameters"
   ]
  },
  {
   "cell_type": "code",
   "execution_count": 37,
   "metadata": {},
   "outputs": [],
   "source": [
    "tau = 0.024\n",
    "gamma = 0.1  # recovery rate\n",
    "repeatSimulations = 100 # repeatSimulations represents how many times we want to repeat the SIR model"
   ]
  },
  {
   "cell_type": "markdown",
   "metadata": {},
   "source": [
    "# Run SIR with Degree (Reference)"
   ]
  },
  {
   "cell_type": "code",
   "execution_count": 38,
   "metadata": {
    "scrolled": true
   },
   "outputs": [],
   "source": [
    "for p in fraction:   \n",
    "    # Step 1: Get the nodes to be infected\n",
    "    percentage_to_infect = round(p*network_size)\n",
    "    x_top_degree, y_top_degree = get_top_k_best_nodes(dict_degree_read, percentage_to_infect)\n",
    "    infected_nodes = y_top_degree\n",
    "\n",
    "    \n",
    "    # Step 4: Apply SIR\n",
    "    l_degree = list()\n",
    "\n",
    "    for i in range(repeatSimulations):\n",
    "        t2, S2, I2, R2 = EoN.fast_SIR(g, tau, gamma, initial_infecteds = infected_nodes)\n",
    "        finalRecoveredInOneIteration = numberOfRecoveredNodes(R2)\n",
    "        l_degree.append(finalRecoveredInOneIteration)\n",
    "\n",
    "    degree_average_each_simulation[p] = mean(l_degree)\n",
    "    degree_stdv_each_simulation[p] = stdev(l_degree)"
   ]
  },
  {
   "cell_type": "code",
   "execution_count": 39,
   "metadata": {},
   "outputs": [],
   "source": [
    "# Convert degree_average_each_simulation to list\n",
    "degree_average_each_simulation_list = []\n",
    "for i in degree_average_each_simulation.values():\n",
    "    degree_average_each_simulation_list.append(i)"
   ]
  },
  {
   "cell_type": "code",
   "execution_count": 40,
   "metadata": {},
   "outputs": [],
   "source": [
    "# Convert to list and percentage of the network\n",
    "degree_average_each_simulation_list_percentages = []\n",
    "for i in degree_average_each_simulation_list:\n",
    "    degree_average_each_simulation_list_percentages.append((i/network_size)*100)"
   ]
  },
  {
   "cell_type": "code",
   "execution_count": 41,
   "metadata": {
    "scrolled": true
   },
   "outputs": [],
   "source": [
    "# Convert degree_stdv_each_simulation to list\n",
    "degree_stdv_each_simulation_list = []\n",
    "for i in degree_stdv_each_simulation.values():\n",
    "    degree_stdv_each_simulation_list.append(round(i, 3))"
   ]
  },
  {
   "cell_type": "code",
   "execution_count": 42,
   "metadata": {},
   "outputs": [],
   "source": [
    "# Convert to list and percentage of the network\n",
    "degree_stdv_each_simulation_list_percentages = []\n",
    "for i in degree_stdv_each_simulation_list:\n",
    "    degree_stdv_each_simulation_list_percentages.append((i/network_size)*100)"
   ]
  },
  {
   "cell_type": "markdown",
   "metadata": {},
   "source": [
    "# Run SIR with mixed"
   ]
  },
  {
   "cell_type": "markdown",
   "metadata": {},
   "source": [
    "## Comm Centrality"
   ]
  },
  {
   "cell_type": "code",
   "execution_count": 43,
   "metadata": {
    "scrolled": false
   },
   "outputs": [],
   "source": [
    "for p in fraction:   \n",
    "    percentage_to_infect = round(p*network_size)\n",
    "    x_top_degree, y_top_degree = get_top_k_best_nodes(dict_com_read, percentage_to_infect)\n",
    "    infected_nodes = y_top_degree\n",
    "\n",
    "    \n",
    "    l_degree = list()\n",
    "\n",
    "    for i in range(repeatSimulations):\n",
    "        t2, S2, I2, R2 = EoN.fast_SIR(g, tau, gamma, initial_infecteds = infected_nodes)\n",
    "        finalRecoveredInOneIteration = numberOfRecoveredNodes(R2)\n",
    "        # print('Iteration in one fraction: ', i, 'Fraction infected: ', fraction, 'Number recovered: ', finalRecoveredInOneIteration)\n",
    "        l_degree.append(finalRecoveredInOneIteration)\n",
    "        \n",
    "\n",
    "    mixed_comm_average_each_simulation[p] = mean(l_degree)\n",
    "    mixed_comm_stdv_each_simulation[p] = stdev(l_degree)"
   ]
  },
  {
   "cell_type": "code",
   "execution_count": 44,
   "metadata": {},
   "outputs": [],
   "source": [
    "mixed_comm_average_each_simulation_list = []\n",
    "for i in mixed_comm_average_each_simulation.values():\n",
    "    mixed_comm_average_each_simulation_list.append(i)"
   ]
  },
  {
   "cell_type": "code",
   "execution_count": 45,
   "metadata": {},
   "outputs": [],
   "source": [
    "mixed_comm_average_each_simulation_list_percentages = []\n",
    "for i in mixed_comm_average_each_simulation_list:\n",
    "    mixed_comm_average_each_simulation_list_percentages.append((i/network_size)*100)"
   ]
  },
  {
   "cell_type": "code",
   "execution_count": 46,
   "metadata": {
    "scrolled": true
   },
   "outputs": [],
   "source": [
    "mixed_comm_stdv_each_simulation_list = []\n",
    "for i in mixed_comm_stdv_each_simulation.values():\n",
    "    mixed_comm_stdv_each_simulation_list.append(round(i, 3))"
   ]
  },
  {
   "cell_type": "code",
   "execution_count": 47,
   "metadata": {},
   "outputs": [],
   "source": [
    "mixed_comm_stdv_each_simulation_list_percentages = []\n",
    "for i in mixed_comm_stdv_each_simulation_list:\n",
    "    mixed_comm_stdv_each_simulation_list_percentages.append((i/network_size)*100)"
   ]
  },
  {
   "cell_type": "markdown",
   "metadata": {},
   "source": [
    "## CBM Centrality"
   ]
  },
  {
   "cell_type": "code",
   "execution_count": 48,
   "metadata": {},
   "outputs": [],
   "source": [
    "for p in fraction:   \n",
    "    percentage_to_infect = round(p*network_size)\n",
    "    x_top_degree, y_top_degree = get_top_k_best_nodes(dict_cbm_read, percentage_to_infect)\n",
    "    infected_nodes = y_top_degree\n",
    "\n",
    "    \n",
    "    l_degree = list()\n",
    "\n",
    "    for i in range(repeatSimulations):\n",
    "        t2, S2, I2, R2 = EoN.fast_SIR(g, tau, gamma, initial_infecteds = infected_nodes)\n",
    "        finalRecoveredInOneIteration = numberOfRecoveredNodes(R2)\n",
    "        # print('Iteration in one fraction: ', i, 'Fraction infected: ', fraction, 'Number recovered: ', finalRecoveredInOneIteration)\n",
    "        l_degree.append(finalRecoveredInOneIteration)\n",
    "\n",
    "\n",
    "    mixed_cbm_average_each_simulation[p] = mean(l_degree)\n",
    "    mixed_cbm_stdv_each_simulation[p] = stdev(l_degree)"
   ]
  },
  {
   "cell_type": "code",
   "execution_count": 49,
   "metadata": {},
   "outputs": [],
   "source": [
    "mixed_cbm_average_each_simulation_list = []\n",
    "for i in mixed_cbm_average_each_simulation.values():\n",
    "    mixed_cbm_average_each_simulation_list.append(i)"
   ]
  },
  {
   "cell_type": "code",
   "execution_count": 50,
   "metadata": {},
   "outputs": [],
   "source": [
    "mixed_cbm_average_each_simulation_list_percentages = []\n",
    "for i in mixed_cbm_average_each_simulation_list:\n",
    "    mixed_cbm_average_each_simulation_list_percentages.append((i/network_size)*100)"
   ]
  },
  {
   "cell_type": "code",
   "execution_count": 51,
   "metadata": {
    "scrolled": true
   },
   "outputs": [],
   "source": [
    "mixed_cbm_stdv_each_simulation_list = []\n",
    "for i in mixed_cbm_stdv_each_simulation.values():\n",
    "    mixed_cbm_stdv_each_simulation_list.append(round(i, 3))"
   ]
  },
  {
   "cell_type": "code",
   "execution_count": 52,
   "metadata": {},
   "outputs": [],
   "source": [
    "mixed_cbm_stdv_each_simulation_list_percentages = []\n",
    "for i in mixed_cbm_stdv_each_simulation_list:\n",
    "    mixed_cbm_stdv_each_simulation_list_percentages.append((i/network_size)*100)"
   ]
  },
  {
   "cell_type": "markdown",
   "metadata": {},
   "source": [
    "## CHB Centrality"
   ]
  },
  {
   "cell_type": "code",
   "execution_count": 53,
   "metadata": {
    "scrolled": false
   },
   "outputs": [],
   "source": [
    "for p in fraction:   \n",
    "    percentage_to_infect = round(p*network_size)\n",
    "    x_top_degree, y_top_degree = get_top_k_best_nodes(dict_chb_read, percentage_to_infect)\n",
    "    infected_nodes = y_top_degree\n",
    "\n",
    "    \n",
    "    l_degree = list()\n",
    "\n",
    "    for i in range(repeatSimulations):\n",
    "        t2, S2, I2, R2 = EoN.fast_SIR(g, tau, gamma, initial_infecteds = infected_nodes)\n",
    "        finalRecoveredInOneIteration = numberOfRecoveredNodes(R2)\n",
    "        # print('Iteration in one fraction: ', i, 'Fraction infected: ', fraction, 'Number recovered: ', finalRecoveredInOneIteration)\n",
    "        l_degree.append(finalRecoveredInOneIteration)\n",
    "        \n",
    "    mixed_chb_average_each_simulation[p] = mean(l_degree)\n",
    "    mixed_chb_stdv_each_simulation[p] = stdev(l_degree)"
   ]
  },
  {
   "cell_type": "code",
   "execution_count": 54,
   "metadata": {},
   "outputs": [],
   "source": [
    "mixed_chb_average_each_simulation_list = []\n",
    "for i in mixed_chb_average_each_simulation.values():\n",
    "    mixed_chb_average_each_simulation_list.append(i)"
   ]
  },
  {
   "cell_type": "code",
   "execution_count": 55,
   "metadata": {},
   "outputs": [],
   "source": [
    "mixed_chb_average_each_simulation_list_percentages = []\n",
    "for i in mixed_chb_average_each_simulation_list:\n",
    "    mixed_chb_average_each_simulation_list_percentages.append((i/network_size)*100)"
   ]
  },
  {
   "cell_type": "code",
   "execution_count": 56,
   "metadata": {
    "scrolled": true
   },
   "outputs": [],
   "source": [
    "mixed_chb_stdv_each_simulation_list = []\n",
    "for i in mixed_chb_stdv_each_simulation.values():\n",
    "    mixed_chb_stdv_each_simulation_list.append(round(i, 3))"
   ]
  },
  {
   "cell_type": "code",
   "execution_count": 57,
   "metadata": {},
   "outputs": [],
   "source": [
    "mixed_chb_stdv_each_simulation_list_percentages = []\n",
    "for i in mixed_chb_stdv_each_simulation_list:\n",
    "    mixed_chb_stdv_each_simulation_list_percentages.append((i/network_size)*100)"
   ]
  },
  {
   "cell_type": "markdown",
   "metadata": {},
   "source": [
    "## Kshell Centrality"
   ]
  },
  {
   "cell_type": "code",
   "execution_count": 58,
   "metadata": {},
   "outputs": [],
   "source": [
    "for p in fraction:   \n",
    "    percentage_to_infect = round(p*network_size)\n",
    "    x_top_degree, y_top_degree = get_top_k_best_nodes(dict_kshell_read, percentage_to_infect)\n",
    "    infected_nodes = y_top_degree\n",
    "\n",
    "    \n",
    "    l_degree = list()\n",
    "\n",
    "    for i in range(repeatSimulations):\n",
    "        t2, S2, I2, R2 = EoN.fast_SIR(g, tau, gamma, initial_infecteds = infected_nodes)\n",
    "        finalRecoveredInOneIteration = numberOfRecoveredNodes(R2)\n",
    "        # print('Iteration in one fraction: ', i, 'Fraction infected: ', fraction, 'Number recovered: ', finalRecoveredInOneIteration)\n",
    "        l_degree.append(finalRecoveredInOneIteration)\n",
    "\n",
    "\n",
    "    mixed_kshell_average_each_simulation[p] = mean(l_degree)\n",
    "    mixed_kshell_stdv_each_simulation[p] = stdev(l_degree)"
   ]
  },
  {
   "cell_type": "code",
   "execution_count": 59,
   "metadata": {},
   "outputs": [],
   "source": [
    "mixed_kshell_average_each_simulation_list = []\n",
    "for i in mixed_kshell_average_each_simulation.values():\n",
    "    mixed_kshell_average_each_simulation_list.append(i)"
   ]
  },
  {
   "cell_type": "code",
   "execution_count": 60,
   "metadata": {},
   "outputs": [],
   "source": [
    "mixed_kshell_average_each_simulation_list_percentages = []\n",
    "for i in mixed_kshell_average_each_simulation_list:\n",
    "    mixed_kshell_average_each_simulation_list_percentages.append((i/network_size)*100)"
   ]
  },
  {
   "cell_type": "code",
   "execution_count": 61,
   "metadata": {
    "scrolled": true
   },
   "outputs": [],
   "source": [
    "mixed_kshell_stdv_each_simulation_list = []\n",
    "for i in mixed_kshell_stdv_each_simulation.values():\n",
    "    mixed_kshell_stdv_each_simulation_list.append(round(i, 3))"
   ]
  },
  {
   "cell_type": "code",
   "execution_count": 62,
   "metadata": {},
   "outputs": [],
   "source": [
    "mixed_kshell_stdv_each_simulation_list_percentages = []\n",
    "for i in mixed_kshell_stdv_each_simulation_list:\n",
    "    mixed_kshell_stdv_each_simulation_list_percentages.append((i/network_size)*100)"
   ]
  },
  {
   "cell_type": "markdown",
   "metadata": {},
   "source": [
    "## CBC Centrality"
   ]
  },
  {
   "cell_type": "code",
   "execution_count": 63,
   "metadata": {},
   "outputs": [],
   "source": [
    "for p in fraction:   \n",
    "    percentage_to_infect = round(p*network_size)\n",
    "    x_top_degree, y_top_degree = get_top_k_best_nodes(dict_cbc_read, percentage_to_infect)\n",
    "    infected_nodes = y_top_degree\n",
    "\n",
    "    \n",
    "    l_degree = list()\n",
    "\n",
    "    for i in range(repeatSimulations):\n",
    "        t2, S2, I2, R2 = EoN.fast_SIR(g, tau, gamma, initial_infecteds = infected_nodes)\n",
    "        finalRecoveredInOneIteration = numberOfRecoveredNodes(R2)\n",
    "        # print('Iteration in one fraction: ', i, 'Fraction infected: ', fraction, 'Number recovered: ', finalRecoveredInOneIteration)\n",
    "        l_degree.append(finalRecoveredInOneIteration)\n",
    "\n",
    "\n",
    "    mixed_cbc_average_each_simulation[p] = mean(l_degree)\n",
    "    mixed_cbc_stdv_each_simulation[p] = stdev(l_degree)"
   ]
  },
  {
   "cell_type": "code",
   "execution_count": 64,
   "metadata": {},
   "outputs": [
    {
     "data": {
      "text/plain": [
       "[253,\n",
       " 252,\n",
       " 256,\n",
       " 255,\n",
       " 253,\n",
       " 254,\n",
       " 251,\n",
       " 256,\n",
       " 249,\n",
       " 255,\n",
       " 255,\n",
       " 253,\n",
       " 252,\n",
       " 251,\n",
       " 252,\n",
       " 255,\n",
       " 254,\n",
       " 253,\n",
       " 254,\n",
       " 251,\n",
       " 253,\n",
       " 254,\n",
       " 258,\n",
       " 255,\n",
       " 255,\n",
       " 258,\n",
       " 259,\n",
       " 254,\n",
       " 258,\n",
       " 255,\n",
       " 256,\n",
       " 254,\n",
       " 259,\n",
       " 258,\n",
       " 258,\n",
       " 263,\n",
       " 263,\n",
       " 260,\n",
       " 263,\n",
       " 267,\n",
       " 267,\n",
       " 265,\n",
       " 268,\n",
       " 267,\n",
       " 270,\n",
       " 271,\n",
       " 273,\n",
       " 269,\n",
       " 274,\n",
       " 276]"
      ]
     },
     "execution_count": 64,
     "metadata": {},
     "output_type": "execute_result"
    }
   ],
   "source": [
    "# Convert degree_average_each_simulation to list\n",
    "mixed_cbc_average_each_simulation_list = []\n",
    "for i in mixed_cbc_average_each_simulation.values():\n",
    "    mixed_cbc_average_each_simulation_list.append(i)\n",
    "mixed_cbc_average_each_simulation_list"
   ]
  },
  {
   "cell_type": "code",
   "execution_count": 65,
   "metadata": {},
   "outputs": [],
   "source": [
    "mixed_cbc_average_each_simulation_list_percentages = []\n",
    "for i in mixed_cbc_average_each_simulation_list:\n",
    "    mixed_cbc_average_each_simulation_list_percentages.append((i/network_size)*100)"
   ]
  },
  {
   "cell_type": "code",
   "execution_count": 66,
   "metadata": {
    "scrolled": true
   },
   "outputs": [],
   "source": [
    "mixed_cbc_stdv_each_simulation_list = []\n",
    "for i in mixed_cbc_stdv_each_simulation.values():\n",
    "    mixed_cbc_stdv_each_simulation_list.append(round(i, 3))"
   ]
  },
  {
   "cell_type": "code",
   "execution_count": 67,
   "metadata": {},
   "outputs": [],
   "source": [
    "mixed_cbc_stdv_each_simulation_list_percentages = []\n",
    "for i in mixed_cbc_stdv_each_simulation_list:\n",
    "    mixed_cbc_stdv_each_simulation_list_percentages.append((i/network_size)*100)"
   ]
  },
  {
   "cell_type": "markdown",
   "metadata": {},
   "source": [
    "## PC Centrality"
   ]
  },
  {
   "cell_type": "code",
   "execution_count": 68,
   "metadata": {},
   "outputs": [],
   "source": [
    "for p in fraction:   \n",
    "    percentage_to_infect = round(p*network_size)\n",
    "    x_top_degree, y_top_degree = get_top_k_best_nodes(dict_pc_read, percentage_to_infect)\n",
    "    infected_nodes = y_top_degree\n",
    "\n",
    "    \n",
    "    l_degree = list()\n",
    "\n",
    "    for i in range(repeatSimulations):\n",
    "        t2, S2, I2, R2 = EoN.fast_SIR(g, tau, gamma, initial_infecteds = infected_nodes)\n",
    "        finalRecoveredInOneIteration = numberOfRecoveredNodes(R2)\n",
    "        # print('Iteration in one fraction: ', i, 'Fraction infected: ', fraction, 'Number recovered: ', finalRecoveredInOneIteration)\n",
    "        l_degree.append(finalRecoveredInOneIteration)\n",
    "        \n",
    "\n",
    "    mixed_pc_average_each_simulation[p] = mean(l_degree)\n",
    "    mixed_pc_stdv_each_simulation[p] = stdev(l_degree)"
   ]
  },
  {
   "cell_type": "code",
   "execution_count": 69,
   "metadata": {},
   "outputs": [],
   "source": [
    "mixed_pc_average_each_simulation_list = []\n",
    "for i in mixed_pc_average_each_simulation.values():\n",
    "    mixed_pc_average_each_simulation_list.append(i)"
   ]
  },
  {
   "cell_type": "code",
   "execution_count": 70,
   "metadata": {},
   "outputs": [],
   "source": [
    "mixed_pc_average_each_simulation_list_percentages = []\n",
    "for i in mixed_pc_average_each_simulation_list:\n",
    "    mixed_pc_average_each_simulation_list_percentages.append((i/network_size)*100)"
   ]
  },
  {
   "cell_type": "code",
   "execution_count": 71,
   "metadata": {
    "scrolled": true
   },
   "outputs": [],
   "source": [
    "mixed_pc_stdv_each_simulation_list = []\n",
    "for i in mixed_pc_stdv_each_simulation.values():\n",
    "    mixed_pc_stdv_each_simulation_list.append(round(i, 3))"
   ]
  },
  {
   "cell_type": "code",
   "execution_count": 72,
   "metadata": {},
   "outputs": [],
   "source": [
    "mixed_pc_stdv_each_simulation_list_percentages = []\n",
    "for i in mixed_pc_stdv_each_simulation_list:\n",
    "    mixed_pc_stdv_each_simulation_list_percentages.append((i/network_size)*100)"
   ]
  },
  {
   "cell_type": "markdown",
   "metadata": {},
   "source": [
    "## Mod Vitality - Positive to negative"
   ]
  },
  {
   "cell_type": "code",
   "execution_count": 73,
   "metadata": {},
   "outputs": [],
   "source": [
    "dict_original_modv = dict_modv_read"
   ]
  },
  {
   "cell_type": "code",
   "execution_count": 74,
   "metadata": {
    "scrolled": true
   },
   "outputs": [],
   "source": [
    "for p in fraction:   \n",
    "    percentage_to_infect = round(p*network_size)\n",
    "    x_top_degree, y_top_degree = get_top_k_best_nodes(dict_original_modv, percentage_to_infect)\n",
    "    infected_nodes = y_top_degree\n",
    "\n",
    "    \n",
    "    l_degree = list()\n",
    "\n",
    "    for i in range(repeatSimulations):\n",
    "        t2, S2, I2, R2 = EoN.fast_SIR(g, tau, gamma, initial_infecteds = infected_nodes)\n",
    "        finalRecoveredInOneIteration = numberOfRecoveredNodes(R2)\n",
    "        # print('Iteration in one fraction: ', i, 'Fraction infected: ', fraction, 'Number recovered: ', finalRecoveredInOneIteration)\n",
    "        l_degree.append(finalRecoveredInOneIteration)\n",
    "        \n",
    "\n",
    "    mixed_original_modv_average_each_simulation[p] = mean(l_degree)\n",
    "    mixed_original_modv_stdv_each_simulation[p] = stdev(l_degree)"
   ]
  },
  {
   "cell_type": "code",
   "execution_count": 75,
   "metadata": {},
   "outputs": [],
   "source": [
    "mixed_original_modv_average_each_simulation_list = []\n",
    "for i in mixed_original_modv_average_each_simulation.values():\n",
    "    mixed_original_modv_average_each_simulation_list.append(i)"
   ]
  },
  {
   "cell_type": "code",
   "execution_count": 76,
   "metadata": {},
   "outputs": [],
   "source": [
    "mixed_original_modv_average_each_simulation_list_percentages = []\n",
    "for i in mixed_original_modv_average_each_simulation_list:\n",
    "    mixed_original_modv_average_each_simulation_list_percentages.append((i/network_size)*100)"
   ]
  },
  {
   "cell_type": "code",
   "execution_count": 77,
   "metadata": {
    "scrolled": true
   },
   "outputs": [],
   "source": [
    "mixed_original_modv_stdv_each_simulation_list = []\n",
    "for i in mixed_original_modv_stdv_each_simulation.values():\n",
    "    mixed_original_modv_stdv_each_simulation_list.append(round(i, 3))"
   ]
  },
  {
   "cell_type": "code",
   "execution_count": 78,
   "metadata": {},
   "outputs": [],
   "source": [
    "mixed_original_modv_stdv_each_simulation_list_percentages = []\n",
    "for i in mixed_original_modv_stdv_each_simulation_list:\n",
    "    mixed_original_modv_stdv_each_simulation_list_percentages.append((i/network_size)*100)"
   ]
  },
  {
   "cell_type": "markdown",
   "metadata": {},
   "source": [
    "#  $\\Delta$ R with STDV All Centralities\n",
    "$\\Delta r = \\frac{R_c - R_b}{R_b}$\n",
    "\n",
    "where $R_c$ is the final number of recovered nodes with current method under test and $R_b$ is the final number of recovered nodes with the baseline (reference) method  "
   ]
  },
  {
   "cell_type": "code",
   "execution_count": 79,
   "metadata": {},
   "outputs": [],
   "source": [
    "def getDeltaRList(current_listR, reference_listR, fraction):\n",
    "    # current_listR and reference_listR are supposed to be already in percentages\n",
    "    deltaR = []\n",
    "    x = range(len(fraction)) # go through the 50 values\n",
    "    for n in x:\n",
    "        current_method_value = current_listR[n]\n",
    "        ref_value = reference_listR[n]\n",
    "        val = current_method_value - ref_value\n",
    "        deltaR.append(val)\n",
    "    return deltaR"
   ]
  },
  {
   "cell_type": "code",
   "execution_count": 80,
   "metadata": {},
   "outputs": [],
   "source": [
    "def getDeltaRStdvList(current_listRStdv, reference_listRStdv, fraction):\n",
    "    # current_listR and reference_listR are supposed to be already in percentages\n",
    "    deltaR_stdv = []\n",
    "    maxy = len(fraction)\n",
    "    x = range(len(fraction))\n",
    "    for n in x:\n",
    "        current_method_value = current_listRStdv[n]\n",
    "        ref_value = reference_listRStdv[n]\n",
    "        val = current_method_value - ref_value\n",
    "        val = sqrt(((current_method_value**2)/maxy) + ((ref_value**2)/maxy))\n",
    "        deltaR_stdv.append(val)\n",
    "    return deltaR_stdv"
   ]
  },
  {
   "cell_type": "code",
   "execution_count": 81,
   "metadata": {},
   "outputs": [],
   "source": [
    "# Degree vs. Com - Average\n",
    "deltaR_original_vs_com = getDeltaRList(mixed_comm_average_each_simulation_list_percentages,\n",
    "                       degree_average_each_simulation_list_percentages, \n",
    "                       fraction)\n",
    "# Original vs. Com - Stdv\n",
    "deltaR_stdv_original_vs_com = getDeltaRStdvList(mixed_comm_stdv_each_simulation_list_percentages,\n",
    "                           degree_stdv_each_simulation_list_percentages,\n",
    "                           fraction)\n",
    "# Original vs. CBM - Average\n",
    "deltaR_original_vs_cbm = getDeltaRList(mixed_cbm_average_each_simulation_list_percentages,\n",
    "                       degree_average_each_simulation_list_percentages, \n",
    "                       fraction)\n",
    "\n",
    "# Original vs. CBM - Stdv\n",
    "deltaR_stdv_original_vs_cbm = getDeltaRStdvList(mixed_cbm_stdv_each_simulation_list_percentages,\n",
    "                           degree_stdv_each_simulation_list_percentages,\n",
    "                           fraction)\n",
    "\n",
    "# Original vs. CHB - Average\n",
    "deltaR_original_vs_chb = getDeltaRList(mixed_chb_average_each_simulation_list_percentages,\n",
    "                       degree_average_each_simulation_list_percentages, \n",
    "                       fraction)\n",
    "\n",
    "# Original vs. CHB - Stdv\n",
    "deltaR_stdv_original_vs_chb = getDeltaRStdvList(mixed_chb_stdv_each_simulation_list_percentages,\n",
    "                           degree_stdv_each_simulation_list_percentages,\n",
    "                           fraction)\n",
    "\n",
    "# Original vs. Kshell - Average\n",
    "deltaR_original_vs_kshell = getDeltaRList(mixed_kshell_average_each_simulation_list_percentages,\n",
    "                       degree_average_each_simulation_list_percentages, \n",
    "                       fraction)\n",
    "\n",
    "# Original vs. Kshell - Stdv\n",
    "deltaR_stdv_original_vs_kshell = getDeltaRStdvList(mixed_kshell_stdv_each_simulation_list_percentages,\n",
    "                           degree_stdv_each_simulation_list_percentages,\n",
    "                           fraction)\n",
    "\n",
    "# Original vs. CBC - Average\n",
    "deltaR_original_vs_cbc = getDeltaRList(mixed_cbc_average_each_simulation_list_percentages,\n",
    "                       degree_average_each_simulation_list_percentages, \n",
    "                       fraction)\n",
    "\n",
    "# Original vs. CBC - Stdv\n",
    "deltaR_stdv_original_vs_cbc = getDeltaRStdvList(mixed_cbc_stdv_each_simulation_list_percentages,\n",
    "                           degree_stdv_each_simulation_list_percentages,\n",
    "                           fraction)\n",
    "\n",
    "# Original vs. PC - Average\n",
    "deltaR_original_vs_pc = getDeltaRList(mixed_pc_average_each_simulation_list_percentages,\n",
    "                       degree_average_each_simulation_list_percentages, \n",
    "                       fraction)\n",
    "\n",
    "# Original vs. PC - Stdv\n",
    "deltaR_stdv_original_vs_pc = getDeltaRStdvList(mixed_pc_stdv_each_simulation_list_percentages,\n",
    "                           degree_stdv_each_simulation_list_percentages,\n",
    "                           fraction)\n",
    "\n",
    "# Original vs. Modv Pos to Neg - Average\n",
    "deltaR_original_vs_modv = getDeltaRList(mixed_original_modv_average_each_simulation_list_percentages,\n",
    "                       degree_average_each_simulation_list_percentages, \n",
    "                       fraction)\n",
    "\n",
    "# Original vs. Modv Pos to Neg - Stdv\n",
    "deltaR_stdv_original_vs_modv = getDeltaRStdvList(mixed_original_modv_stdv_each_simulation_list_percentages,\n",
    "                           degree_stdv_each_simulation_list_percentages,\n",
    "                           fraction)"
   ]
  },
  {
   "cell_type": "code",
   "execution_count": 82,
   "metadata": {},
   "outputs": [
    {
     "data": {
      "image/png": "[encoded data removed]",
      "text/plain": [
       "<Figure size 1080x576 with 1 Axes>"
      ]
     },
     "metadata": {
      "needs_background": "light"
     },
     "output_type": "display_data"
    }
   ],
   "source": [
    "# Caluclate the mean of datasets\n",
    "Mean_A=deltaR_original_vs_com\n",
    "Mean_B=deltaR_original_vs_cbm\n",
    "Mean_C=deltaR_original_vs_chb\n",
    "Mean_D=deltaR_original_vs_kshell\n",
    "Mean_E=deltaR_original_vs_cbc\n",
    "Mean_F=deltaR_original_vs_pc\n",
    "Mean_G=deltaR_original_vs_modv\n",
    "\n",
    "\n",
    "# Create a figure with customized size\n",
    "fig = plt.figure(figsize=(15, 8))\n",
    "ax = fig.add_subplot(111)\n",
    "\n",
    "# Line color for error bar\n",
    "color_A = 'red'\n",
    "color_B = 'green'\n",
    "color_C = 'blue'\n",
    "color_D = 'orange'\n",
    "color_E = 'purple'\n",
    "color_F = 'pink'\n",
    "color_G = 'fuchsia'\n",
    "color_H = 'black'\n",
    "color_I = 'aqua'\n",
    "\n",
    "# Set the axis lables\n",
    "ax.set_xlabel('Fraction initially infected (%)', fontsize = 18)\n",
    "ax.set_ylabel('ΔR (%)', fontsize = 18)\n",
    "\n",
    "xaxis = fraction\n",
    "\n",
    "# Line style for each dataset\n",
    "lineStyle_A={\"linestyle\":\"-\", \"linewidth\":2, \"markeredgewidth\":2, \"elinewidth\":2, \"capsize\":3}\n",
    "\n",
    "# Create an error bar for each dataset\n",
    "line_A=ax.errorbar(xaxis, Mean_A,yerr=deltaR_stdv_original_vs_com,**lineStyle_A, color=color_A, label='Comm')\n",
    "line_B=ax.errorbar(xaxis, Mean_B,yerr=deltaR_stdv_original_vs_cbm,**lineStyle_A, color=color_B, label='CBM')\n",
    "line_C=ax.errorbar(xaxis, Mean_C,yerr=deltaR_stdv_original_vs_chb,**lineStyle_A, color=color_C, label='CHB')\n",
    "line_D=ax.errorbar(xaxis, Mean_D,yerr=deltaR_stdv_original_vs_kshell,**lineStyle_A, color=color_D, label='K-shell')\n",
    "line_E=ax.errorbar(xaxis, Mean_E,yerr=deltaR_stdv_original_vs_cbc,**lineStyle_A, color=color_E, label='CBC')\n",
    "line_F=ax.errorbar(xaxis, Mean_F,yerr=deltaR_stdv_original_vs_pc,**lineStyle_A, color=color_F, label='PC')\n",
    "line_G=ax.errorbar(xaxis, Mean_G,yerr=deltaR_stdv_original_vs_modv,**lineStyle_A, color=color_G, label='Mod V - Pos to Neg')\n",
    "\n",
    "ax.margins(x=0)\n",
    "\n",
    "              \n",
    "# Draw a legend bar\n",
    "plt.legend(handles=[line_A, line_B, line_C, line_D, line_E, line_F, line_G],  bbox_to_anchor=(1.2, 1))\n",
    "\n",
    "# Customize the tickes on the graph\n",
    "plt.xticks(xaxis)               \n",
    "plt.xticks(rotation = 45) \n",
    "ax.set_ylim([-10,30])\n",
    "ax.axhline(0, color = 'black', linewidth=1)\n",
    "              \n",
    "# Draw a grid for the graph\n",
    "ax.grid(color='lightgrey', linestyle='-')\n",
    "ax.set_facecolor('w')\n",
    "plt.tick_params(labelsize=13)"
   ]
  },
  {
   "cell_type": "code",
   "execution_count": null,
   "metadata": {},
   "outputs": [],
   "source": []
  },
  {
   "cell_type": "code",
   "execution_count": null,
   "metadata": {},
   "outputs": [],
   "source": []
  },
  {
   "cell_type": "code",
   "execution_count": null,
   "metadata": {},
   "outputs": [],
   "source": []
  }
 ],
 "metadata": {
  "kernelspec": {
   "display_name": "Python 3",
   "language": "python",
   "name": "python3"
  },
  "language_info": {
   "codemirror_mode": {
    "name": "ipython",
    "version": 3
   },
   "file_extension": ".py",
   "mimetype": "text/x-python",
   "name": "python",
   "nbconvert_exporter": "python",
   "pygments_lexer": "ipython3",
   "version": "3.8.8"
  },
  "toc": {
   "base_numbering": 1,
   "nav_menu": {},
   "number_sections": true,
   "sideBar": true,
   "skip_h1_title": false,
   "title_cell": "Table of Contents",
   "title_sidebar": "Contents",
   "toc_cell": false,
   "toc_position": {
    "height": "622.656px",
    "left": "23px",
    "top": "131px",
    "width": "406.766px"
   },
   "toc_section_display": true,
   "toc_window_display": true
  }
 },
 "nbformat": 4,
 "nbformat_minor": 4
}
