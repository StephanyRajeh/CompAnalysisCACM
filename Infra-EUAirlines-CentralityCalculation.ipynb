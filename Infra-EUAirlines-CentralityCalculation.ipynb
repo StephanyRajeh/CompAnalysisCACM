{
 "cells": [
  {
   "cell_type": "markdown",
   "metadata": {},
   "source": [
    "# Read Dataset and Get Characteristics"
   ]
  },
  {
   "cell_type": "code",
   "execution_count": 1,
   "metadata": {},
   "outputs": [],
   "source": [
    "import networkx as nx\n",
    "import numpy as np\n",
    "import operator"
   ]
  },
  {
   "cell_type": "code",
   "execution_count": 2,
   "metadata": {},
   "outputs": [
    {
     "data": {
      "text/html": [
       "<div>\n",
       "<style scoped>\n",
       "    .dataframe tbody tr th:only-of-type {\n",
       "        vertical-align: middle;\n",
       "    }\n",
       "\n",
       "    .dataframe tbody tr th {\n",
       "        vertical-align: top;\n",
       "    }\n",
       "\n",
       "    .dataframe thead th {\n",
       "        text-align: right;\n",
       "    }\n",
       "</style>\n",
       "<table border=\"1\" class=\"dataframe\">\n",
       "  <thead>\n",
       "    <tr style=\"text-align: right;\">\n",
       "      <th></th>\n",
       "      <th># source</th>\n",
       "      <th>target</th>\n",
       "      <th>weight</th>\n",
       "      <th>layer</th>\n",
       "    </tr>\n",
       "  </thead>\n",
       "  <tbody>\n",
       "    <tr>\n",
       "      <th>0</th>\n",
       "      <td>0</td>\n",
       "      <td>1</td>\n",
       "      <td>1</td>\n",
       "      <td>1</td>\n",
       "    </tr>\n",
       "    <tr>\n",
       "      <th>1</th>\n",
       "      <td>0</td>\n",
       "      <td>37</td>\n",
       "      <td>1</td>\n",
       "      <td>1</td>\n",
       "    </tr>\n",
       "    <tr>\n",
       "      <th>2</th>\n",
       "      <td>0</td>\n",
       "      <td>251</td>\n",
       "      <td>1</td>\n",
       "      <td>3</td>\n",
       "    </tr>\n",
       "    <tr>\n",
       "      <th>3</th>\n",
       "      <td>0</td>\n",
       "      <td>70</td>\n",
       "      <td>1</td>\n",
       "      <td>4</td>\n",
       "    </tr>\n",
       "    <tr>\n",
       "      <th>4</th>\n",
       "      <td>0</td>\n",
       "      <td>63</td>\n",
       "      <td>1</td>\n",
       "      <td>14</td>\n",
       "    </tr>\n",
       "  </tbody>\n",
       "</table>\n",
       "</div>"
      ],
      "text/plain": [
       "   # source   target   weight   layer\n",
       "0         0        1        1       1\n",
       "1         0       37        1       1\n",
       "2         0      251        1       3\n",
       "3         0       70        1       4\n",
       "4         0       63        1      14"
      ]
     },
     "execution_count": 2,
     "metadata": {},
     "output_type": "execute_result"
    }
   ],
   "source": [
    "#First, read it in as a normal dataframe\n",
    "import pandas as pd\n",
    "df = pd.read_csv(r\".\\eu_airlines\\edges.csv\")\n",
    "df.head()"
   ]
  },
  {
   "cell_type": "code",
   "execution_count": 3,
   "metadata": {},
   "outputs": [
    {
     "data": {
      "text/html": [
       "<div>\n",
       "<style scoped>\n",
       "    .dataframe tbody tr th:only-of-type {\n",
       "        vertical-align: middle;\n",
       "    }\n",
       "\n",
       "    .dataframe tbody tr th {\n",
       "        vertical-align: top;\n",
       "    }\n",
       "\n",
       "    .dataframe thead th {\n",
       "        text-align: right;\n",
       "    }\n",
       "</style>\n",
       "<table border=\"1\" class=\"dataframe\">\n",
       "  <thead>\n",
       "    <tr style=\"text-align: right;\">\n",
       "      <th></th>\n",
       "      <th>s</th>\n",
       "      <th>t</th>\n",
       "    </tr>\n",
       "  </thead>\n",
       "  <tbody>\n",
       "    <tr>\n",
       "      <th>0</th>\n",
       "      <td>0</td>\n",
       "      <td>1</td>\n",
       "    </tr>\n",
       "    <tr>\n",
       "      <th>1</th>\n",
       "      <td>0</td>\n",
       "      <td>37</td>\n",
       "    </tr>\n",
       "    <tr>\n",
       "      <th>2</th>\n",
       "      <td>0</td>\n",
       "      <td>251</td>\n",
       "    </tr>\n",
       "    <tr>\n",
       "      <th>3</th>\n",
       "      <td>0</td>\n",
       "      <td>70</td>\n",
       "    </tr>\n",
       "    <tr>\n",
       "      <th>4</th>\n",
       "      <td>0</td>\n",
       "      <td>63</td>\n",
       "    </tr>\n",
       "    <tr>\n",
       "      <th>...</th>\n",
       "      <td>...</td>\n",
       "      <td>...</td>\n",
       "    </tr>\n",
       "    <tr>\n",
       "      <th>3583</th>\n",
       "      <td>383</td>\n",
       "      <td>396</td>\n",
       "    </tr>\n",
       "    <tr>\n",
       "      <th>3584</th>\n",
       "      <td>385</td>\n",
       "      <td>413</td>\n",
       "    </tr>\n",
       "    <tr>\n",
       "      <th>3585</th>\n",
       "      <td>409</td>\n",
       "      <td>420</td>\n",
       "    </tr>\n",
       "    <tr>\n",
       "      <th>3586</th>\n",
       "      <td>435</td>\n",
       "      <td>444</td>\n",
       "    </tr>\n",
       "    <tr>\n",
       "      <th>3587</th>\n",
       "      <td>442</td>\n",
       "      <td>446</td>\n",
       "    </tr>\n",
       "  </tbody>\n",
       "</table>\n",
       "<p>3588 rows × 2 columns</p>\n",
       "</div>"
      ],
      "text/plain": [
       "        s    t\n",
       "0       0    1\n",
       "1       0   37\n",
       "2       0  251\n",
       "3       0   70\n",
       "4       0   63\n",
       "...   ...  ...\n",
       "3583  383  396\n",
       "3584  385  413\n",
       "3585  409  420\n",
       "3586  435  444\n",
       "3587  442  446\n",
       "\n",
       "[3588 rows x 2 columns]"
      ]
     },
     "execution_count": 3,
     "metadata": {},
     "output_type": "execute_result"
    }
   ],
   "source": [
    "df = df.iloc[:, 0:2]\n",
    "df.rename(columns={'# source':'s', ' target':'t'}, inplace=True)\n",
    "df"
   ]
  },
  {
   "cell_type": "code",
   "execution_count": 4,
   "metadata": {},
   "outputs": [
    {
     "name": "stdout",
     "output_type": "stream",
     "text": [
      "Graph with 417 nodes and 2953 edges\n"
     ]
    }
   ],
   "source": [
    "#Convert it to a graph\n",
    "#Each row is an edge with a source and a target. The network will automatically create nodes for you based on their names.\n",
    "g = nx.from_pandas_edgelist(df, source='s', target='t')\n",
    "print(nx.info(g))"
   ]
  },
  {
   "cell_type": "code",
   "execution_count": 5,
   "metadata": {},
   "outputs": [],
   "source": [
    "g = g.to_undirected()"
   ]
  },
  {
   "cell_type": "code",
   "execution_count": 6,
   "metadata": {},
   "outputs": [
    {
     "name": "stdout",
     "output_type": "stream",
     "text": [
      "Graph with 417 nodes and 2953 edges\n"
     ]
    }
   ],
   "source": [
    "print(nx.info(g))"
   ]
  },
  {
   "cell_type": "markdown",
   "metadata": {},
   "source": [
    "# Get Simple Graph\n",
    "Remove self-loops"
   ]
  },
  {
   "cell_type": "code",
   "execution_count": 7,
   "metadata": {},
   "outputs": [],
   "source": [
    "g.remove_edges_from(nx.selfloop_edges(g))"
   ]
  },
  {
   "cell_type": "code",
   "execution_count": 8,
   "metadata": {},
   "outputs": [
    {
     "name": "stdout",
     "output_type": "stream",
     "text": [
      "Graph with 417 nodes and 2953 edges\n"
     ]
    }
   ],
   "source": [
    "print(nx.info(g))"
   ]
  },
  {
   "cell_type": "markdown",
   "metadata": {},
   "source": [
    "# Check connectedness"
   ]
  },
  {
   "cell_type": "code",
   "execution_count": 9,
   "metadata": {},
   "outputs": [
    {
     "data": {
      "text/plain": [
       "True"
      ]
     },
     "execution_count": 9,
     "metadata": {},
     "output_type": "execute_result"
    }
   ],
   "source": [
    "nx.is_connected(g)"
   ]
  },
  {
   "cell_type": "code",
   "execution_count": 10,
   "metadata": {},
   "outputs": [
    {
     "data": {
      "text/plain": [
       "1"
      ]
     },
     "execution_count": 10,
     "metadata": {},
     "output_type": "execute_result"
    }
   ],
   "source": [
    "nx.number_connected_components(g)"
   ]
  },
  {
   "cell_type": "markdown",
   "metadata": {},
   "source": [
    "# Relabel it all if nodes are strings\n",
    "- To be able to run all types of correlation together\n",
    "- But put the graph relabled in `g_relabled`"
   ]
  },
  {
   "cell_type": "code",
   "execution_count": 11,
   "metadata": {},
   "outputs": [],
   "source": [
    "from myTruss import mappingAndRelabeling"
   ]
  },
  {
   "cell_type": "code",
   "execution_count": 12,
   "metadata": {},
   "outputs": [],
   "source": [
    "g_relabled = mappingAndRelabeling(g)"
   ]
  },
  {
   "cell_type": "code",
   "execution_count": 13,
   "metadata": {},
   "outputs": [
    {
     "name": "stdout",
     "output_type": "stream",
     "text": [
      "Graph with 417 nodes and 2953 edges\n"
     ]
    }
   ],
   "source": [
    "\"\"\"Before\"\"\" \n",
    "print(nx.info(g))"
   ]
  },
  {
   "cell_type": "code",
   "execution_count": 14,
   "metadata": {},
   "outputs": [
    {
     "name": "stdout",
     "output_type": "stream",
     "text": [
      "Graph with 417 nodes and 2953 edges\n"
     ]
    }
   ],
   "source": [
    "\"\"\"After\"\"\" \n",
    "print(nx.info(g_relabled))"
   ]
  },
  {
   "cell_type": "code",
   "execution_count": 15,
   "metadata": {},
   "outputs": [],
   "source": [
    "g = g_relabled"
   ]
  },
  {
   "cell_type": "markdown",
   "metadata": {},
   "source": [
    "# Getting Community Structure According to InfoMap"
   ]
  },
  {
   "cell_type": "code",
   "execution_count": 16,
   "metadata": {},
   "outputs": [],
   "source": [
    "import community\n",
    "import infomap"
   ]
  },
  {
   "cell_type": "code",
   "execution_count": 17,
   "metadata": {},
   "outputs": [
    {
     "name": "stdout",
     "output_type": "stream",
     "text": [
      "Building Infomap network from a NetworkX graph...\n",
      "Find communities with Infomap...\n",
      "Found 10 modules with codelength: 7.445887560302869\n"
     ]
    }
   ],
   "source": [
    "im = infomap.Infomap(\"--two-level\")\n",
    "\n",
    "print(\"Building Infomap network from a NetworkX graph...\")\n",
    "for source, target in g.edges:\n",
    "    im.add_link(source, target)\n",
    "\n",
    "print(\"Find communities with Infomap...\")\n",
    "im.run()\n",
    "\n",
    "print(f\"Found {im.num_top_modules} modules with codelength: {im.codelength}\")\n",
    "\n",
    "communities = im.get_modules()"
   ]
  },
  {
   "cell_type": "code",
   "execution_count": 19,
   "metadata": {},
   "outputs": [
    {
     "data": {
      "text/plain": [
       "0.10860198419556237"
      ]
     },
     "execution_count": 19,
     "metadata": {},
     "output_type": "execute_result"
    }
   ],
   "source": [
    "modularity_value = community.modularity(communities, g)\n",
    "modularity_value"
   ]
  },
  {
   "cell_type": "markdown",
   "metadata": {},
   "source": [
    "# Rename the communities"
   ]
  },
  {
   "cell_type": "code",
   "execution_count": 20,
   "metadata": {},
   "outputs": [],
   "source": [
    "from organizeCommunities import *\n",
    "\n",
    "def flip_nodes_and_communities(dict_nodes_communities):\n",
    "    new_dict = {}\n",
    "    for k, v in dict_nodes_communities.items():\n",
    "        new_dict[v]=[]\n",
    "    \n",
    "    for kk,vv in new_dict.items():\n",
    "        for k,v in dict_nodes_communities.items():\n",
    "            if dict_nodes_communities[k] == kk:\n",
    "                new_dict[kk].append(k)\n",
    "    \n",
    "    return new_dict"
   ]
  },
  {
   "cell_type": "code",
   "execution_count": 21,
   "metadata": {},
   "outputs": [],
   "source": [
    "infomap_communities = flip_nodes_and_communities(communities)"
   ]
  },
  {
   "cell_type": "code",
   "execution_count": 22,
   "metadata": {},
   "outputs": [],
   "source": [
    "infomap_communities_organized = orderCommunities(infomap_communities)"
   ]
  },
  {
   "cell_type": "code",
   "execution_count": 24,
   "metadata": {
    "scrolled": true
   },
   "outputs": [
    {
     "name": "stdout",
     "output_type": "stream",
     "text": [
      "Number of partitions:  10\n",
      "Number of nodes in the communities detected:  417\n",
      "Number of repetitions:  0\n",
      "\n",
      "\n"
     ]
    }
   ],
   "source": [
    "communityInfo(infomap_communities, infomap_communities_organized)"
   ]
  },
  {
   "cell_type": "code",
   "execution_count": 25,
   "metadata": {},
   "outputs": [],
   "source": [
    "dict_graph = dict()\n",
    "for i in g:\n",
    "    dict_graph[i] = []\n",
    "    for j in g[i]:\n",
    "        dict_graph[i].append(j)"
   ]
  },
  {
   "cell_type": "code",
   "execution_count": 26,
   "metadata": {},
   "outputs": [
    {
     "name": "stdout",
     "output_type": "stream",
     "text": [
      "Raw graph information:\n",
      "Graph with 417 nodes and 2953 edges\n"
     ]
    }
   ],
   "source": [
    "print('Raw graph information:')\n",
    "print(nx.info(g))"
   ]
  },
  {
   "cell_type": "code",
   "execution_count": 29,
   "metadata": {},
   "outputs": [],
   "source": [
    "from graphsExtractor import *"
   ]
  },
  {
   "cell_type": "code",
   "execution_count": 30,
   "metadata": {},
   "outputs": [],
   "source": [
    "dict_graph = dict()\n",
    "for i in g:\n",
    "    dict_graph[i] = []\n",
    "    for j in g[i]:\n",
    "        dict_graph[i].append(j)"
   ]
  },
  {
   "cell_type": "code",
   "execution_count": 31,
   "metadata": {},
   "outputs": [
    {
     "name": "stdout",
     "output_type": "stream",
     "text": [
      "Graph with 417 nodes and 2738 edges\n"
     ]
    }
   ],
   "source": [
    "# Get the intra graph (local component)\n",
    "g_intra_wo, graph_wo_intra = intra_wo(dict_graph, infomap_communities_organized)\n",
    "print(nx.info(graph_wo_intra))"
   ]
  },
  {
   "cell_type": "code",
   "execution_count": 32,
   "metadata": {},
   "outputs": [
    {
     "name": "stdout",
     "output_type": "stream",
     "text": [
      "Graph with 417 nodes and 215 edges\n"
     ]
    }
   ],
   "source": [
    "# Get the inter graph (global component)\n",
    "g_inter, graph_inter = inter_wo_o(g, infomap_communities_organized)\n",
    "print(nx.info(graph_inter))"
   ]
  },
  {
   "cell_type": "code",
   "execution_count": 33,
   "metadata": {},
   "outputs": [],
   "source": [
    "g_intra_wo_converted = nx.Graph(g_intra_wo)\n",
    "g_inter_converted = nx.Graph(g_inter)\n",
    "dict_graph_converted = nx.Graph(dict_graph)\n",
    "listofnodes = list(dict_graph_converted.nodes())"
   ]
  },
  {
   "cell_type": "markdown",
   "metadata": {},
   "source": [
    "# Community-aware centrality 1: Comm Centrality\n",
    "\n",
    "Note: Comm Centrality will give at each runtime a value due to the random constant number `R`. One can average its values after 100 iterations."
   ]
  },
  {
   "cell_type": "code",
   "execution_count": 34,
   "metadata": {},
   "outputs": [],
   "source": [
    "from CommCentralityCode import *"
   ]
  },
  {
   "cell_type": "code",
   "execution_count": 35,
   "metadata": {},
   "outputs": [],
   "source": [
    "dict_com = comm_centreality(g, communities)"
   ]
  },
  {
   "cell_type": "code",
   "execution_count": 36,
   "metadata": {},
   "outputs": [
    {
     "data": {
      "text/plain": [
       "{17: 1448.0279768627056,\n",
       " 307: 1393.1593406593408,\n",
       " 22: 1261.7878240322348,\n",
       " 240: 1202.825450180072,\n",
       " 252: 1169.5555555555554,\n",
       " 91: 1155.7147511876076,\n",
       " 26: 1133.387752925041,\n",
       " 225: 1013.3333333333334,\n",
       " 400: 1013.3333333333334,\n",
       " 1: 935.0882492531997,\n",
       " 23: 925.1304283967304,\n",
       " 366: 779.0,\n",
       " 367: 779.0,\n",
       " 350: 661.8333333333334,\n",
       " 2: 542.8131901789143,\n",
       " 63: 534.2779151590834,\n",
       " 59: 525.0313672209334,\n",
       " 21: 380.05554451802703,\n",
       " 92: 323.3899064066573,\n",
       " 52: 253.77661314102846,\n",
       " 43: 248.08642979447455,\n",
       " 48: 242.39624644792067,\n",
       " 47: 242.04060998876105,\n",
       " 101: 239.90679123380335,\n",
       " 308: 236.64186813186816,\n",
       " 168: 231.0158797548129,\n",
       " 372: 210.58333333333334,\n",
       " 83: 166.11021480287593,\n",
       " 3: 161.48694083380087,\n",
       " 5: 154.72984810976814,\n",
       " 10: 151.17348351817196,\n",
       " 12: 149.03966476321423,\n",
       " 96: 146.5502095490969,\n",
       " 4: 145.12766371245846,\n",
       " 24: 143.34948141666035,\n",
       " 140: 137.30366161094685,\n",
       " 37: 136.236752233468,\n",
       " 25: 134.81420639682952,\n",
       " 187: 133.74729701935067,\n",
       " 159: 131.96911472355256,\n",
       " 90: 130.69074826494543,\n",
       " 207: 129.83529596859486,\n",
       " 68: 110.98372854033485,\n",
       " 30: 89.67234214827894,\n",
       " 57: 87.89415985248087,\n",
       " 14: 83.62652234256545,\n",
       " 310: 81.80555555555556,\n",
       " 311: 79.3610164835165,\n",
       " 13: 75.80252024105384,\n",
       " 7: 75.44688378189423,\n",
       " 54: 74.02433794525575,\n",
       " 44: 73.66870148609614,\n",
       " 70: 71.89051919029805,\n",
       " 66: 71.53488273113842,\n",
       " 40: 65.48906292542492,\n",
       " 45: 65.1334264662653,\n",
       " 33: 64.42215354794607,\n",
       " 71: 64.3782787133471,\n",
       " 34: 64.06651708878644,\n",
       " 69: 62.64397125214797,\n",
       " 77: 62.28833479298835,\n",
       " 62: 61.57706187466912,\n",
       " 244: 59.44324311971141,\n",
       " 385: 55.109557211314275,\n",
       " 130: 53.070927646774805,\n",
       " 413: 50.666666666666664,\n",
       " 416: 50.666666666666664,\n",
       " 35: 47.57936502261273,\n",
       " 316: 39.92780451023384,\n",
       " 382: 39.92780451023384,\n",
       " 383: 39.92780451023384,\n",
       " 95: 36.55463478866456,\n",
       " 112: 35.48772541118571,\n",
       " 379: 35.35096153846154,\n",
       " 376: 34.96527777777778,\n",
       " 377: 34.96527777777778,\n",
       " 42: 33.70954311538762,\n",
       " 28: 33.353906656228,\n",
       " 56: 32.64263373790876,\n",
       " 73: 31.93136081958952,\n",
       " 85: 31.57572436042991,\n",
       " 396: 30.363505402160865,\n",
       " 406: 30.363505402160865,\n",
       " 374: 30.300824175824175,\n",
       " 19: 30.153178523791432,\n",
       " 38: 28.450916732769457,\n",
       " 20: 28.019359768833727,\n",
       " 41: 28.019359768833727,\n",
       " 16: 26.952450391354873,\n",
       " 103: 26.241177473035634,\n",
       " 124: 26.241177473035634,\n",
       " 391: 25.250686813186814,\n",
       " 39: 24.81863163639716,\n",
       " 315: 23.354166666666668,\n",
       " 11: 22.684812881439452,\n",
       " 312: 22.026772333796362,\n",
       " 58: 21.973539963120217,\n",
       " 15: 21.973539963120217,\n",
       " 31: 21.617903503960598,\n",
       " 29: 21.617903503960598,\n",
       " 392: 20.20054945054945,\n",
       " 134: 19.83972120816251,\n",
       " 27: 19.12844828984327,\n",
       " 81: 19.12844828984327,\n",
       " 72: 18.417175371524035,\n",
       " 166: 18.061538912364416,\n",
       " 61: 18.061538912364416,\n",
       " 32: 18.061538912364416,\n",
       " 381: 17.416666666666668,\n",
       " 384: 17.416666666666668,\n",
       " 323: 17.35026599404518,\n",
       " 319: 17.244346408599107,\n",
       " 74: 16.99462953488556,\n",
       " 219: 16.283356616566326,\n",
       " 147: 15.927720157406707,\n",
       " 354: 15.927720157406707,\n",
       " 272: 15.572083698247088,\n",
       " 274: 15.21644723908747,\n",
       " 285: 15.21644723908747,\n",
       " 290: 15.21644723908747,\n",
       " 393: 15.150412087912088,\n",
       " 395: 15.150412087912088,\n",
       " 164: 14.936731284703963,\n",
       " 8: 14.936731284703963,\n",
       " 242: 14.818617098639248,\n",
       " 98: 14.225458366384728,\n",
       " 106: 13.869821907225111,\n",
       " 141: 13.514185448065492,\n",
       " 314: 13.404599129496809,\n",
       " 50: 13.158548988905874,\n",
       " 313: 12.933259806449328,\n",
       " 318: 12.933259806449328,\n",
       " 320: 12.933259806449328,\n",
       " 18: 12.091639611427018,\n",
       " 387: 11.611111111111112,\n",
       " 114: 11.380366693107781,\n",
       " 60: 11.380366693107781,\n",
       " 142: 11.024730233948164,\n",
       " 163: 10.669093774788545,\n",
       " 375: 10.100274725274724,\n",
       " 378: 10.100274725274724,\n",
       " 380: 10.100274725274724,\n",
       " 394: 10.100274725274724,\n",
       " 93: 9.964232145551831,\n",
       " 171: 9.95782085646931,\n",
       " 111: 9.95782085646931,\n",
       " 157: 9.60218439730969,\n",
       " 102: 9.60218439730969,\n",
       " 174: 9.246547938150073,\n",
       " 75: 9.246547938150073,\n",
       " 309: 9.093512527347034,\n",
       " 317: 8.622173204299553,\n",
       " 167: 8.535275019830836,\n",
       " 88: 8.535275019830836,\n",
       " 97: 8.179638560671219,\n",
       " 136: 8.011423869406181,\n",
       " 131: 8.011423869406181,\n",
       " 67: 7.8240021015116,\n",
       " 137: 7.577875936476073,\n",
       " 170: 7.468365642351982,\n",
       " 89: 7.468365642351982,\n",
       " 79: 7.112729183192364,\n",
       " 105: 6.757092724032746,\n",
       " 169: 6.757092724032746,\n",
       " 236: 6.757092724032746,\n",
       " 129: 6.495848682110966,\n",
       " 247: 6.495848682110966,\n",
       " 135: 6.495848682110966,\n",
       " 139: 6.495848682110966,\n",
       " 126: 6.4014562648731275,\n",
       " 121: 6.4014562648731275,\n",
       " 138: 6.062300749180858,\n",
       " 133: 6.062300749180858,\n",
       " 155: 6.045819805713509,\n",
       " 46: 6.045819805713509,\n",
       " 36: 6.045819805713509,\n",
       " 127: 6.045819805713509,\n",
       " 84: 6.045819805713509,\n",
       " 386: 5.805555555555556,\n",
       " 80: 5.690183346553891,\n",
       " 173: 5.690183346553891,\n",
       " 154: 5.690183346553891,\n",
       " 86: 5.690183346553891,\n",
       " 172: 5.690183346553891,\n",
       " 78: 5.334546887394272,\n",
       " 148: 5.334546887394272,\n",
       " 322: 5.334546887394272,\n",
       " 6: 5.334546887394272,\n",
       " 99: 5.334546887394272,\n",
       " 373: 5.050137362637362,\n",
       " 94: 4.980273494815751,\n",
       " 49: 4.978910428234655,\n",
       " 119: 4.978910428234655,\n",
       " 150: 4.978910428234655,\n",
       " 277: 4.765342106310861,\n",
       " 87: 4.623273969075036,\n",
       " 246: 4.623273969075036,\n",
       " 0: 4.623273969075036,\n",
       " 273: 4.546725561885643,\n",
       " 283: 4.546725561885643,\n",
       " 286: 4.546725561885643,\n",
       " 132: 4.546725561885643,\n",
       " 404: 4.311086602149777,\n",
       " 51: 4.267637509915418,\n",
       " 115: 4.267637509915418,\n",
       " 160: 4.267637509915418,\n",
       " 53: 4.267637509915418,\n",
       " 249: 3.9120010507558,\n",
       " 128: 3.9120010507558,\n",
       " 125: 3.9120010507558,\n",
       " 109: 3.9120010507558,\n",
       " 122: 3.556364591596182,\n",
       " 184: 3.556364591596182,\n",
       " 185: 3.556364591596182,\n",
       " 55: 3.556364591596182,\n",
       " 156: 3.556364591596182,\n",
       " 176: 3.556364591596182,\n",
       " 108: 3.556364591596182,\n",
       " 178: 3.556364591596182,\n",
       " 182: 3.556364591596182,\n",
       " 188: 3.556364591596182,\n",
       " 65: 3.556364591596182,\n",
       " 165: 3.2007281324365637,\n",
       " 193: 3.2007281324365637,\n",
       " 190: 3.2007281324365637,\n",
       " 175: 3.2007281324365637,\n",
       " 123: 3.2007281324365637,\n",
       " 275: 3.031150374590429,\n",
       " 276: 3.031150374590429,\n",
       " 279: 3.031150374590429,\n",
       " 287: 3.031150374590429,\n",
       " 288: 3.031150374590429,\n",
       " 239: 2.8450916732769453,\n",
       " 180: 2.8450916732769453,\n",
       " 248: 2.8450916732769453,\n",
       " 195: 2.8450916732769453,\n",
       " 250: 2.8450916732769453,\n",
       " 259: 2.8450916732769453,\n",
       " 9: 2.8450916732769453,\n",
       " 158: 2.8450916732769453,\n",
       " 260: 2.4894552141173274,\n",
       " 118: 2.4894552141173274,\n",
       " 324: 2.4894552141173274,\n",
       " 329: 2.4894552141173274,\n",
       " 104: 2.4894552141173274,\n",
       " 153: 2.4894552141173274,\n",
       " 120: 2.4894552141173274,\n",
       " 258: 2.133818754957709,\n",
       " 261: 2.133818754957709,\n",
       " 264: 2.133818754957709,\n",
       " 265: 2.133818754957709,\n",
       " 117: 2.133818754957709,\n",
       " 192: 2.133818754957709,\n",
       " 107: 2.133818754957709,\n",
       " 151: 2.133818754957709,\n",
       " 326: 2.133818754957709,\n",
       " 346: 2.133818754957709,\n",
       " 351: 2.133818754957709,\n",
       " 209: 2.133818754957709,\n",
       " 191: 2.133818754957709,\n",
       " 245: 2.133818754957709,\n",
       " 181: 2.133818754957709,\n",
       " 82: 2.133818754957709,\n",
       " 268: 1.9491231202253225,\n",
       " 251: 1.9491231202253225,\n",
       " 116: 1.778182295798091,\n",
       " 199: 1.778182295798091,\n",
       " 212: 1.778182295798091,\n",
       " 253: 1.778182295798091,\n",
       " 208: 1.778182295798091,\n",
       " 143: 1.778182295798091,\n",
       " 76: 1.778182295798091,\n",
       " 162: 1.778182295798091,\n",
       " 152: 1.778182295798091,\n",
       " 149: 1.778182295798091,\n",
       " 217: 1.778182295798091,\n",
       " 210: 1.778182295798091,\n",
       " 278: 1.5155751872952146,\n",
       " 280: 1.5155751872952146,\n",
       " 281: 1.5155751872952146,\n",
       " 282: 1.5155751872952146,\n",
       " 284: 1.5155751872952146,\n",
       " 289: 1.5155751872952146,\n",
       " 325: 1.5155751872952146,\n",
       " 291: 1.4225458366384727,\n",
       " 295: 1.4225458366384727,\n",
       " 269: 1.4225458366384727,\n",
       " 254: 1.4225458366384727,\n",
       " 186: 1.4225458366384727,\n",
       " 110: 1.4225458366384727,\n",
       " 255: 1.4225458366384727,\n",
       " 342: 1.4225458366384727,\n",
       " 344: 1.4225458366384727,\n",
       " 348: 1.4225458366384727,\n",
       " 197: 1.4225458366384727,\n",
       " 355: 1.4225458366384727,\n",
       " 179: 1.4225458366384727,\n",
       " 198: 1.4225458366384727,\n",
       " 144: 1.4225458366384727,\n",
       " 113: 1.4225458366384727,\n",
       " 205: 1.4225458366384727,\n",
       " 270: 1.0669093774788545,\n",
       " 145: 1.0669093774788545,\n",
       " 201: 1.0669093774788545,\n",
       " 266: 1.0669093774788545,\n",
       " 328: 1.0669093774788545,\n",
       " 243: 1.0669093774788545,\n",
       " 337: 1.0669093774788545,\n",
       " 340: 1.0669093774788545,\n",
       " 256: 1.0669093774788545,\n",
       " 352: 1.0669093774788545,\n",
       " 356: 1.0669093774788545,\n",
       " 211: 1.0669093774788545,\n",
       " 296: 1.0669093774788545,\n",
       " 146: 1.0669093774788545,\n",
       " 177: 1.0669093774788545,\n",
       " 271: 0.7112729183192363,\n",
       " 215: 0.7112729183192363,\n",
       " 321: 0.7112729183192363,\n",
       " 194: 0.7112729183192363,\n",
       " 267: 0.7112729183192363,\n",
       " 327: 0.7112729183192363,\n",
       " 330: 0.7112729183192363,\n",
       " 331: 0.7112729183192363,\n",
       " 332: 0.7112729183192363,\n",
       " 334: 0.7112729183192363,\n",
       " 338: 0.7112729183192363,\n",
       " 263: 0.7112729183192363,\n",
       " 341: 0.7112729183192363,\n",
       " 343: 0.7112729183192363,\n",
       " 345: 0.7112729183192363,\n",
       " 347: 0.7112729183192363,\n",
       " 293: 0.7112729183192363,\n",
       " 204: 0.7112729183192363,\n",
       " 357: 0.7112729183192363,\n",
       " 360: 0.7112729183192363,\n",
       " 361: 0.7112729183192363,\n",
       " 362: 0.7112729183192363,\n",
       " 369: 0.7112729183192363,\n",
       " 370: 0.7112729183192363,\n",
       " 64: 0.7112729183192363,\n",
       " 189: 0.7112729183192363,\n",
       " 298: 0.7112729183192363,\n",
       " 200: 0.7112729183192363,\n",
       " 228: 0.7112729183192363,\n",
       " 390: 0.7112729183192363,\n",
       " 196: 0.7112729183192363,\n",
       " 183: 0.7112729183192363,\n",
       " 300: 0.7112729183192363,\n",
       " 397: 0.7112729183192363,\n",
       " 398: 0.7112729183192363,\n",
       " 401: 0.7112729183192363,\n",
       " 403: 0.7112729183192363,\n",
       " 202: 0.7112729183192363,\n",
       " 407: 0.7112729183192363,\n",
       " 221: 0.7112729183192363,\n",
       " 414: 0.7112729183192363,\n",
       " 304: 0.35563645915961817,\n",
       " 358: 0.35563645915961817,\n",
       " 359: 0.35563645915961817,\n",
       " 335: 0.35563645915961817,\n",
       " 336: 0.35563645915961817,\n",
       " 238: 0.35563645915961817,\n",
       " 363: 0.35563645915961817,\n",
       " 364: 0.35563645915961817,\n",
       " 365: 0.35563645915961817,\n",
       " 224: 0.35563645915961817,\n",
       " 203: 0.35563645915961817,\n",
       " 368: 0.35563645915961817,\n",
       " 303: 0.35563645915961817,\n",
       " 339: 0.35563645915961817,\n",
       " 371: 0.35563645915961817,\n",
       " 230: 0.35563645915961817,\n",
       " 305: 0.35563645915961817,\n",
       " 297: 0.35563645915961817,\n",
       " 237: 0.35563645915961817,\n",
       " 229: 0.35563645915961817,\n",
       " 235: 0.35563645915961817,\n",
       " 306: 0.35563645915961817,\n",
       " 161: 0.35563645915961817,\n",
       " 216: 0.35563645915961817,\n",
       " 227: 0.35563645915961817,\n",
       " 233: 0.35563645915961817,\n",
       " 301: 0.35563645915961817,\n",
       " 292: 0.35563645915961817,\n",
       " 234: 0.35563645915961817,\n",
       " 218: 0.35563645915961817,\n",
       " 299: 0.35563645915961817,\n",
       " 388: 0.35563645915961817,\n",
       " 389: 0.35563645915961817,\n",
       " 231: 0.35563645915961817,\n",
       " 220: 0.35563645915961817,\n",
       " 100: 0.35563645915961817,\n",
       " 223: 0.35563645915961817,\n",
       " 232: 0.35563645915961817,\n",
       " 302: 0.35563645915961817,\n",
       " 222: 0.35563645915961817,\n",
       " 349: 0.35563645915961817,\n",
       " 294: 0.35563645915961817,\n",
       " 399: 0.35563645915961817,\n",
       " 226: 0.35563645915961817,\n",
       " 257: 0.35563645915961817,\n",
       " 402: 0.35563645915961817,\n",
       " 213: 0.35563645915961817,\n",
       " 353: 0.35563645915961817,\n",
       " 405: 0.35563645915961817,\n",
       " 262: 0.35563645915961817,\n",
       " 333: 0.35563645915961817,\n",
       " 408: 0.35563645915961817,\n",
       " 409: 0.35563645915961817,\n",
       " 410: 0.35563645915961817,\n",
       " 411: 0.35563645915961817,\n",
       " 412: 0.35563645915961817,\n",
       " 241: 0.35563645915961817,\n",
       " 214: 0.35563645915961817,\n",
       " 415: 0.35563645915961817,\n",
       " 206: 0.35563645915961817}"
      ]
     },
     "execution_count": 36,
     "metadata": {},
     "output_type": "execute_result"
    }
   ],
   "source": [
    "dict_com"
   ]
  },
  {
   "cell_type": "code",
   "execution_count": 37,
   "metadata": {},
   "outputs": [
    {
     "data": {
      "text/plain": [
       "935.0882492531997"
      ]
     },
     "execution_count": 37,
     "metadata": {},
     "output_type": "execute_result"
    }
   ],
   "source": [
    "dict_com[1]"
   ]
  },
  {
   "cell_type": "markdown",
   "metadata": {},
   "source": [
    "# Community-aware centrality 2: CBM - Community-based Mediator"
   ]
  },
  {
   "cell_type": "code",
   "execution_count": 38,
   "metadata": {},
   "outputs": [],
   "source": [
    "from CBMCode import *"
   ]
  },
  {
   "cell_type": "code",
   "execution_count": 39,
   "metadata": {
    "scrolled": true
   },
   "outputs": [],
   "source": [
    "dict_cbm = CBM(g, communities)"
   ]
  },
  {
   "cell_type": "code",
   "execution_count": 40,
   "metadata": {},
   "outputs": [
    {
     "data": {
      "text/plain": [
       "0.0012931880450018501"
      ]
     },
     "execution_count": 40,
     "metadata": {},
     "output_type": "execute_result"
    }
   ],
   "source": [
    "dict_cbm[1]"
   ]
  },
  {
   "cell_type": "markdown",
   "metadata": {},
   "source": [
    "# Community-aware centrality 3: Community Hub-Bridge centrality"
   ]
  },
  {
   "cell_type": "code",
   "execution_count": 44,
   "metadata": {},
   "outputs": [],
   "source": [
    "from CHBCode import *"
   ]
  },
  {
   "cell_type": "code",
   "execution_count": 45,
   "metadata": {},
   "outputs": [],
   "source": [
    "dict_chb = community_Hub_Bridge(g,communities)"
   ]
  },
  {
   "cell_type": "code",
   "execution_count": 47,
   "metadata": {},
   "outputs": [
    {
     "data": {
      "text/plain": [
       "0.7961630695443646"
      ]
     },
     "execution_count": 47,
     "metadata": {},
     "output_type": "execute_result"
    }
   ],
   "source": [
    "dict_chb[0]"
   ]
  },
  {
   "cell_type": "markdown",
   "metadata": {},
   "source": [
    "# Community-aware centrality 4: K-shell with community centrality"
   ]
  },
  {
   "cell_type": "code",
   "execution_count": 48,
   "metadata": {},
   "outputs": [],
   "source": [
    "from KshellWithCommunityCode import *"
   ]
  },
  {
   "cell_type": "code",
   "execution_count": 49,
   "metadata": {},
   "outputs": [
    {
     "data": {
      "text/plain": [
       "13.5"
      ]
     },
     "execution_count": 49,
     "metadata": {},
     "output_type": "execute_result"
    }
   ],
   "source": [
    "dict_kshell = kshell_community(g,g_intra_wo,g_inter,alpha=0.5)\n",
    "dict_kshell[1]"
   ]
  },
  {
   "cell_type": "markdown",
   "metadata": {},
   "source": [
    "# Community-aware centrality 5: Community Based Centrality "
   ]
  },
  {
   "cell_type": "code",
   "execution_count": 50,
   "metadata": {},
   "outputs": [],
   "source": [
    "from CommunityBasedCentralityCode import *"
   ]
  },
  {
   "cell_type": "code",
   "execution_count": 51,
   "metadata": {},
   "outputs": [],
   "source": [
    "dict_cbc = commmunityBasedCentrality(g, communities)"
   ]
  },
  {
   "cell_type": "code",
   "execution_count": 53,
   "metadata": {},
   "outputs": [
    {
     "data": {
      "text/plain": [
       "66.58273381294957"
      ]
     },
     "execution_count": 53,
     "metadata": {},
     "output_type": "execute_result"
    }
   ],
   "source": [
    "dict_cbc[1]"
   ]
  },
  {
   "cell_type": "markdown",
   "metadata": {},
   "source": [
    "# Community-aware centrality 6: Participation Coefficient"
   ]
  },
  {
   "cell_type": "code",
   "execution_count": 54,
   "metadata": {},
   "outputs": [],
   "source": [
    "import ParticipationCoefficientCode"
   ]
  },
  {
   "cell_type": "code",
   "execution_count": 55,
   "metadata": {},
   "outputs": [],
   "source": [
    "dict_pc = ParticipationCoefficientCode.getPCFinal(g, communities)"
   ]
  },
  {
   "cell_type": "code",
   "execution_count": 57,
   "metadata": {},
   "outputs": [
    {
     "data": {
      "text/plain": [
       "0.1649559231976815"
      ]
     },
     "execution_count": 57,
     "metadata": {},
     "output_type": "execute_result"
    }
   ],
   "source": [
    "dict_pc[1]"
   ]
  },
  {
   "cell_type": "code",
   "execution_count": null,
   "metadata": {},
   "outputs": [],
   "source": []
  },
  {
   "cell_type": "code",
   "execution_count": null,
   "metadata": {},
   "outputs": [],
   "source": []
  },
  {
   "cell_type": "code",
   "execution_count": null,
   "metadata": {},
   "outputs": [],
   "source": []
  }
 ],
 "metadata": {
  "kernelspec": {
   "display_name": "Python 3",
   "language": "python",
   "name": "python3"
  },
  "language_info": {
   "codemirror_mode": {
    "name": "ipython",
    "version": 3
   },
   "file_extension": ".py",
   "mimetype": "text/x-python",
   "name": "python",
   "nbconvert_exporter": "python",
   "pygments_lexer": "ipython3",
   "version": "3.8.8"
  },
  "toc": {
   "base_numbering": 1,
   "nav_menu": {},
   "number_sections": true,
   "sideBar": true,
   "skip_h1_title": false,
   "title_cell": "Table of Contents",
   "title_sidebar": "Contents",
   "toc_cell": false,
   "toc_position": {
    "height": "calc(100% - 180px)",
    "left": "10px",
    "top": "150px",
    "width": "316.181px"
   },
   "toc_section_display": true,
   "toc_window_display": true
  }
 },
 "nbformat": 4,
 "nbformat_minor": 4
}
